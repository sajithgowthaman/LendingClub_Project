{
 "cells": [
  {
   "cell_type": "markdown",
   "metadata": {
    "colab_type": "text",
    "id": "H6hw0exCkdaH"
   },
   "source": [
    "# Supervised Capstone - Customer's rating and review experience of Google Playstore \n",
    "\n",
    "\n",
    "\n",
    "For this capstone, we will consider a [dataset]('https://www.kaggle.com/gauthamp10/google-playstore-apps') taken from [kaggle]('www.kaggle.com').In order to find the relationship between the features of the applications against rating to see what application types stands out the most. The purpose of this supervised machine learning is to understand the effect of ratings on each application within the Google Play Store. We will divide the capstone in two groups, where first a model is built to rank our data accurately, and the other half will be used to predict and foresee by analysing the features of applications based on the ratings. This will be supported by visualizations from Seaborn and Matplot library to understand the project better."
   ]
  },
  {
   "cell_type": "code",
   "execution_count": 1,
   "metadata": {},
   "outputs": [
    {
     "name": "stdout",
     "output_type": "stream",
     "text": [
      "Requirement already satisfied: wordcloud in /Users/sajithgowthaman/opt/anaconda3/lib/python3.7/site-packages (1.6.0)\n",
      "Requirement already satisfied: numpy>=1.6.1 in /Users/sajithgowthaman/opt/anaconda3/lib/python3.7/site-packages (from wordcloud) (1.17.2)\n",
      "Requirement already satisfied: matplotlib in /Users/sajithgowthaman/opt/anaconda3/lib/python3.7/site-packages (from wordcloud) (3.1.1)\n",
      "Requirement already satisfied: pillow in /Users/sajithgowthaman/opt/anaconda3/lib/python3.7/site-packages (from wordcloud) (6.2.0)\n",
      "Requirement already satisfied: cycler>=0.10 in /Users/sajithgowthaman/opt/anaconda3/lib/python3.7/site-packages (from matplotlib->wordcloud) (0.10.0)\n",
      "Requirement already satisfied: kiwisolver>=1.0.1 in /Users/sajithgowthaman/opt/anaconda3/lib/python3.7/site-packages (from matplotlib->wordcloud) (1.1.0)\n",
      "Requirement already satisfied: pyparsing!=2.0.4,!=2.1.2,!=2.1.6,>=2.0.1 in /Users/sajithgowthaman/opt/anaconda3/lib/python3.7/site-packages (from matplotlib->wordcloud) (2.4.2)\n",
      "Requirement already satisfied: python-dateutil>=2.1 in /Users/sajithgowthaman/opt/anaconda3/lib/python3.7/site-packages (from matplotlib->wordcloud) (2.8.0)\n",
      "Requirement already satisfied: six in /Users/sajithgowthaman/opt/anaconda3/lib/python3.7/site-packages (from cycler>=0.10->matplotlib->wordcloud) (1.12.0)\n",
      "Requirement already satisfied: setuptools in /Users/sajithgowthaman/opt/anaconda3/lib/python3.7/site-packages (from kiwisolver>=1.0.1->matplotlib->wordcloud) (41.4.0)\n",
      "Note: you may need to restart the kernel to use updated packages.\n"
     ]
    }
   ],
   "source": [
    "pip install wordcloud"
   ]
  },
  {
   "cell_type": "code",
   "execution_count": 2,
   "metadata": {},
   "outputs": [
    {
     "name": "stdout",
     "output_type": "stream",
     "text": [
      "Requirement already satisfied: plotly==4.5.0 in /Users/sajithgowthaman/opt/anaconda3/lib/python3.7/site-packages (4.5.0)\n",
      "Requirement already satisfied: retrying>=1.3.3 in /Users/sajithgowthaman/opt/anaconda3/lib/python3.7/site-packages (from plotly==4.5.0) (1.3.3)\n",
      "Requirement already satisfied: six in /Users/sajithgowthaman/opt/anaconda3/lib/python3.7/site-packages (from plotly==4.5.0) (1.12.0)\n",
      "Note: you may need to restart the kernel to use updated packages.\n"
     ]
    }
   ],
   "source": [
    "pip install plotly==4.5.0"
   ]
  },
  {
   "cell_type": "code",
   "execution_count": 3,
   "metadata": {},
   "outputs": [
    {
     "name": "stdout",
     "output_type": "stream",
     "text": [
      "Requirement already satisfied: cufflinks in /Users/sajithgowthaman/opt/anaconda3/lib/python3.7/site-packages (0.17.0)\n",
      "Requirement already satisfied: pandas>=0.19.2 in /Users/sajithgowthaman/opt/anaconda3/lib/python3.7/site-packages (from cufflinks) (0.25.1)\n",
      "Requirement already satisfied: numpy>=1.9.2 in /Users/sajithgowthaman/opt/anaconda3/lib/python3.7/site-packages (from cufflinks) (1.17.2)\n",
      "Requirement already satisfied: colorlover>=0.2.1 in /Users/sajithgowthaman/opt/anaconda3/lib/python3.7/site-packages (from cufflinks) (0.3.0)\n",
      "Requirement already satisfied: six>=1.9.0 in /Users/sajithgowthaman/opt/anaconda3/lib/python3.7/site-packages (from cufflinks) (1.12.0)\n",
      "Requirement already satisfied: ipython>=5.3.0 in /Users/sajithgowthaman/opt/anaconda3/lib/python3.7/site-packages (from cufflinks) (7.8.0)\n",
      "Requirement already satisfied: setuptools>=34.4.1 in /Users/sajithgowthaman/opt/anaconda3/lib/python3.7/site-packages (from cufflinks) (41.4.0)\n",
      "Requirement already satisfied: ipywidgets>=7.0.0 in /Users/sajithgowthaman/opt/anaconda3/lib/python3.7/site-packages (from cufflinks) (7.5.1)\n",
      "Requirement already satisfied: chart-studio>=1.0.0 in /Users/sajithgowthaman/opt/anaconda3/lib/python3.7/site-packages (from cufflinks) (1.0.0)\n",
      "Requirement already satisfied: plotly>=4.1.1 in /Users/sajithgowthaman/opt/anaconda3/lib/python3.7/site-packages (from cufflinks) (4.5.0)\n",
      "Requirement already satisfied: pytz>=2017.2 in /Users/sajithgowthaman/opt/anaconda3/lib/python3.7/site-packages (from pandas>=0.19.2->cufflinks) (2019.3)\n",
      "Requirement already satisfied: python-dateutil>=2.6.1 in /Users/sajithgowthaman/opt/anaconda3/lib/python3.7/site-packages (from pandas>=0.19.2->cufflinks) (2.8.0)\n",
      "Requirement already satisfied: backcall in /Users/sajithgowthaman/opt/anaconda3/lib/python3.7/site-packages (from ipython>=5.3.0->cufflinks) (0.1.0)\n",
      "Requirement already satisfied: jedi>=0.10 in /Users/sajithgowthaman/opt/anaconda3/lib/python3.7/site-packages (from ipython>=5.3.0->cufflinks) (0.15.1)\n",
      "Requirement already satisfied: pickleshare in /Users/sajithgowthaman/opt/anaconda3/lib/python3.7/site-packages (from ipython>=5.3.0->cufflinks) (0.7.5)\n",
      "Requirement already satisfied: traitlets>=4.2 in /Users/sajithgowthaman/opt/anaconda3/lib/python3.7/site-packages (from ipython>=5.3.0->cufflinks) (4.3.3)\n",
      "Requirement already satisfied: appnope; sys_platform == \"darwin\" in /Users/sajithgowthaman/opt/anaconda3/lib/python3.7/site-packages (from ipython>=5.3.0->cufflinks) (0.1.0)\n",
      "Requirement already satisfied: pygments in /Users/sajithgowthaman/opt/anaconda3/lib/python3.7/site-packages (from ipython>=5.3.0->cufflinks) (2.4.2)\n",
      "Requirement already satisfied: decorator in /Users/sajithgowthaman/opt/anaconda3/lib/python3.7/site-packages (from ipython>=5.3.0->cufflinks) (4.4.0)\n",
      "Requirement already satisfied: pexpect; sys_platform != \"win32\" in /Users/sajithgowthaman/opt/anaconda3/lib/python3.7/site-packages (from ipython>=5.3.0->cufflinks) (4.7.0)\n",
      "Requirement already satisfied: prompt-toolkit<2.1.0,>=2.0.0 in /Users/sajithgowthaman/opt/anaconda3/lib/python3.7/site-packages (from ipython>=5.3.0->cufflinks) (2.0.10)\n",
      "Requirement already satisfied: ipykernel>=4.5.1 in /Users/sajithgowthaman/opt/anaconda3/lib/python3.7/site-packages (from ipywidgets>=7.0.0->cufflinks) (5.1.2)\n",
      "Requirement already satisfied: widgetsnbextension~=3.5.0 in /Users/sajithgowthaman/opt/anaconda3/lib/python3.7/site-packages (from ipywidgets>=7.0.0->cufflinks) (3.5.1)\n",
      "Requirement already satisfied: nbformat>=4.2.0 in /Users/sajithgowthaman/opt/anaconda3/lib/python3.7/site-packages (from ipywidgets>=7.0.0->cufflinks) (4.4.0)\n",
      "Requirement already satisfied: requests in /Users/sajithgowthaman/opt/anaconda3/lib/python3.7/site-packages (from chart-studio>=1.0.0->cufflinks) (2.22.0)\n",
      "Requirement already satisfied: retrying>=1.3.3 in /Users/sajithgowthaman/opt/anaconda3/lib/python3.7/site-packages (from chart-studio>=1.0.0->cufflinks) (1.3.3)\n",
      "Requirement already satisfied: parso>=0.5.0 in /Users/sajithgowthaman/opt/anaconda3/lib/python3.7/site-packages (from jedi>=0.10->ipython>=5.3.0->cufflinks) (0.5.1)\n",
      "Requirement already satisfied: ipython-genutils in /Users/sajithgowthaman/opt/anaconda3/lib/python3.7/site-packages (from traitlets>=4.2->ipython>=5.3.0->cufflinks) (0.2.0)\n",
      "Requirement already satisfied: ptyprocess>=0.5 in /Users/sajithgowthaman/opt/anaconda3/lib/python3.7/site-packages (from pexpect; sys_platform != \"win32\"->ipython>=5.3.0->cufflinks) (0.6.0)\n",
      "Requirement already satisfied: wcwidth in /Users/sajithgowthaman/opt/anaconda3/lib/python3.7/site-packages (from prompt-toolkit<2.1.0,>=2.0.0->ipython>=5.3.0->cufflinks) (0.1.7)\n",
      "Requirement already satisfied: tornado>=4.2 in /Users/sajithgowthaman/opt/anaconda3/lib/python3.7/site-packages (from ipykernel>=4.5.1->ipywidgets>=7.0.0->cufflinks) (6.0.3)\n",
      "Requirement already satisfied: jupyter-client in /Users/sajithgowthaman/opt/anaconda3/lib/python3.7/site-packages (from ipykernel>=4.5.1->ipywidgets>=7.0.0->cufflinks) (5.3.3)\n",
      "Requirement already satisfied: notebook>=4.4.1 in /Users/sajithgowthaman/opt/anaconda3/lib/python3.7/site-packages (from widgetsnbextension~=3.5.0->ipywidgets>=7.0.0->cufflinks) (6.0.1)\n",
      "Requirement already satisfied: jsonschema!=2.5.0,>=2.4 in /Users/sajithgowthaman/opt/anaconda3/lib/python3.7/site-packages (from nbformat>=4.2.0->ipywidgets>=7.0.0->cufflinks) (3.0.2)\n",
      "Requirement already satisfied: jupyter-core in /Users/sajithgowthaman/opt/anaconda3/lib/python3.7/site-packages (from nbformat>=4.2.0->ipywidgets>=7.0.0->cufflinks) (4.5.0)\n",
      "Requirement already satisfied: certifi>=2017.4.17 in /Users/sajithgowthaman/opt/anaconda3/lib/python3.7/site-packages (from requests->chart-studio>=1.0.0->cufflinks) (2019.9.11)\n",
      "Requirement already satisfied: idna<2.9,>=2.5 in /Users/sajithgowthaman/opt/anaconda3/lib/python3.7/site-packages (from requests->chart-studio>=1.0.0->cufflinks) (2.8)\n",
      "Requirement already satisfied: urllib3!=1.25.0,!=1.25.1,<1.26,>=1.21.1 in /Users/sajithgowthaman/opt/anaconda3/lib/python3.7/site-packages (from requests->chart-studio>=1.0.0->cufflinks) (1.24.2)\n",
      "Requirement already satisfied: chardet<3.1.0,>=3.0.2 in /Users/sajithgowthaman/opt/anaconda3/lib/python3.7/site-packages (from requests->chart-studio>=1.0.0->cufflinks) (3.0.4)\n",
      "Requirement already satisfied: pyzmq>=13 in /Users/sajithgowthaman/opt/anaconda3/lib/python3.7/site-packages (from jupyter-client->ipykernel>=4.5.1->ipywidgets>=7.0.0->cufflinks) (18.1.0)\n",
      "Requirement already satisfied: prometheus-client in /Users/sajithgowthaman/opt/anaconda3/lib/python3.7/site-packages (from notebook>=4.4.1->widgetsnbextension~=3.5.0->ipywidgets>=7.0.0->cufflinks) (0.7.1)\n",
      "Requirement already satisfied: nbconvert in /Users/sajithgowthaman/opt/anaconda3/lib/python3.7/site-packages (from notebook>=4.4.1->widgetsnbextension~=3.5.0->ipywidgets>=7.0.0->cufflinks) (5.6.0)\n",
      "Requirement already satisfied: terminado>=0.8.1 in /Users/sajithgowthaman/opt/anaconda3/lib/python3.7/site-packages (from notebook>=4.4.1->widgetsnbextension~=3.5.0->ipywidgets>=7.0.0->cufflinks) (0.8.2)\n",
      "Requirement already satisfied: jinja2 in /Users/sajithgowthaman/opt/anaconda3/lib/python3.7/site-packages (from notebook>=4.4.1->widgetsnbextension~=3.5.0->ipywidgets>=7.0.0->cufflinks) (2.10.3)\n",
      "Requirement already satisfied: Send2Trash in /Users/sajithgowthaman/opt/anaconda3/lib/python3.7/site-packages (from notebook>=4.4.1->widgetsnbextension~=3.5.0->ipywidgets>=7.0.0->cufflinks) (1.5.0)\n",
      "Requirement already satisfied: pyrsistent>=0.14.0 in /Users/sajithgowthaman/opt/anaconda3/lib/python3.7/site-packages (from jsonschema!=2.5.0,>=2.4->nbformat>=4.2.0->ipywidgets>=7.0.0->cufflinks) (0.15.4)\n",
      "Requirement already satisfied: attrs>=17.4.0 in /Users/sajithgowthaman/opt/anaconda3/lib/python3.7/site-packages (from jsonschema!=2.5.0,>=2.4->nbformat>=4.2.0->ipywidgets>=7.0.0->cufflinks) (19.2.0)\n",
      "Requirement already satisfied: pandocfilters>=1.4.1 in /Users/sajithgowthaman/opt/anaconda3/lib/python3.7/site-packages (from nbconvert->notebook>=4.4.1->widgetsnbextension~=3.5.0->ipywidgets>=7.0.0->cufflinks) (1.4.2)\n",
      "Requirement already satisfied: testpath in /Users/sajithgowthaman/opt/anaconda3/lib/python3.7/site-packages (from nbconvert->notebook>=4.4.1->widgetsnbextension~=3.5.0->ipywidgets>=7.0.0->cufflinks) (0.4.2)\n",
      "Requirement already satisfied: mistune<2,>=0.8.1 in /Users/sajithgowthaman/opt/anaconda3/lib/python3.7/site-packages (from nbconvert->notebook>=4.4.1->widgetsnbextension~=3.5.0->ipywidgets>=7.0.0->cufflinks) (0.8.4)\n",
      "Requirement already satisfied: entrypoints>=0.2.2 in /Users/sajithgowthaman/opt/anaconda3/lib/python3.7/site-packages (from nbconvert->notebook>=4.4.1->widgetsnbextension~=3.5.0->ipywidgets>=7.0.0->cufflinks) (0.3)\n",
      "Requirement already satisfied: defusedxml in /Users/sajithgowthaman/opt/anaconda3/lib/python3.7/site-packages (from nbconvert->notebook>=4.4.1->widgetsnbextension~=3.5.0->ipywidgets>=7.0.0->cufflinks) (0.6.0)\n",
      "Requirement already satisfied: bleach in /Users/sajithgowthaman/opt/anaconda3/lib/python3.7/site-packages (from nbconvert->notebook>=4.4.1->widgetsnbextension~=3.5.0->ipywidgets>=7.0.0->cufflinks) (3.1.0)\n",
      "Requirement already satisfied: MarkupSafe>=0.23 in /Users/sajithgowthaman/opt/anaconda3/lib/python3.7/site-packages (from jinja2->notebook>=4.4.1->widgetsnbextension~=3.5.0->ipywidgets>=7.0.0->cufflinks) (1.1.1)\n",
      "Requirement already satisfied: webencodings in /Users/sajithgowthaman/opt/anaconda3/lib/python3.7/site-packages (from bleach->nbconvert->notebook>=4.4.1->widgetsnbextension~=3.5.0->ipywidgets>=7.0.0->cufflinks) (0.5.1)\n"
     ]
    },
    {
     "name": "stdout",
     "output_type": "stream",
     "text": [
      "Note: you may need to restart the kernel to use updated packages.\n"
     ]
    }
   ],
   "source": [
    "pip install cufflinks"
   ]
  },
  {
   "cell_type": "code",
   "execution_count": 4,
   "metadata": {
    "colab": {},
    "colab_type": "code",
    "id": "pwNxLzJQkdaV"
   },
   "outputs": [
    {
     "data": {
      "text/html": [
       "        <script type=\"text/javascript\">\n",
       "        window.PlotlyConfig = {MathJaxConfig: 'local'};\n",
       "        if (window.MathJax) {MathJax.Hub.Config({SVG: {font: \"STIX-Web\"}});}\n",
       "        if (typeof require !== 'undefined') {\n",
       "        require.undef(\"plotly\");\n",
       "        requirejs.config({\n",
       "            paths: {\n",
       "                'plotly': ['https://cdn.plot.ly/plotly-latest.min']\n",
       "            }\n",
       "        });\n",
       "        require(['plotly'], function(Plotly) {\n",
       "            window._Plotly = Plotly;\n",
       "        });\n",
       "        }\n",
       "        </script>\n",
       "        "
      ]
     },
     "metadata": {},
     "output_type": "display_data"
    }
   ],
   "source": [
    "import pandas as pd\n",
    "import numpy as np\n",
    "import matplotlib.pyplot as plt\n",
    "import seaborn as sns\n",
    "%matplotlib inline\n",
    "import matplotlib.pyplot as plt\n",
    "%matplotlib inline\n",
    "from plotly.offline import download_plotlyjs, init_notebook_mode, iplot\n",
    "import cufflinks as cf\n",
    "cf.go_offline()\n",
    "import datetime\n",
    "from sklearn import preprocessing"
   ]
  },
  {
   "cell_type": "code",
   "execution_count": 5,
   "metadata": {
    "colab": {},
    "colab_type": "code",
    "id": "WE-lwPMKkdar",
    "outputId": "98e59ae3-bfa1-4b0f-ffd4-9fd806b084d8"
   },
   "outputs": [
    {
     "data": {
      "text/html": [
       "<div>\n",
       "<style scoped>\n",
       "    .dataframe tbody tr th:only-of-type {\n",
       "        vertical-align: middle;\n",
       "    }\n",
       "\n",
       "    .dataframe tbody tr th {\n",
       "        vertical-align: top;\n",
       "    }\n",
       "\n",
       "    .dataframe thead th {\n",
       "        text-align: right;\n",
       "    }\n",
       "</style>\n",
       "<table border=\"1\" class=\"dataframe\">\n",
       "  <thead>\n",
       "    <tr style=\"text-align: right;\">\n",
       "      <th></th>\n",
       "      <th>App Name</th>\n",
       "      <th>Category</th>\n",
       "      <th>Rating</th>\n",
       "      <th>Reviews</th>\n",
       "      <th>Installs</th>\n",
       "      <th>Size</th>\n",
       "      <th>Price</th>\n",
       "      <th>Content Rating</th>\n",
       "      <th>Last Updated</th>\n",
       "      <th>Minimum Version</th>\n",
       "      <th>Latest Version</th>\n",
       "    </tr>\n",
       "  </thead>\n",
       "  <tbody>\n",
       "    <tr>\n",
       "      <td>0</td>\n",
       "      <td>DoorDash - Food Delivery</td>\n",
       "      <td>FOOD_AND_DRINK</td>\n",
       "      <td>4.548561573</td>\n",
       "      <td>305034.0</td>\n",
       "      <td>5,000,000+</td>\n",
       "      <td>Varies with device</td>\n",
       "      <td>0</td>\n",
       "      <td>Everyone</td>\n",
       "      <td>March 29, 2019</td>\n",
       "      <td>Varies with device</td>\n",
       "      <td>Varies with device</td>\n",
       "    </tr>\n",
       "    <tr>\n",
       "      <td>1</td>\n",
       "      <td>TripAdvisor Hotels Flights Restaurants Attract...</td>\n",
       "      <td>TRAVEL_AND_LOCAL</td>\n",
       "      <td>4.400671482</td>\n",
       "      <td>1207922.0</td>\n",
       "      <td>100,000,000+</td>\n",
       "      <td>Varies with device</td>\n",
       "      <td>0</td>\n",
       "      <td>Everyone</td>\n",
       "      <td>March 29, 2019</td>\n",
       "      <td>Varies with device</td>\n",
       "      <td>Varies with device</td>\n",
       "    </tr>\n",
       "    <tr>\n",
       "      <td>2</td>\n",
       "      <td>Peapod</td>\n",
       "      <td>SHOPPING</td>\n",
       "      <td>3.656329393</td>\n",
       "      <td>1967.0</td>\n",
       "      <td>100,000+</td>\n",
       "      <td>1.4M</td>\n",
       "      <td>0</td>\n",
       "      <td>Everyone</td>\n",
       "      <td>September 20, 2018</td>\n",
       "      <td>5.0 and up</td>\n",
       "      <td>2.2.0</td>\n",
       "    </tr>\n",
       "    <tr>\n",
       "      <td>3</td>\n",
       "      <td>foodpanda - Local Food Delivery</td>\n",
       "      <td>FOOD_AND_DRINK</td>\n",
       "      <td>4.107232571</td>\n",
       "      <td>389154.0</td>\n",
       "      <td>10,000,000+</td>\n",
       "      <td>16M</td>\n",
       "      <td>0</td>\n",
       "      <td>Everyone</td>\n",
       "      <td>March 22, 2019</td>\n",
       "      <td>4.2 and up</td>\n",
       "      <td>4.18.2</td>\n",
       "    </tr>\n",
       "    <tr>\n",
       "      <td>4</td>\n",
       "      <td>My CookBook Pro (Ad Free)</td>\n",
       "      <td>FOOD_AND_DRINK</td>\n",
       "      <td>4.647752285</td>\n",
       "      <td>2291.0</td>\n",
       "      <td>10,000+</td>\n",
       "      <td>Varies with device</td>\n",
       "      <td>$5.99</td>\n",
       "      <td>Everyone</td>\n",
       "      <td>April 1, 2019</td>\n",
       "      <td>Varies with device</td>\n",
       "      <td>Varies with device</td>\n",
       "    </tr>\n",
       "  </tbody>\n",
       "</table>\n",
       "</div>"
      ],
      "text/plain": [
       "                                            App Name          Category  \\\n",
       "0                           DoorDash - Food Delivery    FOOD_AND_DRINK   \n",
       "1  TripAdvisor Hotels Flights Restaurants Attract...  TRAVEL_AND_LOCAL   \n",
       "2                                             Peapod          SHOPPING   \n",
       "3                    foodpanda - Local Food Delivery    FOOD_AND_DRINK   \n",
       "4                          My CookBook Pro (Ad Free)    FOOD_AND_DRINK   \n",
       "\n",
       "        Rating    Reviews      Installs                Size  Price  \\\n",
       "0  4.548561573   305034.0    5,000,000+  Varies with device      0   \n",
       "1  4.400671482  1207922.0  100,000,000+  Varies with device      0   \n",
       "2  3.656329393     1967.0      100,000+                1.4M      0   \n",
       "3  4.107232571   389154.0   10,000,000+                 16M      0   \n",
       "4  4.647752285     2291.0       10,000+  Varies with device  $5.99   \n",
       "\n",
       "  Content Rating        Last Updated     Minimum Version      Latest Version  \n",
       "0       Everyone      March 29, 2019  Varies with device  Varies with device  \n",
       "1       Everyone      March 29, 2019  Varies with device  Varies with device  \n",
       "2       Everyone  September 20, 2018          5.0 and up               2.2.0  \n",
       "3       Everyone      March 22, 2019          4.2 and up              4.18.2  \n",
       "4       Everyone       April 1, 2019  Varies with device  Varies with device  "
      ]
     },
     "execution_count": 5,
     "metadata": {},
     "output_type": "execute_result"
    }
   ],
   "source": [
    "google_df = pd.read_csv(\"Google-Playstore-32K.csv\")\n",
    "google_df.head()"
   ]
  },
  {
   "cell_type": "code",
   "execution_count": 6,
   "metadata": {},
   "outputs": [
    {
     "name": "stdout",
     "output_type": "stream",
     "text": [
      "<class 'pandas.core.frame.DataFrame'>\n",
      "RangeIndex: 32000 entries, 0 to 31999\n",
      "Data columns (total 11 columns):\n",
      "App Name           32000 non-null object\n",
      "Category           32000 non-null object\n",
      "Rating             32000 non-null object\n",
      "Reviews            31999 non-null float64\n",
      "Installs           32000 non-null object\n",
      "Size               32000 non-null object\n",
      "Price              32000 non-null object\n",
      "Content Rating     32000 non-null object\n",
      "Last Updated       32000 non-null object\n",
      "Minimum Version    32000 non-null object\n",
      "Latest Version     31999 non-null object\n",
      "dtypes: float64(1), object(10)\n",
      "memory usage: 2.7+ MB\n"
     ]
    }
   ],
   "source": [
    "google_df.info()"
   ]
  },
  {
   "cell_type": "code",
   "execution_count": 7,
   "metadata": {},
   "outputs": [],
   "source": [
    "google_df.columns = google_df.columns.str.replace(' ', '_')\n",
    "google_df.columns = google_df.columns.str.replace('-','_')\n",
    "google_df.columns = google_df.columns.str.rstrip()\n",
    "google_df.columns = google_df.columns.str.lstrip()\n",
    "google_df.columns = google_df.columns.str.replace('/','_')"
   ]
  },
  {
   "cell_type": "markdown",
   "metadata": {
    "colab_type": "text",
    "id": "_v_rQUZdkda_"
   },
   "source": [
    "## Data Cleaning"
   ]
  },
  {
   "cell_type": "code",
   "execution_count": 8,
   "metadata": {
    "colab": {},
    "colab_type": "code",
    "id": "1MS5lgf-kdbE",
    "outputId": "cfe99116-000d-4ddd-8f1d-318e23340c70"
   },
   "outputs": [
    {
     "name": "stdout",
     "output_type": "stream",
     "text": [
      "<class 'pandas.core.frame.DataFrame'>\n",
      "RangeIndex: 32000 entries, 0 to 31999\n",
      "Data columns (total 11 columns):\n",
      "App_Name           32000 non-null object\n",
      "Category           32000 non-null object\n",
      "Rating             32000 non-null object\n",
      "Reviews            31999 non-null float64\n",
      "Installs           32000 non-null object\n",
      "Size               32000 non-null object\n",
      "Price              32000 non-null object\n",
      "Content_Rating     32000 non-null object\n",
      "Last_Updated       32000 non-null object\n",
      "Minimum_Version    32000 non-null object\n",
      "Latest_Version     31999 non-null object\n",
      "dtypes: float64(1), object(10)\n",
      "memory usage: 2.7+ MB\n"
     ]
    }
   ],
   "source": [
    "google_df.info()"
   ]
  },
  {
   "cell_type": "markdown",
   "metadata": {
    "colab_type": "text",
    "id": "aufdhfupkdbS"
   },
   "source": [
    "### understanding the data: \n",
    "we can drop the columns that are of not much use to us. Also, we notice a high number of objects which can be converted to floats for machine learning purpose."
   ]
  },
  {
   "cell_type": "code",
   "execution_count": 9,
   "metadata": {
    "colab": {},
    "colab_type": "code",
    "id": "Vfztw9dxkdbX"
   },
   "outputs": [],
   "source": [
    "google_df.drop(['App_Name', 'Last_Updated','Latest_Version','Minimum_Version'], inplace=True, axis = 1)"
   ]
  },
  {
   "cell_type": "markdown",
   "metadata": {
    "colab_type": "text",
    "id": "1YkiOUb1kdbl"
   },
   "source": [
    "### Renaming the columns names to a format that can be used to acquire the median for machine learning purpose."
   ]
  },
  {
   "cell_type": "code",
   "execution_count": 10,
   "metadata": {
    "colab": {},
    "colab_type": "code",
    "id": "220qXY5gkdbp"
   },
   "outputs": [],
   "source": [
    "googe_df = google_df.rename(index =str, columns={'Content Rating': 'Content_Rating', 'App Name':'App'})"
   ]
  },
  {
   "cell_type": "code",
   "execution_count": 11,
   "metadata": {
    "colab": {},
    "colab_type": "code",
    "id": "e0aDde9Ikdb5"
   },
   "outputs": [],
   "source": [
    "google_df.dropna(inplace = True)"
   ]
  },
  {
   "cell_type": "markdown",
   "metadata": {
    "colab_type": "text",
    "id": "3l4BvUb3kdcF"
   },
   "source": [
    "## Reviews"
   ]
  },
  {
   "cell_type": "code",
   "execution_count": 12,
   "metadata": {
    "colab": {},
    "colab_type": "code",
    "id": "tZGEuN_lkdcJ"
   },
   "outputs": [
    {
     "data": {
      "text/plain": [
       "array([ 305034., 1207922.,    1967., ...,   11214.,   14039.,    1796.])"
      ]
     },
     "execution_count": 12,
     "metadata": {},
     "output_type": "execute_result"
    }
   ],
   "source": [
    "google_df.Reviews.unique()"
   ]
  },
  {
   "cell_type": "code",
   "execution_count": 13,
   "metadata": {
    "colab": {},
    "colab_type": "code",
    "id": "06EAwTd0kdcY",
    "outputId": "0ebeef55-18fd-4274-f42f-7e833489b874"
   },
   "outputs": [
    {
     "data": {
      "text/plain": [
       "1463.0"
      ]
     },
     "execution_count": 13,
     "metadata": {},
     "output_type": "execute_result"
    }
   ],
   "source": [
    "import statistics\n",
    "statistics.median(google_df['Reviews'])"
   ]
  },
  {
   "cell_type": "markdown",
   "metadata": {
    "colab_type": "text",
    "id": "FuqbOjJ0kdco"
   },
   "source": [
    "### Rating"
   ]
  },
  {
   "cell_type": "code",
   "execution_count": 14,
   "metadata": {
    "colab": {},
    "colab_type": "code",
    "id": "jRUuW0inkdcv",
    "outputId": "ec311037-e447-454f-e8a7-8b1268cc1358"
   },
   "outputs": [
    {
     "data": {
      "text/plain": [
       "array(['4.548561573', '4.400671482', '3.656329393', ..., '3.521126747',\n",
       "       '3.994588852', '4.224199295'], dtype=object)"
      ]
     },
     "execution_count": 14,
     "metadata": {},
     "output_type": "execute_result"
    }
   ],
   "source": [
    "google_df['Rating'].unique()"
   ]
  },
  {
   "cell_type": "code",
   "execution_count": 15,
   "metadata": {},
   "outputs": [
    {
     "name": "stdout",
     "output_type": "stream",
     "text": [
      "These are the problematic values for the variable: Rating\n",
      "GAME_STRATEGY\n",
      "NEWS_AND_MAGAZINES\n"
     ]
    }
   ],
   "source": [
    "## Let's get the values that cannot be converted to float.\n",
    "for column_name in [\"Rating\"]:\n",
    "    print(\"These are the problematic values for the variable: {}\".format(column_name))\n",
    "    for value in google_df[column_name]:\n",
    "        try:\n",
    "            float(value)\n",
    "        except:\n",
    "            print(value)"
   ]
  },
  {
   "cell_type": "code",
   "execution_count": 16,
   "metadata": {},
   "outputs": [],
   "source": [
    "google_df.Rating = google_df.Rating.replace('GAME_STRATEGY', np.nan).replace('NEWS_AND_MAGAZINES', np.nan)"
   ]
  },
  {
   "cell_type": "code",
   "execution_count": 17,
   "metadata": {},
   "outputs": [],
   "source": [
    "google_df.Rating = pd.to_numeric(google_df[\"Rating\"], errors = 'coerce')\n",
    "google_df[\"Rating\"].fillna(google_df[\"Rating\"].mean(), inplace = True)"
   ]
  },
  {
   "cell_type": "code",
   "execution_count": 18,
   "metadata": {},
   "outputs": [],
   "source": [
    "# Rounding the Rating column by two decimals.\n",
    "google_df.Rating = google_df.Rating.round()"
   ]
  },
  {
   "cell_type": "code",
   "execution_count": 19,
   "metadata": {},
   "outputs": [
    {
     "data": {
      "text/html": [
       "<div>\n",
       "<style scoped>\n",
       "    .dataframe tbody tr th:only-of-type {\n",
       "        vertical-align: middle;\n",
       "    }\n",
       "\n",
       "    .dataframe tbody tr th {\n",
       "        vertical-align: top;\n",
       "    }\n",
       "\n",
       "    .dataframe thead th {\n",
       "        text-align: right;\n",
       "    }\n",
       "</style>\n",
       "<table border=\"1\" class=\"dataframe\">\n",
       "  <thead>\n",
       "    <tr style=\"text-align: right;\">\n",
       "      <th></th>\n",
       "      <th>Category</th>\n",
       "      <th>Rating</th>\n",
       "      <th>Reviews</th>\n",
       "      <th>Installs</th>\n",
       "      <th>Size</th>\n",
       "      <th>Price</th>\n",
       "      <th>Content_Rating</th>\n",
       "    </tr>\n",
       "  </thead>\n",
       "  <tbody>\n",
       "    <tr>\n",
       "      <td>0</td>\n",
       "      <td>FOOD_AND_DRINK</td>\n",
       "      <td>5.0</td>\n",
       "      <td>305034.0</td>\n",
       "      <td>5,000,000+</td>\n",
       "      <td>Varies with device</td>\n",
       "      <td>0</td>\n",
       "      <td>Everyone</td>\n",
       "    </tr>\n",
       "    <tr>\n",
       "      <td>1</td>\n",
       "      <td>TRAVEL_AND_LOCAL</td>\n",
       "      <td>4.0</td>\n",
       "      <td>1207922.0</td>\n",
       "      <td>100,000,000+</td>\n",
       "      <td>Varies with device</td>\n",
       "      <td>0</td>\n",
       "      <td>Everyone</td>\n",
       "    </tr>\n",
       "    <tr>\n",
       "      <td>2</td>\n",
       "      <td>SHOPPING</td>\n",
       "      <td>4.0</td>\n",
       "      <td>1967.0</td>\n",
       "      <td>100,000+</td>\n",
       "      <td>1.4M</td>\n",
       "      <td>0</td>\n",
       "      <td>Everyone</td>\n",
       "    </tr>\n",
       "    <tr>\n",
       "      <td>3</td>\n",
       "      <td>FOOD_AND_DRINK</td>\n",
       "      <td>4.0</td>\n",
       "      <td>389154.0</td>\n",
       "      <td>10,000,000+</td>\n",
       "      <td>16M</td>\n",
       "      <td>0</td>\n",
       "      <td>Everyone</td>\n",
       "    </tr>\n",
       "    <tr>\n",
       "      <td>4</td>\n",
       "      <td>FOOD_AND_DRINK</td>\n",
       "      <td>5.0</td>\n",
       "      <td>2291.0</td>\n",
       "      <td>10,000+</td>\n",
       "      <td>Varies with device</td>\n",
       "      <td>$5.99</td>\n",
       "      <td>Everyone</td>\n",
       "    </tr>\n",
       "  </tbody>\n",
       "</table>\n",
       "</div>"
      ],
      "text/plain": [
       "           Category  Rating    Reviews      Installs                Size  \\\n",
       "0    FOOD_AND_DRINK     5.0   305034.0    5,000,000+  Varies with device   \n",
       "1  TRAVEL_AND_LOCAL     4.0  1207922.0  100,000,000+  Varies with device   \n",
       "2          SHOPPING     4.0     1967.0      100,000+                1.4M   \n",
       "3    FOOD_AND_DRINK     4.0   389154.0   10,000,000+                 16M   \n",
       "4    FOOD_AND_DRINK     5.0     2291.0       10,000+  Varies with device   \n",
       "\n",
       "   Price Content_Rating  \n",
       "0      0       Everyone  \n",
       "1      0       Everyone  \n",
       "2      0       Everyone  \n",
       "3      0       Everyone  \n",
       "4  $5.99       Everyone  "
      ]
     },
     "execution_count": 19,
     "metadata": {},
     "output_type": "execute_result"
    }
   ],
   "source": [
    "google_df.head()"
   ]
  },
  {
   "cell_type": "code",
   "execution_count": 20,
   "metadata": {
    "colab": {},
    "colab_type": "code",
    "id": "rnkGoIcIkddL",
    "outputId": "c70637b2-8054-41f3-c715-f50755fdda6e"
   },
   "outputs": [
    {
     "name": "stdout",
     "output_type": "stream",
     "text": [
      "The median of Rating is: 4.0\n"
     ]
    }
   ],
   "source": [
    "import statistics\n",
    "\n",
    "statistics.median(google_df['Rating'])\n",
    "print('The median of Rating is: {}'.format(statistics.median(google_df['Rating'])))"
   ]
  },
  {
   "cell_type": "code",
   "execution_count": 21,
   "metadata": {},
   "outputs": [
    {
     "data": {
      "text/plain": [
       "array([5., 4., 3., 2., 1.])"
      ]
     },
     "execution_count": 21,
     "metadata": {},
     "output_type": "execute_result"
    }
   ],
   "source": [
    "google_df.Rating.unique()"
   ]
  },
  {
   "cell_type": "code",
   "execution_count": 22,
   "metadata": {},
   "outputs": [
    {
     "name": "stdout",
     "output_type": "stream",
     "text": [
      "<class 'pandas.core.frame.DataFrame'>\n",
      "Int64Index: 31999 entries, 0 to 31999\n",
      "Data columns (total 7 columns):\n",
      "Category          31999 non-null object\n",
      "Rating            31999 non-null float64\n",
      "Reviews           31999 non-null float64\n",
      "Installs          31999 non-null object\n",
      "Size              31999 non-null object\n",
      "Price             31999 non-null object\n",
      "Content_Rating    31999 non-null object\n",
      "dtypes: float64(2), object(5)\n",
      "memory usage: 2.0+ MB\n"
     ]
    }
   ],
   "source": [
    "google_df.info()"
   ]
  },
  {
   "cell_type": "markdown",
   "metadata": {
    "colab_type": "text",
    "id": "olKzRsFgkdda"
   },
   "source": [
    "### Price"
   ]
  },
  {
   "cell_type": "code",
   "execution_count": 23,
   "metadata": {
    "colab": {},
    "colab_type": "code",
    "id": "66VHU3ftkdde",
    "outputId": "9e9a0ca3-540b-4970-9397-832135ebe412"
   },
   "outputs": [],
   "source": [
    "# The \"Price\" column consists of a string named 'Varies with device' and '2.4M'\n",
    "# Let's fill the string with na. It is not practical for an application to cost 2.4 million.\n",
    "\n",
    "\n",
    "google_df.Price = google_df.Price.str.strip(\"$\")"
   ]
  },
  {
   "cell_type": "code",
   "execution_count": 24,
   "metadata": {},
   "outputs": [
    {
     "data": {
      "text/plain": [
       "0           0\n",
       "1           0\n",
       "2           0\n",
       "3           0\n",
       "4        5.99\n",
       "         ... \n",
       "31995       0\n",
       "31996       0\n",
       "31997       0\n",
       "31998       0\n",
       "31999       0\n",
       "Name: Price, Length: 31999, dtype: object"
      ]
     },
     "execution_count": 24,
     "metadata": {},
     "output_type": "execute_result"
    }
   ],
   "source": [
    "google_df.Price"
   ]
  },
  {
   "cell_type": "code",
   "execution_count": 25,
   "metadata": {},
   "outputs": [],
   "source": [
    "# Let's replace the missing values by taking the mean.\n",
    "\n",
    "google_df.Price = pd.to_numeric(google_df[\"Price\"], errors='coerce')\n",
    "\n",
    "google_df[\"Price\"].fillna(google_df[\"Price\"].mean(), inplace = True)"
   ]
  },
  {
   "cell_type": "code",
   "execution_count": 26,
   "metadata": {},
   "outputs": [
    {
     "data": {
      "text/plain": [
       "array([0.00000000e+00, 5.99000000e+00, 2.99000000e+00, 1.99000000e+00,\n",
       "       6.99000000e+00, 4.99000000e+00, 3.99000000e+00, 9.99000000e+00,\n",
       "       9.90000000e-01, 3.49000000e+00, 1.39900000e+01, 7.99000000e+00,\n",
       "       4.95000000e+00, 5.49000000e+00, 3.99900000e+01, 8.99000000e+00,\n",
       "       1.49000000e+00, 7.49000000e+00, 3.99990000e+02, 2.49000000e+00,\n",
       "       1.09900000e+01, 2.20000000e+00, 1.25000000e+00, 1.19900000e+01,\n",
       "       1.49900000e+01, 7.49900000e+01, 9.99900000e+01, 9.00000000e+00,\n",
       "       2.49900000e+01, 1.00000000e+01, 4.89000000e+00, 4.49000000e+00,\n",
       "       1.59900000e+01, 3.22000000e+00, 3.55000000e+00, 1.29900000e+01,\n",
       "       2.39900000e+01, 3.75000000e+00, 6.49000000e+00, 1.99900000e+01,\n",
       "       3.95000000e+00, 3.29900000e+01, 1.26000000e+00, 2.10000000e+01,\n",
       "       9.79000000e+00, 7.99900000e+01, 6.29000000e+00, 1.19000000e+00,\n",
       "       3.85000000e+00, 1.29000000e+00, 2.99900000e+01, 1.00000000e+00,\n",
       "       3.29000000e+00, 5.49900000e+01, 1.40000000e+00, 4.00000000e+00,\n",
       "       5.00000000e+00, 2.00000000e+00, 2.90158452e-01, 1.05000000e+00,\n",
       "       2.99990000e+02, 2.50000000e+00, 5.33000000e+00, 1.90000000e+00,\n",
       "       3.00000000e+00, 2.40000000e+00, 6.71000000e+00, 4.69000000e+00,\n",
       "       1.20000000e+00, 2.90000000e+00, 1.49300000e+01, 2.59000000e+00,\n",
       "       1.97000000e+00, 9.49000000e+00, 1.59000000e+00, 9.95000000e+00,\n",
       "       1.40100000e+01, 2.29900000e+01, 2.79000000e+00, 1.09000000e+00,\n",
       "       3.19900000e+01, 6.85000000e+00, 1.50000000e+00, 3.49900000e+01,\n",
       "       1.80000000e+00, 1.07500000e+01, 4.59900000e+01, 7.74000000e+00,\n",
       "       1.86000000e+01, 6.30000000e+00, 1.79900000e+01, 5.76000000e+00,\n",
       "       5.74000000e+00, 1.47300000e+01, 2.79900000e+01, 8.80000000e+00,\n",
       "       4.50000000e+00, 6.00000000e+00, 5.78000000e+00, 1.20000000e+01,\n",
       "       8.49900000e+01, 8.49000000e+00, 3.81000000e+00])"
      ]
     },
     "execution_count": 26,
     "metadata": {},
     "output_type": "execute_result"
    }
   ],
   "source": [
    "google_df.Price.unique()"
   ]
  },
  {
   "cell_type": "markdown",
   "metadata": {},
   "source": [
    "## Category"
   ]
  },
  {
   "cell_type": "code",
   "execution_count": 27,
   "metadata": {
    "colab": {},
    "colab_type": "code",
    "id": "DotyjQAakdeY",
    "outputId": "3f1c3c28-cd88-4c41-e641-1fad8e493e39"
   },
   "outputs": [
    {
     "data": {
      "text/plain": [
       "array(['FOOD_AND_DRINK', 'TRAVEL_AND_LOCAL', 'SHOPPING', 'LIFESTYLE',\n",
       "       'GAME_ACTION', 'GAME_CASUAL', 'GAME_ROLE_PLAYING', 'GAME_PUZZLE',\n",
       "       'GAME_RACING', 'GAME_ADVENTURE', 'GAME_ARCADE', 'GAME_STRATEGY',\n",
       "       'GAME_SPORTS', 'GAME_SIMULATION', 'GAME_MUSIC', 'MUSIC_AND_AUDIO',\n",
       "       'FINANCE', 'EVENTS', 'ENTERTAINMENT', 'EDUCATION',\n",
       "       'GAME_EDUCATIONAL', 'BOOKS_AND_REFERENCE', 'NEWS_AND_MAGAZINES',\n",
       "       'PHOTOGRAPHY', 'VIDEO_PLAYERS', 'GAME_WORD', 'ART_AND_DESIGN',\n",
       "       'GAME_TRIVIA', 'GAME_BOARD', 'BUSINESS', 'PRODUCTIVITY',\n",
       "       'COMMUNICATION', 'HEALTH_AND_FITNESS', 'HOUSE_AND_HOME', 'SOCIAL',\n",
       "       'BEAUTY', 'GAME_CASINO', 'MAPS_AND_NAVIGATION', 'PERSONALIZATION',\n",
       "       'GAME_CARD', 'TOOLS', 'SPORTS', 'AUTO_AND_VEHICLES',\n",
       "       'LIBRARIES_AND_DEMO', 'COMICS', 'PARENTING', 'DATING', 'WEATHER',\n",
       "       'MEDICAL', ')', ' Channel 2 News'], dtype=object)"
      ]
     },
     "execution_count": 27,
     "metadata": {},
     "output_type": "execute_result"
    }
   ],
   "source": [
    "google_df.Category.unique()"
   ]
  },
  {
   "cell_type": "code",
   "execution_count": 28,
   "metadata": {
    "colab": {},
    "colab_type": "code",
    "id": "-AtJBwSpkdek"
   },
   "outputs": [],
   "source": [
    "google_df.Category = google_df.replace(')','app')"
   ]
  },
  {
   "cell_type": "code",
   "execution_count": 29,
   "metadata": {},
   "outputs": [
    {
     "data": {
      "text/plain": [
       "array([13, 47, 43, 34, 14, 20, 25, 23, 24, 15, 16, 28, 27, 26, 22, 37, 12,\n",
       "       11, 10,  9, 21,  4, 38, 41, 48, 30,  1, 29, 17,  5, 42,  7, 31, 32,\n",
       "       44,  3, 19, 35, 40, 18, 46, 45,  2, 33,  6, 39,  8, 49, 36, 50,  0])"
      ]
     },
     "execution_count": 29,
     "metadata": {},
     "output_type": "execute_result"
    }
   ],
   "source": [
    "from sklearn.preprocessing import LabelEncoder\n",
    "\n",
    "LE = LabelEncoder()\n",
    "google_df['Category_Code'] = LE.fit_transform(google_df['Category'])\n",
    "\n",
    "google_df['Category_Code'].unique()"
   ]
  },
  {
   "cell_type": "markdown",
   "metadata": {},
   "source": [
    "## Content Rating"
   ]
  },
  {
   "cell_type": "code",
   "execution_count": 30,
   "metadata": {},
   "outputs": [
    {
     "data": {
      "text/plain": [
       "array(['Everyone', 'Teen', 'Everyone 10+', 'Mature 17+',\n",
       "       'Adults only 18+', 'Unrated', '$0.99', '0'], dtype=object)"
      ]
     },
     "execution_count": 30,
     "metadata": {},
     "output_type": "execute_result"
    }
   ],
   "source": [
    "google_df.Content_Rating.unique()"
   ]
  },
  {
   "cell_type": "code",
   "execution_count": 31,
   "metadata": {},
   "outputs": [],
   "source": [
    "## Drop the unwanted values such as \"#0.99\",  \"0\".\n",
    "google_df[\"Content_Rating\"] = google_df[\"Content_Rating\"].replace(\"$0.99\", np.nan).replace(\"0\", np.nan)"
   ]
  },
  {
   "cell_type": "code",
   "execution_count": 32,
   "metadata": {},
   "outputs": [
    {
     "data": {
      "text/html": [
       "<div>\n",
       "<style scoped>\n",
       "    .dataframe tbody tr th:only-of-type {\n",
       "        vertical-align: middle;\n",
       "    }\n",
       "\n",
       "    .dataframe tbody tr th {\n",
       "        vertical-align: top;\n",
       "    }\n",
       "\n",
       "    .dataframe thead th {\n",
       "        text-align: right;\n",
       "    }\n",
       "</style>\n",
       "<table border=\"1\" class=\"dataframe\">\n",
       "  <thead>\n",
       "    <tr style=\"text-align: right;\">\n",
       "      <th></th>\n",
       "      <th>Category</th>\n",
       "      <th>Rating</th>\n",
       "      <th>Reviews</th>\n",
       "      <th>Installs</th>\n",
       "      <th>Size</th>\n",
       "      <th>Price</th>\n",
       "      <th>Category_Code</th>\n",
       "      <th>PG_Everyone</th>\n",
       "      <th>PG_Everyone 10+</th>\n",
       "      <th>PG_Mature 17+</th>\n",
       "      <th>PG_Teen</th>\n",
       "      <th>PG_Unrated</th>\n",
       "    </tr>\n",
       "  </thead>\n",
       "  <tbody>\n",
       "    <tr>\n",
       "      <td>0</td>\n",
       "      <td>FOOD_AND_DRINK</td>\n",
       "      <td>5.0</td>\n",
       "      <td>305034.0</td>\n",
       "      <td>5,000,000+</td>\n",
       "      <td>Varies with device</td>\n",
       "      <td>0.00</td>\n",
       "      <td>13</td>\n",
       "      <td>1</td>\n",
       "      <td>0</td>\n",
       "      <td>0</td>\n",
       "      <td>0</td>\n",
       "      <td>0</td>\n",
       "    </tr>\n",
       "    <tr>\n",
       "      <td>1</td>\n",
       "      <td>TRAVEL_AND_LOCAL</td>\n",
       "      <td>4.0</td>\n",
       "      <td>1207922.0</td>\n",
       "      <td>100,000,000+</td>\n",
       "      <td>Varies with device</td>\n",
       "      <td>0.00</td>\n",
       "      <td>47</td>\n",
       "      <td>1</td>\n",
       "      <td>0</td>\n",
       "      <td>0</td>\n",
       "      <td>0</td>\n",
       "      <td>0</td>\n",
       "    </tr>\n",
       "    <tr>\n",
       "      <td>2</td>\n",
       "      <td>SHOPPING</td>\n",
       "      <td>4.0</td>\n",
       "      <td>1967.0</td>\n",
       "      <td>100,000+</td>\n",
       "      <td>1.4M</td>\n",
       "      <td>0.00</td>\n",
       "      <td>43</td>\n",
       "      <td>1</td>\n",
       "      <td>0</td>\n",
       "      <td>0</td>\n",
       "      <td>0</td>\n",
       "      <td>0</td>\n",
       "    </tr>\n",
       "    <tr>\n",
       "      <td>3</td>\n",
       "      <td>FOOD_AND_DRINK</td>\n",
       "      <td>4.0</td>\n",
       "      <td>389154.0</td>\n",
       "      <td>10,000,000+</td>\n",
       "      <td>16M</td>\n",
       "      <td>0.00</td>\n",
       "      <td>13</td>\n",
       "      <td>1</td>\n",
       "      <td>0</td>\n",
       "      <td>0</td>\n",
       "      <td>0</td>\n",
       "      <td>0</td>\n",
       "    </tr>\n",
       "    <tr>\n",
       "      <td>4</td>\n",
       "      <td>FOOD_AND_DRINK</td>\n",
       "      <td>5.0</td>\n",
       "      <td>2291.0</td>\n",
       "      <td>10,000+</td>\n",
       "      <td>Varies with device</td>\n",
       "      <td>5.99</td>\n",
       "      <td>13</td>\n",
       "      <td>1</td>\n",
       "      <td>0</td>\n",
       "      <td>0</td>\n",
       "      <td>0</td>\n",
       "      <td>0</td>\n",
       "    </tr>\n",
       "    <tr>\n",
       "      <td>...</td>\n",
       "      <td>...</td>\n",
       "      <td>...</td>\n",
       "      <td>...</td>\n",
       "      <td>...</td>\n",
       "      <td>...</td>\n",
       "      <td>...</td>\n",
       "      <td>...</td>\n",
       "      <td>...</td>\n",
       "      <td>...</td>\n",
       "      <td>...</td>\n",
       "      <td>...</td>\n",
       "      <td>...</td>\n",
       "    </tr>\n",
       "    <tr>\n",
       "      <td>31995</td>\n",
       "      <td>NEWS_AND_MAGAZINES</td>\n",
       "      <td>4.0</td>\n",
       "      <td>8.0</td>\n",
       "      <td>50+</td>\n",
       "      <td>9.6M</td>\n",
       "      <td>0.00</td>\n",
       "      <td>38</td>\n",
       "      <td>1</td>\n",
       "      <td>0</td>\n",
       "      <td>0</td>\n",
       "      <td>0</td>\n",
       "      <td>0</td>\n",
       "    </tr>\n",
       "    <tr>\n",
       "      <td>31996</td>\n",
       "      <td>GAME_SIMULATION</td>\n",
       "      <td>4.0</td>\n",
       "      <td>71.0</td>\n",
       "      <td>10,000+</td>\n",
       "      <td>6.5M</td>\n",
       "      <td>0.00</td>\n",
       "      <td>26</td>\n",
       "      <td>1</td>\n",
       "      <td>0</td>\n",
       "      <td>0</td>\n",
       "      <td>0</td>\n",
       "      <td>0</td>\n",
       "    </tr>\n",
       "    <tr>\n",
       "      <td>31997</td>\n",
       "      <td>GAME_SIMULATION</td>\n",
       "      <td>4.0</td>\n",
       "      <td>924.0</td>\n",
       "      <td>100,000+</td>\n",
       "      <td>7.9M</td>\n",
       "      <td>0.00</td>\n",
       "      <td>26</td>\n",
       "      <td>1</td>\n",
       "      <td>0</td>\n",
       "      <td>0</td>\n",
       "      <td>0</td>\n",
       "      <td>0</td>\n",
       "    </tr>\n",
       "    <tr>\n",
       "      <td>31998</td>\n",
       "      <td>TOOLS</td>\n",
       "      <td>4.0</td>\n",
       "      <td>1796.0</td>\n",
       "      <td>100,000+</td>\n",
       "      <td>6.8M</td>\n",
       "      <td>0.00</td>\n",
       "      <td>46</td>\n",
       "      <td>1</td>\n",
       "      <td>0</td>\n",
       "      <td>0</td>\n",
       "      <td>0</td>\n",
       "      <td>0</td>\n",
       "    </tr>\n",
       "    <tr>\n",
       "      <td>31999</td>\n",
       "      <td>GAME_PUZZLE</td>\n",
       "      <td>4.0</td>\n",
       "      <td>3372.0</td>\n",
       "      <td>100,000+</td>\n",
       "      <td>35M</td>\n",
       "      <td>0.00</td>\n",
       "      <td>23</td>\n",
       "      <td>1</td>\n",
       "      <td>0</td>\n",
       "      <td>0</td>\n",
       "      <td>0</td>\n",
       "      <td>0</td>\n",
       "    </tr>\n",
       "  </tbody>\n",
       "</table>\n",
       "<p>31999 rows × 12 columns</p>\n",
       "</div>"
      ],
      "text/plain": [
       "                 Category  Rating    Reviews      Installs  \\\n",
       "0          FOOD_AND_DRINK     5.0   305034.0    5,000,000+   \n",
       "1        TRAVEL_AND_LOCAL     4.0  1207922.0  100,000,000+   \n",
       "2                SHOPPING     4.0     1967.0      100,000+   \n",
       "3          FOOD_AND_DRINK     4.0   389154.0   10,000,000+   \n",
       "4          FOOD_AND_DRINK     5.0     2291.0       10,000+   \n",
       "...                   ...     ...        ...           ...   \n",
       "31995  NEWS_AND_MAGAZINES     4.0        8.0           50+   \n",
       "31996     GAME_SIMULATION     4.0       71.0       10,000+   \n",
       "31997     GAME_SIMULATION     4.0      924.0      100,000+   \n",
       "31998               TOOLS     4.0     1796.0      100,000+   \n",
       "31999         GAME_PUZZLE     4.0     3372.0      100,000+   \n",
       "\n",
       "                     Size  Price  Category_Code  PG_Everyone  PG_Everyone 10+  \\\n",
       "0      Varies with device   0.00             13            1                0   \n",
       "1      Varies with device   0.00             47            1                0   \n",
       "2                    1.4M   0.00             43            1                0   \n",
       "3                     16M   0.00             13            1                0   \n",
       "4      Varies with device   5.99             13            1                0   \n",
       "...                   ...    ...            ...          ...              ...   \n",
       "31995                9.6M   0.00             38            1                0   \n",
       "31996                6.5M   0.00             26            1                0   \n",
       "31997                7.9M   0.00             26            1                0   \n",
       "31998                6.8M   0.00             46            1                0   \n",
       "31999                 35M   0.00             23            1                0   \n",
       "\n",
       "       PG_Mature 17+  PG_Teen  PG_Unrated  \n",
       "0                  0        0           0  \n",
       "1                  0        0           0  \n",
       "2                  0        0           0  \n",
       "3                  0        0           0  \n",
       "4                  0        0           0  \n",
       "...              ...      ...         ...  \n",
       "31995              0        0           0  \n",
       "31996              0        0           0  \n",
       "31997              0        0           0  \n",
       "31998              0        0           0  \n",
       "31999              0        0           0  \n",
       "\n",
       "[31999 rows x 12 columns]"
      ]
     },
     "execution_count": 32,
     "metadata": {},
     "output_type": "execute_result"
    }
   ],
   "source": [
    "# one-hot encoding the Grade variable: \n",
    "\n",
    "google_df = pd.concat([google_df,pd.get_dummies(google_df.Content_Rating, prefix=\"PG\", drop_first=True)], axis=1)\n",
    "PG = list(pd.get_dummies(google_df.Content_Rating, prefix=\"PG\", drop_first=True).columns)\n",
    "google_df.drop([\"Content_Rating\"], axis=1)\n",
    "#google_df = google_df.join(one_hot)\n",
    "\n",
    "#google_df['Content_PG'] = google_df['Content_Rating'].str.get_dummies().values.tolist()"
   ]
  },
  {
   "cell_type": "code",
   "execution_count": 33,
   "metadata": {},
   "outputs": [
    {
     "data": {
      "text/html": [
       "<div>\n",
       "<style scoped>\n",
       "    .dataframe tbody tr th:only-of-type {\n",
       "        vertical-align: middle;\n",
       "    }\n",
       "\n",
       "    .dataframe tbody tr th {\n",
       "        vertical-align: top;\n",
       "    }\n",
       "\n",
       "    .dataframe thead th {\n",
       "        text-align: right;\n",
       "    }\n",
       "</style>\n",
       "<table border=\"1\" class=\"dataframe\">\n",
       "  <thead>\n",
       "    <tr style=\"text-align: right;\">\n",
       "      <th></th>\n",
       "      <th>Category</th>\n",
       "      <th>Rating</th>\n",
       "      <th>Reviews</th>\n",
       "      <th>Installs</th>\n",
       "      <th>Size</th>\n",
       "      <th>Price</th>\n",
       "      <th>Content_Rating</th>\n",
       "      <th>Category_Code</th>\n",
       "      <th>PG_Everyone</th>\n",
       "      <th>PG_Everyone 10+</th>\n",
       "      <th>PG_Mature 17+</th>\n",
       "      <th>PG_Teen</th>\n",
       "      <th>PG_Unrated</th>\n",
       "    </tr>\n",
       "  </thead>\n",
       "  <tbody>\n",
       "    <tr>\n",
       "      <td>0</td>\n",
       "      <td>FOOD_AND_DRINK</td>\n",
       "      <td>5.0</td>\n",
       "      <td>305034.0</td>\n",
       "      <td>5,000,000+</td>\n",
       "      <td>Varies with device</td>\n",
       "      <td>0.00</td>\n",
       "      <td>Everyone</td>\n",
       "      <td>13</td>\n",
       "      <td>1</td>\n",
       "      <td>0</td>\n",
       "      <td>0</td>\n",
       "      <td>0</td>\n",
       "      <td>0</td>\n",
       "    </tr>\n",
       "    <tr>\n",
       "      <td>1</td>\n",
       "      <td>TRAVEL_AND_LOCAL</td>\n",
       "      <td>4.0</td>\n",
       "      <td>1207922.0</td>\n",
       "      <td>100,000,000+</td>\n",
       "      <td>Varies with device</td>\n",
       "      <td>0.00</td>\n",
       "      <td>Everyone</td>\n",
       "      <td>47</td>\n",
       "      <td>1</td>\n",
       "      <td>0</td>\n",
       "      <td>0</td>\n",
       "      <td>0</td>\n",
       "      <td>0</td>\n",
       "    </tr>\n",
       "    <tr>\n",
       "      <td>2</td>\n",
       "      <td>SHOPPING</td>\n",
       "      <td>4.0</td>\n",
       "      <td>1967.0</td>\n",
       "      <td>100,000+</td>\n",
       "      <td>1.4M</td>\n",
       "      <td>0.00</td>\n",
       "      <td>Everyone</td>\n",
       "      <td>43</td>\n",
       "      <td>1</td>\n",
       "      <td>0</td>\n",
       "      <td>0</td>\n",
       "      <td>0</td>\n",
       "      <td>0</td>\n",
       "    </tr>\n",
       "    <tr>\n",
       "      <td>3</td>\n",
       "      <td>FOOD_AND_DRINK</td>\n",
       "      <td>4.0</td>\n",
       "      <td>389154.0</td>\n",
       "      <td>10,000,000+</td>\n",
       "      <td>16M</td>\n",
       "      <td>0.00</td>\n",
       "      <td>Everyone</td>\n",
       "      <td>13</td>\n",
       "      <td>1</td>\n",
       "      <td>0</td>\n",
       "      <td>0</td>\n",
       "      <td>0</td>\n",
       "      <td>0</td>\n",
       "    </tr>\n",
       "    <tr>\n",
       "      <td>4</td>\n",
       "      <td>FOOD_AND_DRINK</td>\n",
       "      <td>5.0</td>\n",
       "      <td>2291.0</td>\n",
       "      <td>10,000+</td>\n",
       "      <td>Varies with device</td>\n",
       "      <td>5.99</td>\n",
       "      <td>Everyone</td>\n",
       "      <td>13</td>\n",
       "      <td>1</td>\n",
       "      <td>0</td>\n",
       "      <td>0</td>\n",
       "      <td>0</td>\n",
       "      <td>0</td>\n",
       "    </tr>\n",
       "  </tbody>\n",
       "</table>\n",
       "</div>"
      ],
      "text/plain": [
       "           Category  Rating    Reviews      Installs                Size  \\\n",
       "0    FOOD_AND_DRINK     5.0   305034.0    5,000,000+  Varies with device   \n",
       "1  TRAVEL_AND_LOCAL     4.0  1207922.0  100,000,000+  Varies with device   \n",
       "2          SHOPPING     4.0     1967.0      100,000+                1.4M   \n",
       "3    FOOD_AND_DRINK     4.0   389154.0   10,000,000+                 16M   \n",
       "4    FOOD_AND_DRINK     5.0     2291.0       10,000+  Varies with device   \n",
       "\n",
       "   Price Content_Rating  Category_Code  PG_Everyone  PG_Everyone 10+  \\\n",
       "0   0.00       Everyone             13            1                0   \n",
       "1   0.00       Everyone             47            1                0   \n",
       "2   0.00       Everyone             43            1                0   \n",
       "3   0.00       Everyone             13            1                0   \n",
       "4   5.99       Everyone             13            1                0   \n",
       "\n",
       "   PG_Mature 17+  PG_Teen  PG_Unrated  \n",
       "0              0        0           0  \n",
       "1              0        0           0  \n",
       "2              0        0           0  \n",
       "3              0        0           0  \n",
       "4              0        0           0  "
      ]
     },
     "execution_count": 33,
     "metadata": {},
     "output_type": "execute_result"
    }
   ],
   "source": [
    "google_df.head()"
   ]
  },
  {
   "cell_type": "markdown",
   "metadata": {},
   "source": [
    "## Installs"
   ]
  },
  {
   "cell_type": "code",
   "execution_count": 34,
   "metadata": {},
   "outputs": [
    {
     "data": {
      "text/plain": [
       "array(['5,000,000+', '100,000,000+', '100,000+', '10,000,000+', '10,000+',\n",
       "       '1,000,000+', '50,000,000+', '500,000+', '50,000+', '5,000+',\n",
       "       '1,000+', '500,000,000+', '1,000,000,000+', '5,000,000,000+',\n",
       "       '100+', '500+', '50+', '5+', '10+', '1+', '6', '11976', '0+'],\n",
       "      dtype=object)"
      ]
     },
     "execution_count": 34,
     "metadata": {},
     "output_type": "execute_result"
    }
   ],
   "source": [
    "google_df.Installs.unique()"
   ]
  },
  {
   "cell_type": "code",
   "execution_count": 35,
   "metadata": {},
   "outputs": [],
   "source": [
    "google_df.Installs = google_df.Installs.str.strip(\"+\")\n",
    "google_df.Installs = google_df.Installs.str.replace(',','')"
   ]
  },
  {
   "cell_type": "code",
   "execution_count": 36,
   "metadata": {},
   "outputs": [],
   "source": [
    "google_df.Installs = pd.to_numeric(google_df[\"Installs\"], errors = 'coerce')"
   ]
  },
  {
   "cell_type": "code",
   "execution_count": 37,
   "metadata": {},
   "outputs": [],
   "source": [
    "#Normalizing the variable \"Installs\"\n",
    "google_df[\"Installs\"] = ((google_df[\"Installs\"]) - (google_df[\"Installs\"].min())) / ((google_df[\"Installs\"].max()) - (google_df[\"Installs\"].min()))"
   ]
  },
  {
   "cell_type": "code",
   "execution_count": 38,
   "metadata": {},
   "outputs": [
    {
     "data": {
      "text/plain": [
       "array([1.0000e-03, 2.0000e-02, 2.0000e-05, 2.0000e-03, 2.0000e-06,\n",
       "       2.0000e-04, 1.0000e-02, 1.0000e-04, 1.0000e-05, 1.0000e-06,\n",
       "       2.0000e-07, 1.0000e-01, 2.0000e-01, 1.0000e+00, 2.0000e-08,\n",
       "       1.0000e-07, 1.0000e-08, 1.0000e-09, 2.0000e-09, 2.0000e-10,\n",
       "       1.2000e-09, 2.3952e-06, 0.0000e+00])"
      ]
     },
     "execution_count": 38,
     "metadata": {},
     "output_type": "execute_result"
    }
   ],
   "source": [
    "google_df.Installs.unique()"
   ]
  },
  {
   "cell_type": "markdown",
   "metadata": {},
   "source": [
    "## Size"
   ]
  },
  {
   "cell_type": "code",
   "execution_count": 39,
   "metadata": {},
   "outputs": [
    {
     "data": {
      "text/plain": [
       "array(['Varies with device', '1.4M', '16M', '23M', '4.1M', '39M', '8.1M',\n",
       "       '19M', '30M', '11M', '14M', '38M', '15M', '55M', '7.8M', '17M',\n",
       "       '62M', '22M', '25M', '46M', '9.5M', '78M', '13M', '72M', '81M',\n",
       "       '44M', '24M', '99M', '37M', '63M', '45M', '20M', '34M', '79M',\n",
       "       '35M', '36M', '54M', '40M', '90M', '97M', '27M', '82M', '58M',\n",
       "       '43M', '64M', '47M', '50M', '33M', '84M', '89M', '69M', '52M',\n",
       "       '101M', '71M', '66M', '12M', '18M', '56M', '9.3M', '3.4M', '48M',\n",
       "       '31M', '51M', '49M', '21M', '4.8M', '4.7M', '26M', '32M', '2.9M',\n",
       "       '9.4M', '10M', '76M', '93M', '3.0M', '41M', '29M', '42M', '94M',\n",
       "       '75M', '4.0M', '73M', '2.4M', '7.7M', '9.7M', '6.6M', '2.7M',\n",
       "       '57M', '59M', '8.4M', '8.6M', '70M', '6.1M', '8.3M', '2.0M',\n",
       "       '7.0M', '2.5M', '28M', '6.9M', '7.1M', '5.7M', '4.4M', '686k',\n",
       "       '4.3M', '4.2M', '3.6M', '8.7M', '3.3M', '7.3M', '10.0M', '7.6M',\n",
       "       '1.7M', '98M', '4.5M', '6.5M', '65M', '6.2M', '80M', '85M', '86M',\n",
       "       '9.1M', '68M', '2.6M', '87M', '88M', '9.2M', '74M', '4.6M', '103M',\n",
       "       '96M', '5.2M', '116M', '6.3M', '91M', '111M', '83M', '53M', '431k',\n",
       "       '3.9M', '2.2M', '77M', '100M', '110M', '60M', '9.6M', '9.0M',\n",
       "       '7.9M', '6.0M', '5.6M', '3.7M', '5.0M', '67M', '92M', '102M',\n",
       "       '5.3M', '5.5M', '107M', '8.8M', '61M', '6.4M', '2.3M', '45k',\n",
       "       '3.1M', '324k', '8.9M', '95M', '6.8M', '7.5M', '3.5M', '1.8M',\n",
       "       '8.2M', '1.3M', '8.5M', '104M', '3.2M', '5.8M', '5.9M', '1.1M',\n",
       "       '5.1M', '18k', '7.2M', '3.8M', '5.4M', '6.7M', '7.4M', '9.9M',\n",
       "       '1.5M', '862k', '2.1M', '1.6M', '375k', '378k', '4.9M', '105M',\n",
       "       '720k', '713k', '96k', '557k', '126k', '8.0M', '1.2M', '237k',\n",
       "       '208k', '2.8M', '9.8M', '1.9M', '696k', '525k', '544k', '523k',\n",
       "       '779k', '1.0M', '53k', '118k', '853k', '998k', '52k', '89k', '32k',\n",
       "       '335k', '64k', '1,015k', '44k', '81k', '849k', '649k', '6.1k',\n",
       "       '29k', '860k', '172k', '990k', '447k', '627k', '317k', '270k',\n",
       "       '334k', '176k', '50k', '526k', '856k', '446k', '710k', '42k',\n",
       "       '709k', '519k', '4.7k', '360k', '492k', '925k', '699k', '611k',\n",
       "       '216k', '618k', '19k', '540k', '531k', '417k', '683k', '173k',\n",
       "       '199k', '213k', '230k', '109k', '99k', '17k', '93k', '718k',\n",
       "       '107k', '362k', '624k', '675k', '228k', '738k', '105k', '39k',\n",
       "       '108k', '898k', '41k', '60k', '76k', '28k', '261k', '49k', '38k',\n",
       "       '697k', '71k', '470k', '508k', '232k', '21k', '115k', '543k',\n",
       "       '123k', '65k', '33k', '72k', '642k', '979k', '298k', '436k',\n",
       "       '205k', '778k', '851k', '844k', '102k', '47k', '34k', '128k',\n",
       "       '138k', '295k', '108M', '784k', '534k', '457k', '528k', '342k',\n",
       "       '238k', '811k', '631k', '104k', '257k', '308k', '762k', '30k',\n",
       "       '655k', '877k', '708k', '26k', '285k', '226k', '897k', '1,024k',\n",
       "       '364k', '182k', '736k', '790k', '48k', '949k', '51k', '551k',\n",
       "       '1,006k', '917k', '371k', '672k', '27k', '793k', '658k', '663k',\n",
       "       '469k', '440k', '640k', '322k', '874k', '413k', '194k', '229k',\n",
       "       '479k', '215k', '180k', '441k', '352k', '438k', '397k', '848k',\n",
       "       '733k', '393k', '78k', '732k', '581k', '66k', '729k', '202k',\n",
       "       '465k', '77k', '255k', '334M', '35k', '803k', '541k', '722k',\n",
       "       '100+', '325k', '97k', '207k', '915k', '842k', '80k', '907k',\n",
       "       '309k', '55k', '258k', '847k', '198k', '845k', '454k', '997k',\n",
       "       '1,007k', '151k', '597k', '577k', '652k', '73k', '70k', '146k',\n",
       "       '130k', '920k', '814k', '767k', '975k', '15k', '968k', '869k',\n",
       "       '234k', '660k', '839k', '300k', '301k', '969k', '808k', '404k',\n",
       "       '639k', '566k', '236k', '186k', '903k', '344k', '1,005k', '90k',\n",
       "       '563k', '855k', '472k', '83k', '482k', '587k', '908k', '31k',\n",
       "       '589k', '1,011k', '59k', '57k', '550k', '757k', '832k', '794k',\n",
       "       '347M', '167k', '217k', '954k', '25k', '999k', '1,022k', '106M',\n",
       "       '113M', '260k', '448k', '603k', '657k', '991k', '94k', '20k',\n",
       "       '400k', '776k', '86k', '160k', '565k', '751k', '763k', '777k',\n",
       "       '950k', '608k', '383k', '625k', '251k', '919k', '480k', '630k',\n",
       "       '904k', '594k', '63k', '529k', '737k', '873k', '87k', '1,004k',\n",
       "       '267k', '263k', '222k', '840k', '1,000,000+', '373k', '210k',\n",
       "       '395k', '233k', '84k', '245k', '965k', '46k', '420k', '545k',\n",
       "       '586k', '113k', '788k', '813k', '996k', '634k', '938k', '805k',\n",
       "       '279k', '333k', '273k', '951k', '310k', '166k', '11k', '552k',\n",
       "       '92k', '139k', '900k', '58k', '473k', '43k', '1,014k', '931k',\n",
       "       '451k', '662k', '935k', '955k', '402k', '302k', '676k', '181k',\n",
       "       '828k', '10k', '351k', '386k', '68k', '174k', '752k', '85k',\n",
       "       '1,009k', '318k', '802k', '651k', '960k', '834k', '827k', '323k',\n",
       "       '200k', '478k', '37k', '690k', '391k', '911k', '591k', '976k',\n",
       "       '150k', '498k', '7.5k', '602k', '578k', '165k', '289k', '615k',\n",
       "       '760k', '522k', '466k', '254k', '327k', '246k', '644k', '235k',\n",
       "       '613k', '24k', '153k', '140k', '600k', '281k', '505k'],\n",
       "      dtype=object)"
      ]
     },
     "execution_count": 39,
     "metadata": {},
     "output_type": "execute_result"
    }
   ],
   "source": [
    "google_df.Size.unique()"
   ]
  },
  {
   "cell_type": "code",
   "execution_count": 40,
   "metadata": {},
   "outputs": [],
   "source": [
    "google_df.Size = google_df.Size.str.strip(\"+\")\n",
    "google_df.Size = google_df.Size.str.replace(',','')"
   ]
  },
  {
   "cell_type": "code",
   "execution_count": 41,
   "metadata": {},
   "outputs": [],
   "source": [
    "google_df.Size = google_df.Size.replace('Varies with device',np.nan)"
   ]
  },
  {
   "cell_type": "code",
   "execution_count": 42,
   "metadata": {},
   "outputs": [],
   "source": [
    "## To simplify our machine learning model, we will multiply the \"M\" or the Megabytes with 1000000 and \"k\" or Kilobytes with 10000.\n",
    "\n",
    "google_df.Size = (google_df.Size.replace(r'[kM]+$', '', regex=True).astype(float) * google_df.Size.str.extract(r'[\\d\\.]+([kM]+)', expand=False).fillna(1).replace(['k','M'], [10**3, 10**6]).astype(int))"
   ]
  },
  {
   "cell_type": "code",
   "execution_count": 43,
   "metadata": {},
   "outputs": [
    {
     "data": {
      "text/plain": [
       "array([      nan, 1.400e+06, 1.600e+07, 2.300e+07, 4.100e+06, 3.900e+07,\n",
       "       8.100e+06, 1.900e+07, 3.000e+07, 1.100e+07, 1.400e+07, 3.800e+07,\n",
       "       1.500e+07, 5.500e+07, 7.800e+06, 1.700e+07, 6.200e+07, 2.200e+07,\n",
       "       2.500e+07, 4.600e+07, 9.500e+06, 7.800e+07, 1.300e+07, 7.200e+07,\n",
       "       8.100e+07, 4.400e+07, 2.400e+07, 9.900e+07, 3.700e+07, 6.300e+07,\n",
       "       4.500e+07, 2.000e+07, 3.400e+07, 7.900e+07, 3.500e+07, 3.600e+07,\n",
       "       5.400e+07, 4.000e+07, 9.000e+07, 9.700e+07, 2.700e+07, 8.200e+07,\n",
       "       5.800e+07, 4.300e+07, 6.400e+07, 4.700e+07, 5.000e+07, 3.300e+07,\n",
       "       8.400e+07, 8.900e+07, 6.900e+07, 5.200e+07, 1.010e+08, 7.100e+07,\n",
       "       6.600e+07, 1.200e+07, 1.800e+07, 5.600e+07, 9.300e+06, 3.400e+06,\n",
       "       4.800e+07, 3.100e+07, 5.100e+07, 4.900e+07, 2.100e+07, 4.800e+06,\n",
       "       4.700e+06, 2.600e+07, 3.200e+07, 2.900e+06, 9.400e+06, 1.000e+07,\n",
       "       7.600e+07, 9.300e+07, 3.000e+06, 4.100e+07, 2.900e+07, 4.200e+07,\n",
       "       9.400e+07, 7.500e+07, 4.000e+06, 7.300e+07, 2.400e+06, 7.700e+06,\n",
       "       9.700e+06, 6.600e+06, 2.700e+06, 5.700e+07, 5.900e+07, 8.400e+06,\n",
       "       8.600e+06, 7.000e+07, 6.100e+06, 8.300e+06, 2.000e+06, 7.000e+06,\n",
       "       2.500e+06, 2.800e+07, 6.900e+06, 7.100e+06, 5.700e+06, 4.400e+06,\n",
       "       6.860e+05, 4.300e+06, 4.200e+06, 3.600e+06, 8.700e+06, 3.300e+06,\n",
       "       7.300e+06, 7.600e+06, 1.700e+06, 9.800e+07, 4.500e+06, 6.500e+06,\n",
       "       6.500e+07, 6.200e+06, 8.000e+07, 8.500e+07, 8.600e+07, 9.100e+06,\n",
       "       6.800e+07, 2.600e+06, 8.700e+07, 8.800e+07, 9.200e+06, 7.400e+07,\n",
       "       4.600e+06, 1.030e+08, 9.600e+07, 5.200e+06, 1.160e+08, 6.300e+06,\n",
       "       9.100e+07, 1.110e+08, 8.300e+07, 5.300e+07, 4.310e+05, 3.900e+06,\n",
       "       2.200e+06, 7.700e+07, 1.000e+08, 1.100e+08, 6.000e+07, 9.600e+06,\n",
       "       9.000e+06, 7.900e+06, 6.000e+06, 5.600e+06, 3.700e+06, 5.000e+06,\n",
       "       6.700e+07, 9.200e+07, 1.020e+08, 5.300e+06, 5.500e+06, 1.070e+08,\n",
       "       8.800e+06, 6.100e+07, 6.400e+06, 2.300e+06, 4.500e+04, 3.100e+06,\n",
       "       3.240e+05, 8.900e+06, 9.500e+07, 6.800e+06, 7.500e+06, 3.500e+06,\n",
       "       1.800e+06, 8.200e+06, 1.300e+06, 8.500e+06, 1.040e+08, 3.200e+06,\n",
       "       5.800e+06, 5.900e+06, 1.100e+06, 5.100e+06, 1.800e+04, 7.200e+06,\n",
       "       3.800e+06, 5.400e+06, 6.700e+06, 7.400e+06, 9.900e+06, 1.500e+06,\n",
       "       8.620e+05, 2.100e+06, 1.600e+06, 3.750e+05, 3.780e+05, 4.900e+06,\n",
       "       1.050e+08, 7.200e+05, 7.130e+05, 9.600e+04, 5.570e+05, 1.260e+05,\n",
       "       8.000e+06, 1.200e+06, 2.370e+05, 2.080e+05, 2.800e+06, 9.800e+06,\n",
       "       1.900e+06, 6.960e+05, 5.250e+05, 5.440e+05, 5.230e+05, 7.790e+05,\n",
       "       1.000e+06, 5.300e+04, 1.180e+05, 8.530e+05, 9.980e+05, 5.200e+04,\n",
       "       8.900e+04, 3.200e+04, 3.350e+05, 6.400e+04, 1.015e+06, 4.400e+04,\n",
       "       8.100e+04, 8.490e+05, 6.490e+05, 6.100e+03, 2.900e+04, 8.600e+05,\n",
       "       1.720e+05, 9.900e+05, 4.470e+05, 6.270e+05, 3.170e+05, 2.700e+05,\n",
       "       3.340e+05, 1.760e+05, 5.000e+04, 5.260e+05, 8.560e+05, 4.460e+05,\n",
       "       7.100e+05, 4.200e+04, 7.090e+05, 5.190e+05, 4.700e+03, 3.600e+05,\n",
       "       4.920e+05, 9.250e+05, 6.990e+05, 6.110e+05, 2.160e+05, 6.180e+05,\n",
       "       1.900e+04, 5.400e+05, 5.310e+05, 4.170e+05, 6.830e+05, 1.730e+05,\n",
       "       1.990e+05, 2.130e+05, 2.300e+05, 1.090e+05, 9.900e+04, 1.700e+04,\n",
       "       9.300e+04, 7.180e+05, 1.070e+05, 3.620e+05, 6.240e+05, 6.750e+05,\n",
       "       2.280e+05, 7.380e+05, 1.050e+05, 3.900e+04, 1.080e+05, 8.980e+05,\n",
       "       4.100e+04, 6.000e+04, 7.600e+04, 2.800e+04, 2.610e+05, 4.900e+04,\n",
       "       3.800e+04, 6.970e+05, 7.100e+04, 4.700e+05, 5.080e+05, 2.320e+05,\n",
       "       2.100e+04, 1.150e+05, 5.430e+05, 1.230e+05, 6.500e+04, 3.300e+04,\n",
       "       7.200e+04, 6.420e+05, 9.790e+05, 2.980e+05, 4.360e+05, 2.050e+05,\n",
       "       7.780e+05, 8.510e+05, 8.440e+05, 1.020e+05, 4.700e+04, 3.400e+04,\n",
       "       1.280e+05, 1.380e+05, 2.950e+05, 1.080e+08, 7.840e+05, 5.340e+05,\n",
       "       4.570e+05, 5.280e+05, 3.420e+05, 2.380e+05, 8.110e+05, 6.310e+05,\n",
       "       1.040e+05, 2.570e+05, 3.080e+05, 7.620e+05, 3.000e+04, 6.550e+05,\n",
       "       8.770e+05, 7.080e+05, 2.600e+04, 2.850e+05, 2.260e+05, 8.970e+05,\n",
       "       1.024e+06, 3.640e+05, 1.820e+05, 7.360e+05, 7.900e+05, 4.800e+04,\n",
       "       9.490e+05, 5.100e+04, 5.510e+05, 1.006e+06, 9.170e+05, 3.710e+05,\n",
       "       6.720e+05, 2.700e+04, 7.930e+05, 6.580e+05, 6.630e+05, 4.690e+05,\n",
       "       4.400e+05, 6.400e+05, 3.220e+05, 8.740e+05, 4.130e+05, 1.940e+05,\n",
       "       2.290e+05, 4.790e+05, 2.150e+05, 1.800e+05, 4.410e+05, 3.520e+05,\n",
       "       4.380e+05, 3.970e+05, 8.480e+05, 7.330e+05, 3.930e+05, 7.800e+04,\n",
       "       7.320e+05, 5.810e+05, 6.600e+04, 7.290e+05, 2.020e+05, 4.650e+05,\n",
       "       7.700e+04, 2.550e+05, 3.340e+08, 3.500e+04, 8.030e+05, 5.410e+05,\n",
       "       7.220e+05, 1.000e+02, 3.250e+05, 9.700e+04, 2.070e+05, 9.150e+05,\n",
       "       8.420e+05, 8.000e+04, 9.070e+05, 3.090e+05, 5.500e+04, 2.580e+05,\n",
       "       8.470e+05, 1.980e+05, 8.450e+05, 4.540e+05, 9.970e+05, 1.007e+06,\n",
       "       1.510e+05, 5.970e+05, 5.770e+05, 6.520e+05, 7.300e+04, 7.000e+04,\n",
       "       1.460e+05, 1.300e+05, 9.200e+05, 8.140e+05, 7.670e+05, 9.750e+05,\n",
       "       1.500e+04, 9.680e+05, 8.690e+05, 2.340e+05, 6.600e+05, 8.390e+05,\n",
       "       3.000e+05, 3.010e+05, 9.690e+05, 8.080e+05, 4.040e+05, 6.390e+05,\n",
       "       5.660e+05, 2.360e+05, 1.860e+05, 9.030e+05, 3.440e+05, 1.005e+06,\n",
       "       9.000e+04, 5.630e+05, 8.550e+05, 4.720e+05, 8.300e+04, 4.820e+05,\n",
       "       5.870e+05, 9.080e+05, 3.100e+04, 5.890e+05, 1.011e+06, 5.900e+04,\n",
       "       5.700e+04, 5.500e+05, 7.570e+05, 8.320e+05, 7.940e+05, 3.470e+08,\n",
       "       1.670e+05, 2.170e+05, 9.540e+05, 2.500e+04, 9.990e+05, 1.022e+06,\n",
       "       1.060e+08, 1.130e+08, 2.600e+05, 4.480e+05, 6.030e+05, 6.570e+05,\n",
       "       9.910e+05, 9.400e+04, 2.000e+04, 4.000e+05, 7.760e+05, 8.600e+04,\n",
       "       1.600e+05, 5.650e+05, 7.510e+05, 7.630e+05, 7.770e+05, 9.500e+05,\n",
       "       6.080e+05, 3.830e+05, 6.250e+05, 2.510e+05, 9.190e+05, 4.800e+05,\n",
       "       6.300e+05, 9.040e+05, 5.940e+05, 6.300e+04, 5.290e+05, 7.370e+05,\n",
       "       8.730e+05, 8.700e+04, 1.004e+06, 2.670e+05, 2.630e+05, 2.220e+05,\n",
       "       8.400e+05, 3.730e+05, 2.100e+05, 3.950e+05, 2.330e+05, 8.400e+04,\n",
       "       2.450e+05, 9.650e+05, 4.600e+04, 4.200e+05, 5.450e+05, 5.860e+05,\n",
       "       1.130e+05, 7.880e+05, 8.130e+05, 9.960e+05, 6.340e+05, 9.380e+05,\n",
       "       8.050e+05, 2.790e+05, 3.330e+05, 2.730e+05, 9.510e+05, 3.100e+05,\n",
       "       1.660e+05, 1.100e+04, 5.520e+05, 9.200e+04, 1.390e+05, 9.000e+05,\n",
       "       5.800e+04, 4.730e+05, 4.300e+04, 1.014e+06, 9.310e+05, 4.510e+05,\n",
       "       6.620e+05, 9.350e+05, 9.550e+05, 4.020e+05, 3.020e+05, 6.760e+05,\n",
       "       1.810e+05, 8.280e+05, 1.000e+04, 3.510e+05, 3.860e+05, 6.800e+04,\n",
       "       1.740e+05, 7.520e+05, 8.500e+04, 1.009e+06, 3.180e+05, 8.020e+05,\n",
       "       6.510e+05, 9.600e+05, 8.340e+05, 8.270e+05, 3.230e+05, 2.000e+05,\n",
       "       4.780e+05, 3.700e+04, 6.900e+05, 3.910e+05, 9.110e+05, 5.910e+05,\n",
       "       9.760e+05, 1.500e+05, 4.980e+05, 7.500e+03, 6.020e+05, 5.780e+05,\n",
       "       1.650e+05, 2.890e+05, 6.150e+05, 7.600e+05, 5.220e+05, 4.660e+05,\n",
       "       2.540e+05, 3.270e+05, 2.460e+05, 6.440e+05, 2.350e+05, 6.130e+05,\n",
       "       2.400e+04, 1.530e+05, 1.400e+05, 6.000e+05, 2.810e+05, 5.050e+05])"
      ]
     },
     "execution_count": 43,
     "metadata": {},
     "output_type": "execute_result"
    }
   ],
   "source": [
    "google_df.Size.unique()"
   ]
  },
  {
   "cell_type": "code",
   "execution_count": 45,
   "metadata": {},
   "outputs": [],
   "source": [
    "google_df[\"Size\"]=google_df[\"Size\"].apply(lambda x: pd.to_numeric(x, errors='coerce')).dropna()\n",
    "google_df.Size = pd.to_numeric(google_df[\"Size\"], errors = 'coerce')\n",
    "google_df[\"Size\"].fillna(google_df[\"Size\"].mean(), inplace = True)"
   ]
  },
  {
   "cell_type": "code",
   "execution_count": 46,
   "metadata": {},
   "outputs": [],
   "source": [
    "# Normalizing the variable \"Size\"\n",
    "google_df[\"Size\"] = ((google_df[\"Size\"]) - (google_df[\"Size\"].min())) / ((google_df[\"Size\"].max()) - (google_df[\"Size\"].min()))"
   ]
  },
  {
   "cell_type": "code",
   "execution_count": 47,
   "metadata": {},
   "outputs": [
    {
     "data": {
      "text/plain": [
       "array([6.47132920e-02, 4.03429511e-03, 4.61092352e-02, 6.62821517e-02,\n",
       "       1.18152772e-02, 1.12391675e-01, 2.33426580e-02, 5.47547708e-02,\n",
       "       8.64550681e-02, 3.17000091e-02, 4.03455448e-02, 1.09509830e-01,\n",
       "       4.32273900e-02, 1.58501198e-01, 2.24781045e-02, 4.89910804e-02,\n",
       "       1.78674115e-01, 6.34003065e-02, 7.20458421e-02, 1.32564592e-01,\n",
       "       2.73772413e-02, 2.24783638e-01, 3.74636996e-02, 2.07492567e-01,\n",
       "       2.33429174e-01, 1.26800901e-01, 6.91639969e-02, 2.85302388e-01,\n",
       "       1.06627985e-01, 1.81555960e-01, 1.29682746e-01, 5.76366160e-02,\n",
       "       9.79824490e-02, 2.27665483e-01, 1.00864294e-01, 1.03746139e-01,\n",
       "       1.55619353e-01, 1.15273520e-01, 2.59365781e-01, 2.79538697e-01,\n",
       "       7.78095325e-02, 2.36311019e-01, 1.67146734e-01, 1.23919056e-01,\n",
       "       1.84437805e-01, 1.35446437e-01, 1.44091972e-01, 9.51006038e-02,\n",
       "       2.42074710e-01, 2.56483936e-01, 1.98847031e-01, 1.49855663e-01,\n",
       "       2.91066078e-01, 2.04610722e-01, 1.90201496e-01, 3.45818543e-02,\n",
       "       5.18729256e-02, 1.61383044e-01, 2.68008723e-02, 9.79798553e-03,\n",
       "       1.38328282e-01, 8.93369134e-02, 1.46973818e-01, 1.41210127e-01,\n",
       "       6.05184612e-02, 1.38325688e-02, 1.35443843e-02, 7.49276873e-02,\n",
       "       9.22187586e-02, 8.35706293e-03, 2.70890568e-02, 2.88181639e-02,\n",
       "       2.19019948e-01, 2.68011316e-01, 8.64524745e-03, 1.18155365e-01,\n",
       "       8.35732229e-02, 1.21037211e-01, 2.70893162e-01, 2.16138103e-01,\n",
       "       1.15270927e-02, 2.10374412e-01, 6.91614032e-03, 2.21899199e-02,\n",
       "       2.79536104e-02, 1.90198902e-02, 7.78069388e-03, 1.64264889e-01,\n",
       "       1.70028579e-01, 2.42072116e-02, 2.47835806e-02, 2.01728877e-01,\n",
       "       1.75789676e-02, 2.39190271e-02, 5.76340224e-03, 2.01726283e-02,\n",
       "       7.20432484e-03, 8.06913777e-02, 1.98844438e-02, 2.04608128e-02,\n",
       "       1.64262295e-02, 1.26798307e-02, 1.97665763e-03, 1.23916462e-02,\n",
       "       1.21034617e-02, 1.03743546e-02, 2.50717652e-02, 9.50980101e-03,\n",
       "       2.10371819e-02, 2.19017354e-02, 4.89884867e-03, 2.82420542e-01,\n",
       "       1.29680153e-02, 1.87317057e-02, 1.87319651e-01, 1.78671521e-02,\n",
       "       2.30547329e-01, 2.44956555e-01, 2.47838400e-01, 2.62245032e-02,\n",
       "       1.95965186e-01, 7.49250936e-03, 2.50720245e-01, 2.53602090e-01,\n",
       "       2.65126878e-02, 2.13256257e-01, 1.32561998e-02, 2.96829769e-01,\n",
       "       2.76656852e-01, 1.49853069e-02, 3.34293756e-01, 1.81553366e-02,\n",
       "       2.62247626e-01, 3.19884530e-01, 2.39192864e-01, 1.52737508e-01,\n",
       "       1.24178710e-03, 1.12389081e-02, 6.33977128e-03, 2.21901793e-01,\n",
       "       2.88184233e-01, 3.17002685e-01, 1.72910424e-01, 2.76654258e-02,\n",
       "       2.59363187e-02, 2.27662890e-02, 1.72907831e-02, 1.61380450e-02,\n",
       "       1.06625391e-02, 1.44089379e-02, 1.93083341e-01, 2.65129471e-01,\n",
       "       2.93947923e-01, 1.52734914e-02, 1.58498605e-02, 3.08357149e-01,\n",
       "       2.53599497e-02, 1.75792270e-01, 1.84435212e-02, 6.62795580e-03,\n",
       "       1.29394850e-04, 8.93343197e-03, 9.33429664e-04, 2.56481342e-02,\n",
       "       2.73775007e-01, 1.95962592e-02, 2.16135509e-02, 1.00861701e-02,\n",
       "       5.18703320e-03, 2.36308425e-02, 3.74611059e-03, 2.44953961e-02,\n",
       "       2.99711614e-01, 9.22161649e-03, 1.67144140e-02, 1.70025986e-02,\n",
       "       3.16974155e-03, 1.46971224e-02, 5.15850293e-05, 2.07489973e-02,\n",
       "       1.09507236e-02, 1.55616760e-02, 1.93080747e-02, 2.13253664e-02,\n",
       "       2.85299794e-02, 4.32247963e-03, 2.48386239e-03, 6.05158676e-03,\n",
       "       4.61066415e-03, 1.08040377e-03, 1.08904931e-03, 1.41207533e-02,\n",
       "       3.02593459e-01, 2.07464037e-03, 2.05446745e-03, 2.76368956e-04,\n",
       "       1.60489960e-03, 3.62824312e-04, 2.30544735e-02, 3.45792607e-03,\n",
       "       6.82709130e-04, 5.99135619e-04, 8.06887841e-03, 2.82417949e-02,\n",
       "       5.47521772e-03, 2.00547608e-03, 1.51268055e-03, 1.56743561e-03,\n",
       "       1.50691686e-03, 2.24466923e-03, 2.88155703e-03, 1.52449612e-04,\n",
       "       3.39769550e-04, 2.45792578e-03, 2.87579334e-03, 1.49567766e-04,\n",
       "       2.56196039e-04, 9.19308622e-05, 9.65129961e-04, 1.84149909e-04,\n",
       "       2.92478470e-03, 1.26513005e-04, 2.33141278e-04, 2.44639840e-03,\n",
       "       1.87002936e-03, 1.72910713e-05, 8.32853266e-05, 2.47809870e-03,\n",
       "       4.95389192e-04, 2.85273857e-03, 1.28789662e-03, 1.80662876e-03,\n",
       "       9.13256747e-04, 7.77810022e-04, 9.62248116e-04, 5.06916573e-04,\n",
       "       1.43804076e-04, 1.51556240e-03, 2.46657132e-03, 1.28501478e-03,\n",
       "       2.04582192e-03, 1.20749314e-04, 2.04294007e-03, 1.49538948e-03,\n",
       "       1.32564880e-05, 1.03717609e-03, 1.41757966e-03, 2.66541864e-03,\n",
       "       2.01412162e-03, 1.76051924e-03, 6.22190381e-04, 1.78069216e-03,\n",
       "       5.44668745e-05, 1.55590823e-03, 1.52997162e-03, 1.20144127e-03,\n",
       "       1.96801209e-03, 4.98271037e-04, 5.73199012e-04, 6.13544845e-04,\n",
       "       6.62536214e-04, 3.13832943e-04, 2.85014491e-04, 4.87031841e-05,\n",
       "       2.67723420e-04, 2.06887668e-03, 3.08069253e-04, 1.04293978e-03,\n",
       "       1.79798323e-03, 1.94495733e-03, 6.56772524e-04, 2.12651358e-03,\n",
       "       3.02305563e-04, 1.12103779e-04, 3.10951098e-04, 2.58760881e-03,\n",
       "       1.17867469e-04, 1.72622528e-04, 2.18732052e-04, 8.04034814e-05,\n",
       "       7.51873416e-04, 1.40922231e-04, 1.09221933e-04, 2.00835793e-03,\n",
       "       2.04322825e-04, 1.35417906e-03, 1.46368918e-03, 6.68299904e-04,\n",
       "       6.02305649e-05, 3.31124015e-04, 1.56455377e-03, 3.54178776e-04,\n",
       "       1.87031754e-04, 9.48127074e-05, 2.07204671e-04, 1.84985644e-03,\n",
       "       2.82103828e-03, 8.58501688e-04, 1.25619633e-03, 5.90490084e-04,\n",
       "       2.24178739e-03, 2.45216209e-03, 2.43198917e-03, 2.93660027e-04,\n",
       "       1.35158540e-04, 9.76945526e-05, 3.68588002e-04, 3.97406455e-04,\n",
       "       8.49856153e-04, 3.11238995e-01, 2.25907846e-03, 1.53861716e-03,\n",
       "       1.31671508e-03, 1.52132609e-03, 9.85302878e-04, 6.85590976e-04,\n",
       "       2.33688828e-03, 1.81815614e-03, 2.99423717e-04, 7.40346035e-04,\n",
       "       8.87320140e-04, 2.19567787e-03, 8.61671718e-05, 1.88732043e-03,\n",
       "       2.52709007e-03, 2.04005822e-03, 7.46397910e-05, 8.21037701e-04,\n",
       "       6.51008833e-04, 2.58472697e-03, 2.95072131e-03, 1.04870347e-03,\n",
       "       5.24207644e-04, 2.12074989e-03, 2.27636953e-03, 1.38040386e-04,\n",
       "       2.73458292e-03, 1.46685921e-04, 1.58760853e-03, 2.89884810e-03,\n",
       "       2.64236387e-03, 1.06887639e-03, 1.93631180e-03, 7.75216362e-05,\n",
       "       2.28501507e-03, 1.89596596e-03, 1.91037519e-03, 1.35129722e-03,\n",
       "       1.26772371e-03, 1.84409275e-03, 9.27665973e-04, 2.51844453e-03,\n",
       "       1.18991389e-03, 5.58789786e-04, 6.59654369e-04, 1.38011567e-03,\n",
       "       6.19308536e-04, 5.18443953e-04, 1.27060555e-03, 1.01412133e-03,\n",
       "       1.26196002e-03, 1.14380436e-03, 2.44351655e-03, 2.11210436e-03,\n",
       "       1.13227698e-03, 2.24495742e-04, 2.10922251e-03, 1.67406388e-03,\n",
       "       1.89913599e-04, 2.10057697e-03, 5.81844548e-04, 1.33976984e-03,\n",
       "       2.21613897e-04, 7.34582344e-04, 9.62536012e-01, 1.00576398e-04,\n",
       "       2.31383352e-03, 1.55879007e-03, 2.08040406e-03, 0.00000000e+00,\n",
       "       9.36311509e-04, 2.79250801e-04, 5.96253774e-04, 2.63660018e-03,\n",
       "       2.42622548e-03, 2.30259432e-04, 2.61354542e-03, 8.90201986e-04,\n",
       "       1.58213302e-04, 7.43227880e-04, 2.44063471e-03, 5.70317167e-04,\n",
       "       2.43487102e-03, 1.30806954e-03, 2.87291149e-03, 2.90172994e-03,\n",
       "       4.34870442e-04, 1.72017341e-03, 1.66253650e-03, 1.87867489e-03,\n",
       "       2.10086516e-04, 2.01440980e-04, 4.20461216e-04, 3.74351693e-04,\n",
       "       2.65100941e-03, 2.34553382e-03, 2.21008709e-03, 2.80951090e-03,\n",
       "       4.29394936e-05, 2.78933798e-03, 2.50403530e-03, 6.74063595e-04,\n",
       "       1.90172965e-03, 2.41757995e-03, 8.64265379e-04, 8.67147224e-04,\n",
       "       2.79221982e-03, 2.32824275e-03, 1.16397728e-03, 1.84121091e-03,\n",
       "       1.63083620e-03, 6.79827285e-04, 5.35735025e-04, 2.60201804e-03,\n",
       "       9.91066568e-04, 2.89596625e-03, 2.59077884e-04, 1.62219067e-03,\n",
       "       2.46368947e-03, 1.35994276e-03, 2.38904968e-04, 1.38876121e-03,\n",
       "       1.69135495e-03, 2.61642727e-03, 8.90490170e-05, 1.69711864e-03,\n",
       "       2.91325732e-03, 1.69740683e-04, 1.63976993e-04, 1.58472668e-03,\n",
       "       2.18126864e-03, 2.39740703e-03, 2.28789691e-03, 1.00000000e+00,\n",
       "       4.80979966e-04, 6.25072226e-04, 2.74899215e-03, 7.17579458e-05,\n",
       "       2.87867518e-03, 2.94495762e-03, 3.05475304e-01, 3.25648221e-01,\n",
       "       7.48991570e-04, 1.29077847e-03, 1.73746448e-03, 1.89308412e-03,\n",
       "       2.85562042e-03, 2.70605265e-04, 5.73487197e-05, 1.15244990e-03,\n",
       "       2.23602370e-03, 2.47550504e-04, 4.60807049e-04, 1.62795436e-03,\n",
       "       2.16397757e-03, 2.19855971e-03, 2.23890554e-03, 2.73746477e-03,\n",
       "       1.75187370e-03, 1.10345853e-03, 1.80086507e-03, 7.23054963e-04,\n",
       "       2.64812756e-03, 1.38299752e-03, 1.81527430e-03, 2.60489989e-03,\n",
       "       1.71152787e-03, 1.81268064e-04, 1.52420793e-03, 2.12363174e-03,\n",
       "       2.51556268e-03, 2.50432349e-04, 2.89308441e-03, 7.69164487e-04,\n",
       "       7.57637106e-04, 6.39481452e-04, 2.42046179e-03, 1.07464008e-03,\n",
       "       6.04899310e-04, 1.13804067e-03, 6.71181750e-04, 2.41786813e-04,\n",
       "       7.05763892e-04, 2.78069244e-03, 1.32276695e-04, 1.21008680e-03,\n",
       "       1.57031746e-03, 1.68847311e-03, 3.25360324e-04, 2.27060584e-03,\n",
       "       2.34265197e-03, 2.87002965e-03, 1.82680168e-03, 2.70288262e-03,\n",
       "       2.31959721e-03, 8.03746629e-04, 9.59366271e-04, 7.86455558e-04,\n",
       "       2.74034661e-03, 8.93083831e-04, 4.78098120e-04, 3.14121128e-05,\n",
       "       1.59049037e-03, 2.64841575e-04, 4.00288300e-04, 2.59337251e-03,\n",
       "       1.66858838e-04, 1.36282460e-03, 1.23631160e-04, 2.92190286e-03,\n",
       "       2.68270971e-03, 1.29942401e-03, 1.90749335e-03, 2.69423709e-03,\n",
       "       2.75187399e-03, 1.15821359e-03, 8.70029069e-04, 1.94783918e-03,\n",
       "       5.21325799e-04, 2.38587965e-03, 2.85302676e-05, 1.01123948e-03,\n",
       "       1.11210407e-03, 1.95677290e-04, 5.01152882e-04, 2.16685941e-03,\n",
       "       2.44668658e-04, 2.90749363e-03, 9.16138593e-04, 2.31095167e-03,\n",
       "       1.87579305e-03, 2.76628322e-03, 2.40317072e-03, 2.38299780e-03,\n",
       "       9.30547819e-04, 5.76080858e-04, 1.37723383e-03, 1.06340088e-04,\n",
       "       1.98818501e-03, 1.12651329e-03, 2.62507280e-03, 1.70288234e-03,\n",
       "       2.81239274e-03, 4.31988597e-04, 1.43487073e-03, 2.13256546e-05,\n",
       "       1.73458263e-03, 1.66541835e-03, 4.75216275e-04, 8.32565081e-04,\n",
       "       1.77204662e-03, 2.18991418e-03, 1.50403502e-03, 1.34265168e-03,\n",
       "       7.31700499e-04, 9.42075199e-04, 7.08645737e-04, 1.85562013e-03,\n",
       "       6.76945440e-04, 1.76628293e-03, 6.88761005e-05, 4.40634133e-04,\n",
       "       4.03170145e-04, 1.72881894e-03, 8.09510320e-04, 1.45504365e-03])"
      ]
     },
     "execution_count": 47,
     "metadata": {},
     "output_type": "execute_result"
    }
   ],
   "source": [
    "google_df[\"Size\"].unique()"
   ]
  },
  {
   "cell_type": "markdown",
   "metadata": {},
   "source": [
    "## Paid or Free app"
   ]
  },
  {
   "cell_type": "code",
   "execution_count": 48,
   "metadata": {},
   "outputs": [],
   "source": [
    "## Lets set a function to return the category type of the app (free/paid).\n",
    "result = []\n",
    "for Price in google_df['Price']:\n",
    "    if Price == 0:\n",
    "        result.append('0')\n",
    "    else:\n",
    "        result.append('1')"
   ]
  },
  {
   "cell_type": "code",
   "execution_count": 49,
   "metadata": {},
   "outputs": [],
   "source": [
    "## Here we are appending 0 as free apps and 1 as paid apps and insert it into the dataframe\n",
    "google_df['pf'] = result"
   ]
  },
  {
   "cell_type": "code",
   "execution_count": 50,
   "metadata": {},
   "outputs": [],
   "source": [
    "google_df.pf = pd.to_numeric(google_df[\"pf\"], errors = 'coerce')"
   ]
  },
  {
   "cell_type": "markdown",
   "metadata": {},
   "source": [
    "### Now there all the variables except categories are in either float or integer form which is desired for Machine Learning purposes. Lets get an idea of the data distribution and proceed with visualization to kickstart the ML process."
   ]
  },
  {
   "cell_type": "code",
   "execution_count": 51,
   "metadata": {},
   "outputs": [
    {
     "name": "stdout",
     "output_type": "stream",
     "text": [
      "<class 'pandas.core.frame.DataFrame'>\n",
      "Int64Index: 31999 entries, 0 to 31999\n",
      "Data columns (total 14 columns):\n",
      "Category           31999 non-null object\n",
      "Rating             31999 non-null float64\n",
      "Reviews            31999 non-null float64\n",
      "Installs           31999 non-null float64\n",
      "Size               31999 non-null float64\n",
      "Price              31999 non-null float64\n",
      "Content_Rating     31997 non-null object\n",
      "Category_Code      31999 non-null int64\n",
      "PG_Everyone        31999 non-null uint8\n",
      "PG_Everyone 10+    31999 non-null uint8\n",
      "PG_Mature 17+      31999 non-null uint8\n",
      "PG_Teen            31999 non-null uint8\n",
      "PG_Unrated         31999 non-null uint8\n",
      "pf                 31999 non-null int64\n",
      "dtypes: float64(5), int64(2), object(2), uint8(5)\n",
      "memory usage: 2.6+ MB\n"
     ]
    }
   ],
   "source": [
    "google_df.info()"
   ]
  },
  {
   "cell_type": "code",
   "execution_count": 52,
   "metadata": {},
   "outputs": [
    {
     "data": {
      "text/html": [
       "<div>\n",
       "<style scoped>\n",
       "    .dataframe tbody tr th:only-of-type {\n",
       "        vertical-align: middle;\n",
       "    }\n",
       "\n",
       "    .dataframe tbody tr th {\n",
       "        vertical-align: top;\n",
       "    }\n",
       "\n",
       "    .dataframe thead th {\n",
       "        text-align: right;\n",
       "    }\n",
       "</style>\n",
       "<table border=\"1\" class=\"dataframe\">\n",
       "  <thead>\n",
       "    <tr style=\"text-align: right;\">\n",
       "      <th></th>\n",
       "      <th>Rating</th>\n",
       "      <th>Reviews</th>\n",
       "      <th>Installs</th>\n",
       "      <th>Size</th>\n",
       "      <th>Price</th>\n",
       "      <th>Category_Code</th>\n",
       "      <th>PG_Everyone</th>\n",
       "      <th>PG_Everyone 10+</th>\n",
       "      <th>PG_Mature 17+</th>\n",
       "      <th>PG_Teen</th>\n",
       "      <th>PG_Unrated</th>\n",
       "      <th>pf</th>\n",
       "    </tr>\n",
       "  </thead>\n",
       "  <tbody>\n",
       "    <tr>\n",
       "      <td>count</td>\n",
       "      <td>31999.000000</td>\n",
       "      <td>3.199900e+04</td>\n",
       "      <td>31999.000000</td>\n",
       "      <td>31999.000000</td>\n",
       "      <td>31999.000000</td>\n",
       "      <td>31999.000000</td>\n",
       "      <td>31999.000000</td>\n",
       "      <td>31999.000000</td>\n",
       "      <td>31999.000000</td>\n",
       "      <td>31999.000000</td>\n",
       "      <td>31999.000000</td>\n",
       "      <td>31999.000000</td>\n",
       "    </tr>\n",
       "    <tr>\n",
       "      <td>mean</td>\n",
       "      <td>4.265821</td>\n",
       "      <td>9.849088e+04</td>\n",
       "      <td>0.000825</td>\n",
       "      <td>0.064713</td>\n",
       "      <td>0.290158</td>\n",
       "      <td>24.733648</td>\n",
       "      <td>0.857996</td>\n",
       "      <td>0.032939</td>\n",
       "      <td>0.019438</td>\n",
       "      <td>0.089378</td>\n",
       "      <td>0.000094</td>\n",
       "      <td>0.064033</td>\n",
       "    </tr>\n",
       "    <tr>\n",
       "      <td>std</td>\n",
       "      <td>0.630965</td>\n",
       "      <td>1.173711e+06</td>\n",
       "      <td>0.011744</td>\n",
       "      <td>0.063215</td>\n",
       "      <td>3.320367</td>\n",
       "      <td>14.955881</td>\n",
       "      <td>0.349060</td>\n",
       "      <td>0.178479</td>\n",
       "      <td>0.138061</td>\n",
       "      <td>0.285293</td>\n",
       "      <td>0.009682</td>\n",
       "      <td>0.244816</td>\n",
       "    </tr>\n",
       "    <tr>\n",
       "      <td>min</td>\n",
       "      <td>1.000000</td>\n",
       "      <td>1.000000e+00</td>\n",
       "      <td>0.000000</td>\n",
       "      <td>0.000000</td>\n",
       "      <td>0.000000</td>\n",
       "      <td>0.000000</td>\n",
       "      <td>0.000000</td>\n",
       "      <td>0.000000</td>\n",
       "      <td>0.000000</td>\n",
       "      <td>0.000000</td>\n",
       "      <td>0.000000</td>\n",
       "      <td>0.000000</td>\n",
       "    </tr>\n",
       "    <tr>\n",
       "      <td>25%</td>\n",
       "      <td>4.000000</td>\n",
       "      <td>1.390000e+02</td>\n",
       "      <td>0.000002</td>\n",
       "      <td>0.018155</td>\n",
       "      <td>0.000000</td>\n",
       "      <td>10.000000</td>\n",
       "      <td>1.000000</td>\n",
       "      <td>0.000000</td>\n",
       "      <td>0.000000</td>\n",
       "      <td>0.000000</td>\n",
       "      <td>0.000000</td>\n",
       "      <td>0.000000</td>\n",
       "    </tr>\n",
       "    <tr>\n",
       "      <td>50%</td>\n",
       "      <td>4.000000</td>\n",
       "      <td>1.463000e+03</td>\n",
       "      <td>0.000020</td>\n",
       "      <td>0.046109</td>\n",
       "      <td>0.000000</td>\n",
       "      <td>23.000000</td>\n",
       "      <td>1.000000</td>\n",
       "      <td>0.000000</td>\n",
       "      <td>0.000000</td>\n",
       "      <td>0.000000</td>\n",
       "      <td>0.000000</td>\n",
       "      <td>0.000000</td>\n",
       "    </tr>\n",
       "    <tr>\n",
       "      <td>75%</td>\n",
       "      <td>5.000000</td>\n",
       "      <td>1.443950e+04</td>\n",
       "      <td>0.000200</td>\n",
       "      <td>0.080691</td>\n",
       "      <td>0.000000</td>\n",
       "      <td>39.000000</td>\n",
       "      <td>1.000000</td>\n",
       "      <td>0.000000</td>\n",
       "      <td>0.000000</td>\n",
       "      <td>0.000000</td>\n",
       "      <td>0.000000</td>\n",
       "      <td>0.000000</td>\n",
       "    </tr>\n",
       "    <tr>\n",
       "      <td>max</td>\n",
       "      <td>5.000000</td>\n",
       "      <td>8.621429e+07</td>\n",
       "      <td>1.000000</td>\n",
       "      <td>1.000000</td>\n",
       "      <td>399.990000</td>\n",
       "      <td>50.000000</td>\n",
       "      <td>1.000000</td>\n",
       "      <td>1.000000</td>\n",
       "      <td>1.000000</td>\n",
       "      <td>1.000000</td>\n",
       "      <td>1.000000</td>\n",
       "      <td>1.000000</td>\n",
       "    </tr>\n",
       "  </tbody>\n",
       "</table>\n",
       "</div>"
      ],
      "text/plain": [
       "             Rating       Reviews      Installs          Size         Price  \\\n",
       "count  31999.000000  3.199900e+04  31999.000000  31999.000000  31999.000000   \n",
       "mean       4.265821  9.849088e+04      0.000825      0.064713      0.290158   \n",
       "std        0.630965  1.173711e+06      0.011744      0.063215      3.320367   \n",
       "min        1.000000  1.000000e+00      0.000000      0.000000      0.000000   \n",
       "25%        4.000000  1.390000e+02      0.000002      0.018155      0.000000   \n",
       "50%        4.000000  1.463000e+03      0.000020      0.046109      0.000000   \n",
       "75%        5.000000  1.443950e+04      0.000200      0.080691      0.000000   \n",
       "max        5.000000  8.621429e+07      1.000000      1.000000    399.990000   \n",
       "\n",
       "       Category_Code   PG_Everyone  PG_Everyone 10+  PG_Mature 17+  \\\n",
       "count   31999.000000  31999.000000     31999.000000   31999.000000   \n",
       "mean       24.733648      0.857996         0.032939       0.019438   \n",
       "std        14.955881      0.349060         0.178479       0.138061   \n",
       "min         0.000000      0.000000         0.000000       0.000000   \n",
       "25%        10.000000      1.000000         0.000000       0.000000   \n",
       "50%        23.000000      1.000000         0.000000       0.000000   \n",
       "75%        39.000000      1.000000         0.000000       0.000000   \n",
       "max        50.000000      1.000000         1.000000       1.000000   \n",
       "\n",
       "            PG_Teen    PG_Unrated            pf  \n",
       "count  31999.000000  31999.000000  31999.000000  \n",
       "mean       0.089378      0.000094      0.064033  \n",
       "std        0.285293      0.009682      0.244816  \n",
       "min        0.000000      0.000000      0.000000  \n",
       "25%        0.000000      0.000000      0.000000  \n",
       "50%        0.000000      0.000000      0.000000  \n",
       "75%        0.000000      0.000000      0.000000  \n",
       "max        1.000000      1.000000      1.000000  "
      ]
     },
     "execution_count": 52,
     "metadata": {},
     "output_type": "execute_result"
    }
   ],
   "source": [
    "google_df.describe()"
   ]
  },
  {
   "cell_type": "markdown",
   "metadata": {},
   "source": [
    "### Before we move further to visualizations, lets remove any existing outliers that could affect our data."
   ]
  },
  {
   "cell_type": "code",
   "execution_count": 53,
   "metadata": {},
   "outputs": [
    {
     "name": "stdout",
     "output_type": "stream",
     "text": [
      "The score threshold is: 1.0\n",
      "Number of outliers is: 5944\n",
      "The score threshold is: 1.5\n",
      "Number of outliers is: 5303\n",
      "The score threshold is: 2.0\n",
      "Number of outliers is: 4835\n",
      "The score threshold is: 2.5\n",
      "Number of outliers is: 4459\n",
      "The score threshold is: 3.0\n",
      "Number of outliers is: 4159\n",
      "The score threshold is: 3.5\n",
      "Number of outliers is: 3878\n",
      "The score threshold is: 4.0\n",
      "Number of outliers is: 3676\n",
      "The score threshold is: 4.5\n",
      "Number of outliers is: 3469\n"
     ]
    }
   ],
   "source": [
    "q75, q25 = np.percentile(google_df[\"Reviews\"], [75 ,25])\n",
    "iqr = q75 - q25\n",
    "\n",
    "for threshold in np.arange(1,5,0.5):\n",
    "    min_val = q25 - (iqr*threshold)\n",
    "    max_val = q75 + (iqr*threshold)\n",
    "    print(\"The score threshold is: {}\".format(threshold))\n",
    "    print(\"Number of outliers is: {}\".format(\n",
    "        len((np.where((google_df[\"Reviews\"] > max_val) \n",
    "                      | (google_df[\"Reviews\"] < min_val))[0]))\n",
    "    ))\n"
   ]
  },
  {
   "cell_type": "code",
   "execution_count": 54,
   "metadata": {},
   "outputs": [
    {
     "data": {
      "image/png": "[encoded data removed]",
      "text/plain": [
       "<Figure size 1440x1440 with 6 Axes>"
      ]
     },
     "metadata": {
      "needs_background": "light"
     },
     "output_type": "display_data"
    }
   ],
   "source": [
    "plt.figure(figsize = (20,20))\n",
    "\n",
    "List = ['Reviews', 'Installs', 'Size', 'Price','pf', 'Category_Code']\n",
    "\n",
    "for i, col in enumerate (List):\n",
    "    plt.subplot(len(List),2,i+1)\n",
    "    plt.boxplot(google_df[col])\n",
    "    plt.title(\"boxplot of {}\".format(col))\n",
    "    \n",
    "plt.show()"
   ]
  },
  {
   "cell_type": "code",
   "execution_count": 55,
   "metadata": {},
   "outputs": [
    {
     "data": {
      "image/png": "[encoded data removed]",
      "text/plain": [
       "<Figure size 1440x1440 with 7 Axes>"
      ]
     },
     "metadata": {
      "needs_background": "light"
     },
     "output_type": "display_data"
    }
   ],
   "source": [
    "plt.figure(figsize = (20,20))\n",
    "\n",
    "List = ['Rating', 'Reviews', 'Installs', 'Size', 'Price','pf', 'Category_Code']\n",
    "\n",
    "for i, col in enumerate (List):\n",
    "    plt.subplot(len(List),2,i+1)\n",
    "    plt.hist(google_df[col])\n",
    "    plt.title(\"Histogram of {}\".format(col))\n",
    "    \n",
    "plt.show()"
   ]
  },
  {
   "cell_type": "code",
   "execution_count": 56,
   "metadata": {},
   "outputs": [],
   "source": [
    "google_df[\"Reviews\"] = (np.log(google_df[\"Reviews\"]))\n",
    "#google_df[\"Rating\"] = (np.log(google_df[\"Rating\"]))"
   ]
  },
  {
   "cell_type": "code",
   "execution_count": 57,
   "metadata": {},
   "outputs": [
    {
     "data": {
      "image/png": "[encoded data removed]",
      "text/plain": [
       "<Figure size 1440x1440 with 3 Axes>"
      ]
     },
     "metadata": {
      "needs_background": "light"
     },
     "output_type": "display_data"
    }
   ],
   "source": [
    "plt.figure(figsize = (20,20))\n",
    "\n",
    "List = ['Reviews', 'Installs', 'Size']\n",
    "\n",
    "for i, col in enumerate (List):\n",
    "    plt.subplot(len(List),2,i+1)\n",
    "    plt.hist((google_df[col]))\n",
    "    plt.title(\"histogram of {}\".format(col))\n",
    "    \n",
    "plt.show()"
   ]
  },
  {
   "cell_type": "markdown",
   "metadata": {},
   "source": [
    "We will take the log of the variables containing outliers and plot a histgram to check for normality. Variable \"Price\" contains a lot of 0 values that cannot be used to take log value. Let's **Winsorize** Price alone."
   ]
  },
  {
   "cell_type": "code",
   "execution_count": 58,
   "metadata": {},
   "outputs": [],
   "source": [
    "from scipy.stats.mstats import winsorize\n",
    "\n",
    "google_df[\"Price\"] = winsorize(google_df[\"Price\"], (0.10, 0.05))\n",
    "\n",
    "google_df[\"Installs\"] = winsorize(google_df[\"Installs\"], (0, 0.05))\n",
    "\n",
    "google_df[\"Size\"] = winsorize(google_df[\"Size\"], (0,0.05))"
   ]
  },
  {
   "cell_type": "code",
   "execution_count": 59,
   "metadata": {},
   "outputs": [
    {
     "data": {
      "image/png": "[encoded data removed]",
      "text/plain": [
       "<Figure size 1440x1440 with 3 Axes>"
      ]
     },
     "metadata": {
      "needs_background": "light"
     },
     "output_type": "display_data"
    }
   ],
   "source": [
    "plt.figure(figsize = (20,20))\n",
    "\n",
    "plt.subplot(2,2,1)\n",
    "plt.boxplot(google_df[\"Price\"], whis = 5)\n",
    "plt.title(\"Box plot of Price\")\n",
    "\n",
    "\n",
    "plt.subplot(2,2,2)\n",
    "plt.boxplot(google_df[\"Installs\"], whis = 5)\n",
    "plt.title(\"Box plot of Installs\")\n",
    "\n",
    "plt.subplot(2,2,3)\n",
    "plt.boxplot(google_df[\"Size\"], whis = 5)\n",
    "plt.title(\"Box plot of Size\")\n",
    "plt.show()\n",
    "\n"
   ]
  },
  {
   "cell_type": "markdown",
   "metadata": {},
   "source": [
    "### The data is now completely cleaned and can be used for visualization and machine learning."
   ]
  },
  {
   "cell_type": "markdown",
   "metadata": {},
   "source": [
    "## Visualization"
   ]
  },
  {
   "cell_type": "code",
   "execution_count": 60,
   "metadata": {},
   "outputs": [
    {
     "data": {
      "application/vnd.plotly.v1+json": {
       "config": {
        "linkText": "Export to plot.ly",
        "plotlyServerURL": "https://plot.ly",
        "showLink": true
       },
       "data": [
        {
         "marker": {
          "color": "rgba(139, 0, 0, 0.6)",
          "line": {
           "color": "rgba(139, 0, 0, 1.0)",
           "width": 1
          }
         },
         "name": "Rating",
         "orientation": "v",
         "text": "",
         "type": "bar",
         "x": [
          "BOOKS_AND_REFERENCE",
          "GAME_WORD",
          "PERSONALIZATION",
          "GAME_PUZZLE",
          "MUSIC_AND_AUDIO",
          "GAME_CASINO",
          "PARENTING",
          "EDUCATION",
          "GAME_ROLE_PLAYING",
          "GAME_ADVENTURE",
          "LIFESTYLE",
          "HEALTH_AND_FITNESS",
          "WEATHER",
          "GAME_CARD",
          "GAME_BOARD",
          "SOCIAL",
          "GAME_STRATEGY",
          "GAME_SIMULATION",
          "GAME_ARCADE",
          "TOOLS",
          "GAME_CASUAL",
          "ART_AND_DESIGN",
          "GAME_ACTION",
          "MEDICAL",
          "SPORTS",
          "FOOD_AND_DRINK",
          "GAME_EDUCATIONAL",
          "PRODUCTIVITY",
          "PHOTOGRAPHY",
          "GAME_MUSIC",
          "LIBRARIES_AND_DEMO",
          "AUTO_AND_VEHICLES",
          "BEAUTY",
          "COMICS",
          "ENTERTAINMENT",
          "HOUSE_AND_HOME",
          "COMMUNICATION",
          "GAME_SPORTS",
          "SHOPPING",
          "NEWS_AND_MAGAZINES"
         ],
         "y": [
          4.564368517388652,
          4.540441176470588,
          4.4743742550655545,
          4.444333996023857,
          4.437081161578555,
          4.417721518987341,
          4.394495412844036,
          4.390265228796269,
          4.327790973871734,
          4.310126582278481,
          4.309941520467836,
          4.298377028714107,
          4.285,
          4.28169014084507,
          4.280442804428044,
          4.269141531322505,
          4.265193370165746,
          4.259187620889748,
          4.248882265275708,
          4.245935806586077,
          4.240112994350283,
          4.2392638036809815,
          4.237347294938918,
          4.2303030303030305,
          4.230016313213703,
          4.228758169934641,
          4.225152129817444,
          4.2210242587601075,
          4.211161387631976,
          4.206185567010309,
          4.203125,
          4.202702702702703,
          4.2,
          4.197530864197531,
          4.187529976019185,
          4.1796875,
          4.177394034536892,
          4.170491803278688,
          4.167673716012085,
          4.15030303030303
         ]
        }
       ],
       "layout": {
        "legend": {
         "bgcolor": "#F5F6F9",
         "font": {
          "color": "#4D5663"
         }
        },
        "paper_bgcolor": "#F5F6F9",
        "plot_bgcolor": "#F5F6F9",
        "template": {
         "data": {
          "bar": [
           {
            "error_x": {
             "color": "#2a3f5f"
            },
            "error_y": {
             "color": "#2a3f5f"
            },
            "marker": {
             "line": {
              "color": "#E5ECF6",
              "width": 0.5
             }
            },
            "type": "bar"
           }
          ],
          "barpolar": [
           {
            "marker": {
             "line": {
              "color": "#E5ECF6",
              "width": 0.5
             }
            },
            "type": "barpolar"
           }
          ],
          "carpet": [
           {
            "aaxis": {
             "endlinecolor": "#2a3f5f",
             "gridcolor": "white",
             "linecolor": "white",
             "minorgridcolor": "white",
             "startlinecolor": "#2a3f5f"
            },
            "baxis": {
             "endlinecolor": "#2a3f5f",
             "gridcolor": "white",
             "linecolor": "white",
             "minorgridcolor": "white",
             "startlinecolor": "#2a3f5f"
            },
            "type": "carpet"
           }
          ],
          "choropleth": [
           {
            "colorbar": {
             "outlinewidth": 0,
             "ticks": ""
            },
            "type": "choropleth"
           }
          ],
          "contour": [
           {
            "colorbar": {
             "outlinewidth": 0,
             "ticks": ""
            },
            "colorscale": [
             [
              0,
              "#0d0887"
             ],
             [
              0.1111111111111111,
              "#46039f"
             ],
             [
              0.2222222222222222,
              "#7201a8"
             ],
             [
              0.3333333333333333,
              "#9c179e"
             ],
             [
              0.4444444444444444,
              "#bd3786"
             ],
             [
              0.5555555555555556,
              "#d8576b"
             ],
             [
              0.6666666666666666,
              "#ed7953"
             ],
             [
              0.7777777777777778,
              "#fb9f3a"
             ],
             [
              0.8888888888888888,
              "#fdca26"
             ],
             [
              1,
              "#f0f921"
             ]
            ],
            "type": "contour"
           }
          ],
          "contourcarpet": [
           {
            "colorbar": {
             "outlinewidth": 0,
             "ticks": ""
            },
            "type": "contourcarpet"
           }
          ],
          "heatmap": [
           {
            "colorbar": {
             "outlinewidth": 0,
             "ticks": ""
            },
            "colorscale": [
             [
              0,
              "#0d0887"
             ],
             [
              0.1111111111111111,
              "#46039f"
             ],
             [
              0.2222222222222222,
              "#7201a8"
             ],
             [
              0.3333333333333333,
              "#9c179e"
             ],
             [
              0.4444444444444444,
              "#bd3786"
             ],
             [
              0.5555555555555556,
              "#d8576b"
             ],
             [
              0.6666666666666666,
              "#ed7953"
             ],
             [
              0.7777777777777778,
              "#fb9f3a"
             ],
             [
              0.8888888888888888,
              "#fdca26"
             ],
             [
              1,
              "#f0f921"
             ]
            ],
            "type": "heatmap"
           }
          ],
          "heatmapgl": [
           {
            "colorbar": {
             "outlinewidth": 0,
             "ticks": ""
            },
            "colorscale": [
             [
              0,
              "#0d0887"
             ],
             [
              0.1111111111111111,
              "#46039f"
             ],
             [
              0.2222222222222222,
              "#7201a8"
             ],
             [
              0.3333333333333333,
              "#9c179e"
             ],
             [
              0.4444444444444444,
              "#bd3786"
             ],
             [
              0.5555555555555556,
              "#d8576b"
             ],
             [
              0.6666666666666666,
              "#ed7953"
             ],
             [
              0.7777777777777778,
              "#fb9f3a"
             ],
             [
              0.8888888888888888,
              "#fdca26"
             ],
             [
              1,
              "#f0f921"
             ]
            ],
            "type": "heatmapgl"
           }
          ],
          "histogram": [
           {
            "marker": {
             "colorbar": {
              "outlinewidth": 0,
              "ticks": ""
             }
            },
            "type": "histogram"
           }
          ],
          "histogram2d": [
           {
            "colorbar": {
             "outlinewidth": 0,
             "ticks": ""
            },
            "colorscale": [
             [
              0,
              "#0d0887"
             ],
             [
              0.1111111111111111,
              "#46039f"
             ],
             [
              0.2222222222222222,
              "#7201a8"
             ],
             [
              0.3333333333333333,
              "#9c179e"
             ],
             [
              0.4444444444444444,
              "#bd3786"
             ],
             [
              0.5555555555555556,
              "#d8576b"
             ],
             [
              0.6666666666666666,
              "#ed7953"
             ],
             [
              0.7777777777777778,
              "#fb9f3a"
             ],
             [
              0.8888888888888888,
              "#fdca26"
             ],
             [
              1,
              "#f0f921"
             ]
            ],
            "type": "histogram2d"
           }
          ],
          "histogram2dcontour": [
           {
            "colorbar": {
             "outlinewidth": 0,
             "ticks": ""
            },
            "colorscale": [
             [
              0,
              "#0d0887"
             ],
             [
              0.1111111111111111,
              "#46039f"
             ],
             [
              0.2222222222222222,
              "#7201a8"
             ],
             [
              0.3333333333333333,
              "#9c179e"
             ],
             [
              0.4444444444444444,
              "#bd3786"
             ],
             [
              0.5555555555555556,
              "#d8576b"
             ],
             [
              0.6666666666666666,
              "#ed7953"
             ],
             [
              0.7777777777777778,
              "#fb9f3a"
             ],
             [
              0.8888888888888888,
              "#fdca26"
             ],
             [
              1,
              "#f0f921"
             ]
            ],
            "type": "histogram2dcontour"
           }
          ],
          "mesh3d": [
           {
            "colorbar": {
             "outlinewidth": 0,
             "ticks": ""
            },
            "type": "mesh3d"
           }
          ],
          "parcoords": [
           {
            "line": {
             "colorbar": {
              "outlinewidth": 0,
              "ticks": ""
             }
            },
            "type": "parcoords"
           }
          ],
          "pie": [
           {
            "automargin": true,
            "type": "pie"
           }
          ],
          "scatter": [
           {
            "marker": {
             "colorbar": {
              "outlinewidth": 0,
              "ticks": ""
             }
            },
            "type": "scatter"
           }
          ],
          "scatter3d": [
           {
            "line": {
             "colorbar": {
              "outlinewidth": 0,
              "ticks": ""
             }
            },
            "marker": {
             "colorbar": {
              "outlinewidth": 0,
              "ticks": ""
             }
            },
            "type": "scatter3d"
           }
          ],
          "scattercarpet": [
           {
            "marker": {
             "colorbar": {
              "outlinewidth": 0,
              "ticks": ""
             }
            },
            "type": "scattercarpet"
           }
          ],
          "scattergeo": [
           {
            "marker": {
             "colorbar": {
              "outlinewidth": 0,
              "ticks": ""
             }
            },
            "type": "scattergeo"
           }
          ],
          "scattergl": [
           {
            "marker": {
             "colorbar": {
              "outlinewidth": 0,
              "ticks": ""
             }
            },
            "type": "scattergl"
           }
          ],
          "scattermapbox": [
           {
            "marker": {
             "colorbar": {
              "outlinewidth": 0,
              "ticks": ""
             }
            },
            "type": "scattermapbox"
           }
          ],
          "scatterpolar": [
           {
            "marker": {
             "colorbar": {
              "outlinewidth": 0,
              "ticks": ""
             }
            },
            "type": "scatterpolar"
           }
          ],
          "scatterpolargl": [
           {
            "marker": {
             "colorbar": {
              "outlinewidth": 0,
              "ticks": ""
             }
            },
            "type": "scatterpolargl"
           }
          ],
          "scatterternary": [
           {
            "marker": {
             "colorbar": {
              "outlinewidth": 0,
              "ticks": ""
             }
            },
            "type": "scatterternary"
           }
          ],
          "surface": [
           {
            "colorbar": {
             "outlinewidth": 0,
             "ticks": ""
            },
            "colorscale": [
             [
              0,
              "#0d0887"
             ],
             [
              0.1111111111111111,
              "#46039f"
             ],
             [
              0.2222222222222222,
              "#7201a8"
             ],
             [
              0.3333333333333333,
              "#9c179e"
             ],
             [
              0.4444444444444444,
              "#bd3786"
             ],
             [
              0.5555555555555556,
              "#d8576b"
             ],
             [
              0.6666666666666666,
              "#ed7953"
             ],
             [
              0.7777777777777778,
              "#fb9f3a"
             ],
             [
              0.8888888888888888,
              "#fdca26"
             ],
             [
              1,
              "#f0f921"
             ]
            ],
            "type": "surface"
           }
          ],
          "table": [
           {
            "cells": {
             "fill": {
              "color": "#EBF0F8"
             },
             "line": {
              "color": "white"
             }
            },
            "header": {
             "fill": {
              "color": "#C8D4E3"
             },
             "line": {
              "color": "white"
             }
            },
            "type": "table"
           }
          ]
         },
         "layout": {
          "annotationdefaults": {
           "arrowcolor": "#2a3f5f",
           "arrowhead": 0,
           "arrowwidth": 1
          },
          "coloraxis": {
           "colorbar": {
            "outlinewidth": 0,
            "ticks": ""
           }
          },
          "colorscale": {
           "diverging": [
            [
             0,
             "#8e0152"
            ],
            [
             0.1,
             "#c51b7d"
            ],
            [
             0.2,
             "#de77ae"
            ],
            [
             0.3,
             "#f1b6da"
            ],
            [
             0.4,
             "#fde0ef"
            ],
            [
             0.5,
             "#f7f7f7"
            ],
            [
             0.6,
             "#e6f5d0"
            ],
            [
             0.7,
             "#b8e186"
            ],
            [
             0.8,
             "#7fbc41"
            ],
            [
             0.9,
             "#4d9221"
            ],
            [
             1,
             "#276419"
            ]
           ],
           "sequential": [
            [
             0,
             "#0d0887"
            ],
            [
             0.1111111111111111,
             "#46039f"
            ],
            [
             0.2222222222222222,
             "#7201a8"
            ],
            [
             0.3333333333333333,
             "#9c179e"
            ],
            [
             0.4444444444444444,
             "#bd3786"
            ],
            [
             0.5555555555555556,
             "#d8576b"
            ],
            [
             0.6666666666666666,
             "#ed7953"
            ],
            [
             0.7777777777777778,
             "#fb9f3a"
            ],
            [
             0.8888888888888888,
             "#fdca26"
            ],
            [
             1,
             "#f0f921"
            ]
           ],
           "sequentialminus": [
            [
             0,
             "#0d0887"
            ],
            [
             0.1111111111111111,
             "#46039f"
            ],
            [
             0.2222222222222222,
             "#7201a8"
            ],
            [
             0.3333333333333333,
             "#9c179e"
            ],
            [
             0.4444444444444444,
             "#bd3786"
            ],
            [
             0.5555555555555556,
             "#d8576b"
            ],
            [
             0.6666666666666666,
             "#ed7953"
            ],
            [
             0.7777777777777778,
             "#fb9f3a"
            ],
            [
             0.8888888888888888,
             "#fdca26"
            ],
            [
             1,
             "#f0f921"
            ]
           ]
          },
          "colorway": [
           "#636efa",
           "#EF553B",
           "#00cc96",
           "#ab63fa",
           "#FFA15A",
           "#19d3f3",
           "#FF6692",
           "#B6E880",
           "#FF97FF",
           "#FECB52"
          ],
          "font": {
           "color": "#2a3f5f"
          },
          "geo": {
           "bgcolor": "white",
           "lakecolor": "white",
           "landcolor": "#E5ECF6",
           "showlakes": true,
           "showland": true,
           "subunitcolor": "white"
          },
          "hoverlabel": {
           "align": "left"
          },
          "hovermode": "closest",
          "mapbox": {
           "style": "light"
          },
          "paper_bgcolor": "white",
          "plot_bgcolor": "#E5ECF6",
          "polar": {
           "angularaxis": {
            "gridcolor": "white",
            "linecolor": "white",
            "ticks": ""
           },
           "bgcolor": "#E5ECF6",
           "radialaxis": {
            "gridcolor": "white",
            "linecolor": "white",
            "ticks": ""
           }
          },
          "scene": {
           "xaxis": {
            "backgroundcolor": "#E5ECF6",
            "gridcolor": "white",
            "gridwidth": 2,
            "linecolor": "white",
            "showbackground": true,
            "ticks": "",
            "zerolinecolor": "white"
           },
           "yaxis": {
            "backgroundcolor": "#E5ECF6",
            "gridcolor": "white",
            "gridwidth": 2,
            "linecolor": "white",
            "showbackground": true,
            "ticks": "",
            "zerolinecolor": "white"
           },
           "zaxis": {
            "backgroundcolor": "#E5ECF6",
            "gridcolor": "white",
            "gridwidth": 2,
            "linecolor": "white",
            "showbackground": true,
            "ticks": "",
            "zerolinecolor": "white"
           }
          },
          "shapedefaults": {
           "line": {
            "color": "#2a3f5f"
           }
          },
          "ternary": {
           "aaxis": {
            "gridcolor": "white",
            "linecolor": "white",
            "ticks": ""
           },
           "baxis": {
            "gridcolor": "white",
            "linecolor": "white",
            "ticks": ""
           },
           "bgcolor": "#E5ECF6",
           "caxis": {
            "gridcolor": "white",
            "linecolor": "white",
            "ticks": ""
           }
          },
          "title": {
           "x": 0.05
          },
          "xaxis": {
           "automargin": true,
           "gridcolor": "white",
           "linecolor": "white",
           "ticks": "",
           "title": {
            "standoff": 15
           },
           "zerolinecolor": "white",
           "zerolinewidth": 2
          },
          "yaxis": {
           "automargin": true,
           "gridcolor": "white",
           "linecolor": "white",
           "ticks": "",
           "title": {
            "standoff": 15
           },
           "zerolinecolor": "white",
           "zerolinewidth": 2
          }
         }
        },
        "title": {
         "font": {
          "color": "#4D5663"
         }
        },
        "xaxis": {
         "gridcolor": "#E1E5ED",
         "showgrid": true,
         "tickfont": {
          "color": "#4D5663"
         },
         "title": {
          "font": {
           "color": "#4D5663"
          },
          "text": ""
         },
         "zerolinecolor": "#E1E5ED"
        },
        "yaxis": {
         "gridcolor": "#E1E5ED",
         "showgrid": true,
         "tickfont": {
          "color": "#4D5663"
         },
         "title": {
          "font": {
           "color": "#4D5663"
          },
          "text": ""
         },
         "zerolinecolor": "#E1E5ED"
        }
       }
      },
      "text/html": [
       "<div>\n",
       "        \n",
       "        \n",
       "            <div id=\"be517fa1-bd6b-41a2-aab2-6b4c3382ff24\" class=\"plotly-graph-div\" style=\"height:525px; width:100%;\"></div>\n",
       "            <script type=\"text/javascript\">\n",
       "                require([\"plotly\"], function(Plotly) {\n",
       "                    window.PLOTLYENV=window.PLOTLYENV || {};\n",
       "                    window.PLOTLYENV.BASE_URL='https://plot.ly';\n",
       "                    \n",
       "                if (document.getElementById(\"be517fa1-bd6b-41a2-aab2-6b4c3382ff24\")) {\n",
       "                    Plotly.newPlot(\n",
       "                        'be517fa1-bd6b-41a2-aab2-6b4c3382ff24',\n",
       "                        [{\"marker\": {\"color\": \"rgba(139, 0, 0, 0.6)\", \"line\": {\"color\": \"rgba(139, 0, 0, 1.0)\", \"width\": 1}}, \"name\": \"Rating\", \"orientation\": \"v\", \"text\": \"\", \"type\": \"bar\", \"x\": [\"BOOKS_AND_REFERENCE\", \"GAME_WORD\", \"PERSONALIZATION\", \"GAME_PUZZLE\", \"MUSIC_AND_AUDIO\", \"GAME_CASINO\", \"PARENTING\", \"EDUCATION\", \"GAME_ROLE_PLAYING\", \"GAME_ADVENTURE\", \"LIFESTYLE\", \"HEALTH_AND_FITNESS\", \"WEATHER\", \"GAME_CARD\", \"GAME_BOARD\", \"SOCIAL\", \"GAME_STRATEGY\", \"GAME_SIMULATION\", \"GAME_ARCADE\", \"TOOLS\", \"GAME_CASUAL\", \"ART_AND_DESIGN\", \"GAME_ACTION\", \"MEDICAL\", \"SPORTS\", \"FOOD_AND_DRINK\", \"GAME_EDUCATIONAL\", \"PRODUCTIVITY\", \"PHOTOGRAPHY\", \"GAME_MUSIC\", \"LIBRARIES_AND_DEMO\", \"AUTO_AND_VEHICLES\", \"BEAUTY\", \"COMICS\", \"ENTERTAINMENT\", \"HOUSE_AND_HOME\", \"COMMUNICATION\", \"GAME_SPORTS\", \"SHOPPING\", \"NEWS_AND_MAGAZINES\"], \"y\": [4.564368517388652, 4.540441176470588, 4.4743742550655545, 4.444333996023857, 4.437081161578555, 4.417721518987341, 4.394495412844036, 4.390265228796269, 4.327790973871734, 4.310126582278481, 4.309941520467836, 4.298377028714107, 4.285, 4.28169014084507, 4.280442804428044, 4.269141531322505, 4.265193370165746, 4.259187620889748, 4.248882265275708, 4.245935806586077, 4.240112994350283, 4.2392638036809815, 4.237347294938918, 4.2303030303030305, 4.230016313213703, 4.228758169934641, 4.225152129817444, 4.2210242587601075, 4.211161387631976, 4.206185567010309, 4.203125, 4.202702702702703, 4.2, 4.197530864197531, 4.187529976019185, 4.1796875, 4.177394034536892, 4.170491803278688, 4.167673716012085, 4.15030303030303]}],\n",
       "                        {\"legend\": {\"bgcolor\": \"#F5F6F9\", \"font\": {\"color\": \"#4D5663\"}}, \"paper_bgcolor\": \"#F5F6F9\", \"plot_bgcolor\": \"#F5F6F9\", \"template\": {\"data\": {\"bar\": [{\"error_x\": {\"color\": \"#2a3f5f\"}, \"error_y\": {\"color\": \"#2a3f5f\"}, \"marker\": {\"line\": {\"color\": \"#E5ECF6\", \"width\": 0.5}}, \"type\": \"bar\"}], \"barpolar\": [{\"marker\": {\"line\": {\"color\": \"#E5ECF6\", \"width\": 0.5}}, \"type\": \"barpolar\"}], \"carpet\": [{\"aaxis\": {\"endlinecolor\": \"#2a3f5f\", \"gridcolor\": \"white\", \"linecolor\": \"white\", \"minorgridcolor\": \"white\", \"startlinecolor\": \"#2a3f5f\"}, \"baxis\": {\"endlinecolor\": \"#2a3f5f\", \"gridcolor\": \"white\", \"linecolor\": \"white\", \"minorgridcolor\": \"white\", \"startlinecolor\": \"#2a3f5f\"}, \"type\": \"carpet\"}], \"choropleth\": [{\"colorbar\": {\"outlinewidth\": 0, \"ticks\": \"\"}, \"type\": \"choropleth\"}], \"contour\": [{\"colorbar\": {\"outlinewidth\": 0, \"ticks\": \"\"}, \"colorscale\": [[0.0, \"#0d0887\"], [0.1111111111111111, \"#46039f\"], [0.2222222222222222, \"#7201a8\"], [0.3333333333333333, \"#9c179e\"], [0.4444444444444444, \"#bd3786\"], [0.5555555555555556, \"#d8576b\"], [0.6666666666666666, \"#ed7953\"], [0.7777777777777778, \"#fb9f3a\"], [0.8888888888888888, \"#fdca26\"], [1.0, \"#f0f921\"]], \"type\": \"contour\"}], \"contourcarpet\": [{\"colorbar\": {\"outlinewidth\": 0, \"ticks\": \"\"}, \"type\": \"contourcarpet\"}], \"heatmap\": [{\"colorbar\": {\"outlinewidth\": 0, \"ticks\": \"\"}, \"colorscale\": [[0.0, \"#0d0887\"], [0.1111111111111111, \"#46039f\"], [0.2222222222222222, \"#7201a8\"], [0.3333333333333333, \"#9c179e\"], [0.4444444444444444, \"#bd3786\"], [0.5555555555555556, \"#d8576b\"], [0.6666666666666666, \"#ed7953\"], [0.7777777777777778, \"#fb9f3a\"], [0.8888888888888888, \"#fdca26\"], [1.0, \"#f0f921\"]], \"type\": \"heatmap\"}], \"heatmapgl\": [{\"colorbar\": {\"outlinewidth\": 0, \"ticks\": \"\"}, \"colorscale\": [[0.0, \"#0d0887\"], [0.1111111111111111, \"#46039f\"], [0.2222222222222222, \"#7201a8\"], [0.3333333333333333, \"#9c179e\"], [0.4444444444444444, \"#bd3786\"], [0.5555555555555556, \"#d8576b\"], [0.6666666666666666, \"#ed7953\"], [0.7777777777777778, \"#fb9f3a\"], [0.8888888888888888, \"#fdca26\"], [1.0, \"#f0f921\"]], \"type\": \"heatmapgl\"}], \"histogram\": [{\"marker\": {\"colorbar\": {\"outlinewidth\": 0, \"ticks\": \"\"}}, \"type\": \"histogram\"}], \"histogram2d\": [{\"colorbar\": {\"outlinewidth\": 0, \"ticks\": \"\"}, \"colorscale\": [[0.0, \"#0d0887\"], [0.1111111111111111, \"#46039f\"], [0.2222222222222222, \"#7201a8\"], [0.3333333333333333, \"#9c179e\"], [0.4444444444444444, \"#bd3786\"], [0.5555555555555556, \"#d8576b\"], [0.6666666666666666, \"#ed7953\"], [0.7777777777777778, \"#fb9f3a\"], [0.8888888888888888, \"#fdca26\"], [1.0, \"#f0f921\"]], \"type\": \"histogram2d\"}], \"histogram2dcontour\": [{\"colorbar\": {\"outlinewidth\": 0, \"ticks\": \"\"}, \"colorscale\": [[0.0, \"#0d0887\"], [0.1111111111111111, \"#46039f\"], [0.2222222222222222, \"#7201a8\"], [0.3333333333333333, \"#9c179e\"], [0.4444444444444444, \"#bd3786\"], [0.5555555555555556, \"#d8576b\"], [0.6666666666666666, \"#ed7953\"], [0.7777777777777778, \"#fb9f3a\"], [0.8888888888888888, \"#fdca26\"], [1.0, \"#f0f921\"]], \"type\": \"histogram2dcontour\"}], \"mesh3d\": [{\"colorbar\": {\"outlinewidth\": 0, \"ticks\": \"\"}, \"type\": \"mesh3d\"}], \"parcoords\": [{\"line\": {\"colorbar\": {\"outlinewidth\": 0, \"ticks\": \"\"}}, \"type\": \"parcoords\"}], \"pie\": [{\"automargin\": true, \"type\": \"pie\"}], \"scatter\": [{\"marker\": {\"colorbar\": {\"outlinewidth\": 0, \"ticks\": \"\"}}, \"type\": \"scatter\"}], \"scatter3d\": [{\"line\": {\"colorbar\": {\"outlinewidth\": 0, \"ticks\": \"\"}}, \"marker\": {\"colorbar\": {\"outlinewidth\": 0, \"ticks\": \"\"}}, \"type\": \"scatter3d\"}], \"scattercarpet\": [{\"marker\": {\"colorbar\": {\"outlinewidth\": 0, \"ticks\": \"\"}}, \"type\": \"scattercarpet\"}], \"scattergeo\": [{\"marker\": {\"colorbar\": {\"outlinewidth\": 0, \"ticks\": \"\"}}, \"type\": \"scattergeo\"}], \"scattergl\": [{\"marker\": {\"colorbar\": {\"outlinewidth\": 0, \"ticks\": \"\"}}, \"type\": \"scattergl\"}], \"scattermapbox\": [{\"marker\": {\"colorbar\": {\"outlinewidth\": 0, \"ticks\": \"\"}}, \"type\": \"scattermapbox\"}], \"scatterpolar\": [{\"marker\": {\"colorbar\": {\"outlinewidth\": 0, \"ticks\": \"\"}}, \"type\": \"scatterpolar\"}], \"scatterpolargl\": [{\"marker\": {\"colorbar\": {\"outlinewidth\": 0, \"ticks\": \"\"}}, \"type\": \"scatterpolargl\"}], \"scatterternary\": [{\"marker\": {\"colorbar\": {\"outlinewidth\": 0, \"ticks\": \"\"}}, \"type\": \"scatterternary\"}], \"surface\": [{\"colorbar\": {\"outlinewidth\": 0, \"ticks\": \"\"}, \"colorscale\": [[0.0, \"#0d0887\"], [0.1111111111111111, \"#46039f\"], [0.2222222222222222, \"#7201a8\"], [0.3333333333333333, \"#9c179e\"], [0.4444444444444444, \"#bd3786\"], [0.5555555555555556, \"#d8576b\"], [0.6666666666666666, \"#ed7953\"], [0.7777777777777778, \"#fb9f3a\"], [0.8888888888888888, \"#fdca26\"], [1.0, \"#f0f921\"]], \"type\": \"surface\"}], \"table\": [{\"cells\": {\"fill\": {\"color\": \"#EBF0F8\"}, \"line\": {\"color\": \"white\"}}, \"header\": {\"fill\": {\"color\": \"#C8D4E3\"}, \"line\": {\"color\": \"white\"}}, \"type\": \"table\"}]}, \"layout\": {\"annotationdefaults\": {\"arrowcolor\": \"#2a3f5f\", \"arrowhead\": 0, \"arrowwidth\": 1}, \"coloraxis\": {\"colorbar\": {\"outlinewidth\": 0, \"ticks\": \"\"}}, \"colorscale\": {\"diverging\": [[0, \"#8e0152\"], [0.1, \"#c51b7d\"], [0.2, \"#de77ae\"], [0.3, \"#f1b6da\"], [0.4, \"#fde0ef\"], [0.5, \"#f7f7f7\"], [0.6, \"#e6f5d0\"], [0.7, \"#b8e186\"], [0.8, \"#7fbc41\"], [0.9, \"#4d9221\"], [1, \"#276419\"]], \"sequential\": [[0.0, \"#0d0887\"], [0.1111111111111111, \"#46039f\"], [0.2222222222222222, \"#7201a8\"], [0.3333333333333333, \"#9c179e\"], [0.4444444444444444, \"#bd3786\"], [0.5555555555555556, \"#d8576b\"], [0.6666666666666666, \"#ed7953\"], [0.7777777777777778, \"#fb9f3a\"], [0.8888888888888888, \"#fdca26\"], [1.0, \"#f0f921\"]], \"sequentialminus\": [[0.0, \"#0d0887\"], [0.1111111111111111, \"#46039f\"], [0.2222222222222222, \"#7201a8\"], [0.3333333333333333, \"#9c179e\"], [0.4444444444444444, \"#bd3786\"], [0.5555555555555556, \"#d8576b\"], [0.6666666666666666, \"#ed7953\"], [0.7777777777777778, \"#fb9f3a\"], [0.8888888888888888, \"#fdca26\"], [1.0, \"#f0f921\"]]}, \"colorway\": [\"#636efa\", \"#EF553B\", \"#00cc96\", \"#ab63fa\", \"#FFA15A\", \"#19d3f3\", \"#FF6692\", \"#B6E880\", \"#FF97FF\", \"#FECB52\"], \"font\": {\"color\": \"#2a3f5f\"}, \"geo\": {\"bgcolor\": \"white\", \"lakecolor\": \"white\", \"landcolor\": \"#E5ECF6\", \"showlakes\": true, \"showland\": true, \"subunitcolor\": \"white\"}, \"hoverlabel\": {\"align\": \"left\"}, \"hovermode\": \"closest\", \"mapbox\": {\"style\": \"light\"}, \"paper_bgcolor\": \"white\", \"plot_bgcolor\": \"#E5ECF6\", \"polar\": {\"angularaxis\": {\"gridcolor\": \"white\", \"linecolor\": \"white\", \"ticks\": \"\"}, \"bgcolor\": \"#E5ECF6\", \"radialaxis\": {\"gridcolor\": \"white\", \"linecolor\": \"white\", \"ticks\": \"\"}}, \"scene\": {\"xaxis\": {\"backgroundcolor\": \"#E5ECF6\", \"gridcolor\": \"white\", \"gridwidth\": 2, \"linecolor\": \"white\", \"showbackground\": true, \"ticks\": \"\", \"zerolinecolor\": \"white\"}, \"yaxis\": {\"backgroundcolor\": \"#E5ECF6\", \"gridcolor\": \"white\", \"gridwidth\": 2, \"linecolor\": \"white\", \"showbackground\": true, \"ticks\": \"\", \"zerolinecolor\": \"white\"}, \"zaxis\": {\"backgroundcolor\": \"#E5ECF6\", \"gridcolor\": \"white\", \"gridwidth\": 2, \"linecolor\": \"white\", \"showbackground\": true, \"ticks\": \"\", \"zerolinecolor\": \"white\"}}, \"shapedefaults\": {\"line\": {\"color\": \"#2a3f5f\"}}, \"ternary\": {\"aaxis\": {\"gridcolor\": \"white\", \"linecolor\": \"white\", \"ticks\": \"\"}, \"baxis\": {\"gridcolor\": \"white\", \"linecolor\": \"white\", \"ticks\": \"\"}, \"bgcolor\": \"#E5ECF6\", \"caxis\": {\"gridcolor\": \"white\", \"linecolor\": \"white\", \"ticks\": \"\"}}, \"title\": {\"x\": 0.05}, \"xaxis\": {\"automargin\": true, \"gridcolor\": \"white\", \"linecolor\": \"white\", \"ticks\": \"\", \"title\": {\"standoff\": 15}, \"zerolinecolor\": \"white\", \"zerolinewidth\": 2}, \"yaxis\": {\"automargin\": true, \"gridcolor\": \"white\", \"linecolor\": \"white\", \"ticks\": \"\", \"title\": {\"standoff\": 15}, \"zerolinecolor\": \"white\", \"zerolinewidth\": 2}}}, \"title\": {\"font\": {\"color\": \"#4D5663\"}}, \"xaxis\": {\"gridcolor\": \"#E1E5ED\", \"showgrid\": true, \"tickfont\": {\"color\": \"#4D5663\"}, \"title\": {\"font\": {\"color\": \"#4D5663\"}, \"text\": \"\"}, \"zerolinecolor\": \"#E1E5ED\"}, \"yaxis\": {\"gridcolor\": \"#E1E5ED\", \"showgrid\": true, \"tickfont\": {\"color\": \"#4D5663\"}, \"title\": {\"font\": {\"color\": \"#4D5663\"}, \"text\": \"\"}, \"zerolinecolor\": \"#E1E5ED\"}},\n",
       "                        {\"showLink\": true, \"linkText\": \"Export to plot.ly\", \"plotlyServerURL\": \"https://plot.ly\", \"responsive\": true}\n",
       "                    ).then(function(){\n",
       "                            \n",
       "var gd = document.getElementById('be517fa1-bd6b-41a2-aab2-6b4c3382ff24');\n",
       "var x = new MutationObserver(function (mutations, observer) {{\n",
       "        var display = window.getComputedStyle(gd).display;\n",
       "        if (!display || display === 'none') {{\n",
       "            console.log([gd, 'removed!']);\n",
       "            Plotly.purge(gd);\n",
       "            observer.disconnect();\n",
       "        }}\n",
       "}});\n",
       "\n",
       "// Listen for the removal of the full notebook cells\n",
       "var notebookContainer = gd.closest('#notebook-container');\n",
       "if (notebookContainer) {{\n",
       "    x.observe(notebookContainer, {childList: true});\n",
       "}}\n",
       "\n",
       "// Listen for the clearing of the current output cell\n",
       "var outputEl = gd.closest('.output');\n",
       "if (outputEl) {{\n",
       "    x.observe(outputEl, {childList: true});\n",
       "}}\n",
       "\n",
       "                        })\n",
       "                };\n",
       "                });\n",
       "            </script>\n",
       "        </div>"
      ]
     },
     "metadata": {},
     "output_type": "display_data"
    }
   ],
   "source": [
    "# Let's use plotly to plot an interactive grpah that shows us the rating for to top 20 categories.\n",
    "\n",
    "grouped = google_df.pivot_table(values = 'Rating', index = 'Category', aggfunc = np.mean)\n",
    "Rating_Category = grouped.sort_values(by = 'Rating', ascending = False)\n",
    "Rating_Category_head = Rating_Category.head(40)\n",
    "Rating_Category_head\n",
    "Rating_Category_head.iplot(kind = 'bar', color = \"darkred\")"
   ]
  },
  {
   "cell_type": "code",
   "execution_count": 61,
   "metadata": {},
   "outputs": [
    {
     "data": {
      "image/png": "[encoded data removed]",
      "text/plain": [
       "<Figure size 1080x720 with 1 Axes>"
      ]
     },
     "metadata": {
      "needs_background": "light"
     },
     "output_type": "display_data"
    }
   ],
   "source": [
    "from wordcloud import WordCloud\n",
    "\n",
    "# Generate a word cloud image\n",
    "wordcloud = WordCloud(background_color=\"orange\").generate(\" \".join(google_df[\"Category\"]))\n",
    "plt.figure(figsize=(15,10))\n",
    "# Display the generated image:\n",
    "plt.imshow(wordcloud, interpolation='bilinear')\n",
    "plt.axis(\"off\")\n",
    "\n",
    "plt.show()"
   ]
  },
  {
   "cell_type": "markdown",
   "metadata": {},
   "source": [
    "#### We can see that the top categories of apps were found under Education, Music and Tools"
   ]
  },
  {
   "cell_type": "code",
   "execution_count": 62,
   "metadata": {},
   "outputs": [],
   "source": [
    "##Let's drop the category column as we have assigned numerical values to it already\n",
    "google_df.drop(columns = [\"Category\"], inplace = True, axis=1)"
   ]
  },
  {
   "cell_type": "code",
   "execution_count": 63,
   "metadata": {},
   "outputs": [],
   "source": [
    "sns.set_palette(\"GnBu_d\")\n",
    "sns.set_style('darkgrid')"
   ]
  },
  {
   "cell_type": "code",
   "execution_count": 64,
   "metadata": {},
   "outputs": [],
   "source": [
    "#sns.pairplot(google_df)"
   ]
  },
  {
   "cell_type": "code",
   "execution_count": 65,
   "metadata": {},
   "outputs": [
    {
     "data": {
      "text/plain": [
       "<matplotlib.axes._subplots.AxesSubplot at 0x1c296c92d0>"
      ]
     },
     "execution_count": 65,
     "metadata": {},
     "output_type": "execute_result"
    },
    {
     "data": {
      "image/png": "[encoded data removed]",
      "text/plain": [
       "<Figure size 432x288 with 1 Axes>"
      ]
     },
     "metadata": {},
     "output_type": "display_data"
    }
   ],
   "source": [
    "sns.regplot(x='Rating', y='Price', color = 'darkred', data= google_df)"
   ]
  },
  {
   "cell_type": "markdown",
   "metadata": {},
   "source": [
    "### We can see that most of the apps cost from  0-50 dollars. As the rating increases we see an increase in the price of the application.\n",
    "\n",
    "#### The most expensive application from the store is about 400 dollars, followed by another app costing $300~. "
   ]
  },
  {
   "cell_type": "code",
   "execution_count": 66,
   "metadata": {},
   "outputs": [
    {
     "data": {
      "image/png": "[encoded data removed]",
      "text/plain": [
       "<Figure size 432x288 with 1 Axes>"
      ]
     },
     "metadata": {},
     "output_type": "display_data"
    }
   ],
   "source": [
    "sns.distplot(google_df[\"Rating\"])\n",
    "plt.show()"
   ]
  },
  {
   "cell_type": "markdown",
   "metadata": {},
   "source": [
    "#### The apps present in the dataset are mostly rated from 3-5. The highest amount is present between 4 and 5 ratings."
   ]
  },
  {
   "cell_type": "code",
   "execution_count": 67,
   "metadata": {},
   "outputs": [
    {
     "data": {
      "text/html": [
       "<div>\n",
       "<style scoped>\n",
       "    .dataframe tbody tr th:only-of-type {\n",
       "        vertical-align: middle;\n",
       "    }\n",
       "\n",
       "    .dataframe tbody tr th {\n",
       "        vertical-align: top;\n",
       "    }\n",
       "\n",
       "    .dataframe thead th {\n",
       "        text-align: right;\n",
       "    }\n",
       "</style>\n",
       "<table border=\"1\" class=\"dataframe\">\n",
       "  <thead>\n",
       "    <tr style=\"text-align: right;\">\n",
       "      <th></th>\n",
       "      <th>Rating</th>\n",
       "    </tr>\n",
       "    <tr>\n",
       "      <th>pf</th>\n",
       "      <th></th>\n",
       "    </tr>\n",
       "  </thead>\n",
       "  <tbody>\n",
       "    <tr>\n",
       "      <td>0</td>\n",
       "      <td>4.256728</td>\n",
       "    </tr>\n",
       "    <tr>\n",
       "      <td>1</td>\n",
       "      <td>4.398731</td>\n",
       "    </tr>\n",
       "  </tbody>\n",
       "</table>\n",
       "</div>"
      ],
      "text/plain": [
       "      Rating\n",
       "pf          \n",
       "0   4.256728\n",
       "1   4.398731"
      ]
     },
     "execution_count": 67,
     "metadata": {},
     "output_type": "execute_result"
    }
   ],
   "source": [
    "grouped = google_df.pivot_table(values = 'Rating', index = 'pf', aggfunc = np.mean)\n",
    "grouped"
   ]
  },
  {
   "cell_type": "code",
   "execution_count": 68,
   "metadata": {},
   "outputs": [
    {
     "data": {
      "application/vnd.plotly.v1+json": {
       "config": {
        "linkText": "Export to plot.ly",
        "plotlyServerURL": "https://plot.ly",
        "showLink": true
       },
       "data": [
        {
         "hole": 0.3,
         "labels": [
          0,
          1
         ],
         "marker": {
          "colors": [
           "rgba(219, 64, 82, 1.0)",
           "rgba(0, 128, 0, 1.0)"
          ]
         },
         "name": "",
         "type": "pie",
         "values": [
          29950,
          2049
         ]
        }
       ],
       "layout": {
        "legend": {
         "bgcolor": "#F5F6F9",
         "font": {
          "color": "#4D5663"
         }
        },
        "paper_bgcolor": "#F5F6F9",
        "plot_bgcolor": "#F5F6F9",
        "titlefont": {
         "color": "#4D5663"
        }
       }
      },
      "text/html": [
       "<div>\n",
       "        \n",
       "        \n",
       "            <div id=\"b41d140a-bbe9-4ad2-96cd-04827692efc1\" class=\"plotly-graph-div\" style=\"height:525px; width:100%;\"></div>\n",
       "            <script type=\"text/javascript\">\n",
       "                require([\"plotly\"], function(Plotly) {\n",
       "                    window.PLOTLYENV=window.PLOTLYENV || {};\n",
       "                    window.PLOTLYENV.BASE_URL='https://plot.ly';\n",
       "                    \n",
       "                if (document.getElementById(\"b41d140a-bbe9-4ad2-96cd-04827692efc1\")) {\n",
       "                    Plotly.newPlot(\n",
       "                        'b41d140a-bbe9-4ad2-96cd-04827692efc1',\n",
       "                        [{\"hole\": 0.3, \"labels\": [0, 1], \"marker\": {\"colors\": [\"rgba(219, 64, 82, 1.0)\", \"rgba(0, 128, 0, 1.0)\"]}, \"name\": \"\", \"type\": \"pie\", \"values\": [29950, 2049]}],\n",
       "                        {\"legend\": {\"bgcolor\": \"#F5F6F9\", \"font\": {\"color\": \"#4D5663\"}}, \"paper_bgcolor\": \"#F5F6F9\", \"plot_bgcolor\": \"#F5F6F9\", \"titlefont\": {\"color\": \"#4D5663\"}},\n",
       "                        {\"showLink\": true, \"linkText\": \"Export to plot.ly\", \"plotlyServerURL\": \"https://plot.ly\", \"responsive\": true}\n",
       "                    ).then(function(){\n",
       "                            \n",
       "var gd = document.getElementById('b41d140a-bbe9-4ad2-96cd-04827692efc1');\n",
       "var x = new MutationObserver(function (mutations, observer) {{\n",
       "        var display = window.getComputedStyle(gd).display;\n",
       "        if (!display || display === 'none') {{\n",
       "            console.log([gd, 'removed!']);\n",
       "            Plotly.purge(gd);\n",
       "            observer.disconnect();\n",
       "        }}\n",
       "}});\n",
       "\n",
       "// Listen for the removal of the full notebook cells\n",
       "var notebookContainer = gd.closest('#notebook-container');\n",
       "if (notebookContainer) {{\n",
       "    x.observe(notebookContainer, {childList: true});\n",
       "}}\n",
       "\n",
       "// Listen for the clearing of the current output cell\n",
       "var outputEl = gd.closest('.output');\n",
       "if (outputEl) {{\n",
       "    x.observe(outputEl, {childList: true});\n",
       "}}\n",
       "\n",
       "                        })\n",
       "                };\n",
       "                });\n",
       "            </script>\n",
       "        </div>"
      ]
     },
     "metadata": {},
     "output_type": "display_data"
    }
   ],
   "source": [
    "# Plotting a pie chart to visualize the available applications based on its category type (free or paid).\n",
    "\n",
    "most_avail = google_df[\"pf\"].value_counts()\n",
    "most_avail = most_avail.to_frame(name = \"Count\")\n",
    "most_avail['pf'] = most_avail.index\n",
    "most_avail.set_index(\"pf\")\n",
    "most_avail = most_avail[:10]\n",
    "most_avail.iplot(kind='pie', labels= \"pf\", values='Count', colors= ['red','green'], hoverinfo=\"label+percent+name\", hole=0.3)"
   ]
  },
  {
   "cell_type": "code",
   "execution_count": 69,
   "metadata": {},
   "outputs": [
    {
     "data": {
      "application/vnd.plotly.v1+json": {
       "config": {
        "linkText": "Export to plot.ly",
        "plotlyServerURL": "https://plot.ly",
        "showLink": true
       },
       "data": [
        {
         "marker": {
          "color": "rgba(173, 216, 230, 0.6)",
          "line": {
           "color": "rgba(173, 216, 230, 1.0)",
           "width": 1
          }
         },
         "name": "Rating",
         "orientation": "v",
         "text": "",
         "type": "bar",
         "x": [
          "Adults only 18+",
          "Teen",
          "Everyone",
          "Everyone 10+",
          "Mature 17+",
          "Unrated"
         ],
         "y": [
          4.666666666666667,
          4.287062937062937,
          4.265707521398652,
          4.249525616698293,
          4.20096463022508,
          4
         ]
        }
       ],
       "layout": {
        "legend": {
         "bgcolor": "#F5F6F9",
         "font": {
          "color": "#4D5663"
         }
        },
        "paper_bgcolor": "#F5F6F9",
        "plot_bgcolor": "#F5F6F9",
        "template": {
         "data": {
          "bar": [
           {
            "error_x": {
             "color": "#2a3f5f"
            },
            "error_y": {
             "color": "#2a3f5f"
            },
            "marker": {
             "line": {
              "color": "#E5ECF6",
              "width": 0.5
             }
            },
            "type": "bar"
           }
          ],
          "barpolar": [
           {
            "marker": {
             "line": {
              "color": "#E5ECF6",
              "width": 0.5
             }
            },
            "type": "barpolar"
           }
          ],
          "carpet": [
           {
            "aaxis": {
             "endlinecolor": "#2a3f5f",
             "gridcolor": "white",
             "linecolor": "white",
             "minorgridcolor": "white",
             "startlinecolor": "#2a3f5f"
            },
            "baxis": {
             "endlinecolor": "#2a3f5f",
             "gridcolor": "white",
             "linecolor": "white",
             "minorgridcolor": "white",
             "startlinecolor": "#2a3f5f"
            },
            "type": "carpet"
           }
          ],
          "choropleth": [
           {
            "colorbar": {
             "outlinewidth": 0,
             "ticks": ""
            },
            "type": "choropleth"
           }
          ],
          "contour": [
           {
            "colorbar": {
             "outlinewidth": 0,
             "ticks": ""
            },
            "colorscale": [
             [
              0,
              "#0d0887"
             ],
             [
              0.1111111111111111,
              "#46039f"
             ],
             [
              0.2222222222222222,
              "#7201a8"
             ],
             [
              0.3333333333333333,
              "#9c179e"
             ],
             [
              0.4444444444444444,
              "#bd3786"
             ],
             [
              0.5555555555555556,
              "#d8576b"
             ],
             [
              0.6666666666666666,
              "#ed7953"
             ],
             [
              0.7777777777777778,
              "#fb9f3a"
             ],
             [
              0.8888888888888888,
              "#fdca26"
             ],
             [
              1,
              "#f0f921"
             ]
            ],
            "type": "contour"
           }
          ],
          "contourcarpet": [
           {
            "colorbar": {
             "outlinewidth": 0,
             "ticks": ""
            },
            "type": "contourcarpet"
           }
          ],
          "heatmap": [
           {
            "colorbar": {
             "outlinewidth": 0,
             "ticks": ""
            },
            "colorscale": [
             [
              0,
              "#0d0887"
             ],
             [
              0.1111111111111111,
              "#46039f"
             ],
             [
              0.2222222222222222,
              "#7201a8"
             ],
             [
              0.3333333333333333,
              "#9c179e"
             ],
             [
              0.4444444444444444,
              "#bd3786"
             ],
             [
              0.5555555555555556,
              "#d8576b"
             ],
             [
              0.6666666666666666,
              "#ed7953"
             ],
             [
              0.7777777777777778,
              "#fb9f3a"
             ],
             [
              0.8888888888888888,
              "#fdca26"
             ],
             [
              1,
              "#f0f921"
             ]
            ],
            "type": "heatmap"
           }
          ],
          "heatmapgl": [
           {
            "colorbar": {
             "outlinewidth": 0,
             "ticks": ""
            },
            "colorscale": [
             [
              0,
              "#0d0887"
             ],
             [
              0.1111111111111111,
              "#46039f"
             ],
             [
              0.2222222222222222,
              "#7201a8"
             ],
             [
              0.3333333333333333,
              "#9c179e"
             ],
             [
              0.4444444444444444,
              "#bd3786"
             ],
             [
              0.5555555555555556,
              "#d8576b"
             ],
             [
              0.6666666666666666,
              "#ed7953"
             ],
             [
              0.7777777777777778,
              "#fb9f3a"
             ],
             [
              0.8888888888888888,
              "#fdca26"
             ],
             [
              1,
              "#f0f921"
             ]
            ],
            "type": "heatmapgl"
           }
          ],
          "histogram": [
           {
            "marker": {
             "colorbar": {
              "outlinewidth": 0,
              "ticks": ""
             }
            },
            "type": "histogram"
           }
          ],
          "histogram2d": [
           {
            "colorbar": {
             "outlinewidth": 0,
             "ticks": ""
            },
            "colorscale": [
             [
              0,
              "#0d0887"
             ],
             [
              0.1111111111111111,
              "#46039f"
             ],
             [
              0.2222222222222222,
              "#7201a8"
             ],
             [
              0.3333333333333333,
              "#9c179e"
             ],
             [
              0.4444444444444444,
              "#bd3786"
             ],
             [
              0.5555555555555556,
              "#d8576b"
             ],
             [
              0.6666666666666666,
              "#ed7953"
             ],
             [
              0.7777777777777778,
              "#fb9f3a"
             ],
             [
              0.8888888888888888,
              "#fdca26"
             ],
             [
              1,
              "#f0f921"
             ]
            ],
            "type": "histogram2d"
           }
          ],
          "histogram2dcontour": [
           {
            "colorbar": {
             "outlinewidth": 0,
             "ticks": ""
            },
            "colorscale": [
             [
              0,
              "#0d0887"
             ],
             [
              0.1111111111111111,
              "#46039f"
             ],
             [
              0.2222222222222222,
              "#7201a8"
             ],
             [
              0.3333333333333333,
              "#9c179e"
             ],
             [
              0.4444444444444444,
              "#bd3786"
             ],
             [
              0.5555555555555556,
              "#d8576b"
             ],
             [
              0.6666666666666666,
              "#ed7953"
             ],
             [
              0.7777777777777778,
              "#fb9f3a"
             ],
             [
              0.8888888888888888,
              "#fdca26"
             ],
             [
              1,
              "#f0f921"
             ]
            ],
            "type": "histogram2dcontour"
           }
          ],
          "mesh3d": [
           {
            "colorbar": {
             "outlinewidth": 0,
             "ticks": ""
            },
            "type": "mesh3d"
           }
          ],
          "parcoords": [
           {
            "line": {
             "colorbar": {
              "outlinewidth": 0,
              "ticks": ""
             }
            },
            "type": "parcoords"
           }
          ],
          "pie": [
           {
            "automargin": true,
            "type": "pie"
           }
          ],
          "scatter": [
           {
            "marker": {
             "colorbar": {
              "outlinewidth": 0,
              "ticks": ""
             }
            },
            "type": "scatter"
           }
          ],
          "scatter3d": [
           {
            "line": {
             "colorbar": {
              "outlinewidth": 0,
              "ticks": ""
             }
            },
            "marker": {
             "colorbar": {
              "outlinewidth": 0,
              "ticks": ""
             }
            },
            "type": "scatter3d"
           }
          ],
          "scattercarpet": [
           {
            "marker": {
             "colorbar": {
              "outlinewidth": 0,
              "ticks": ""
             }
            },
            "type": "scattercarpet"
           }
          ],
          "scattergeo": [
           {
            "marker": {
             "colorbar": {
              "outlinewidth": 0,
              "ticks": ""
             }
            },
            "type": "scattergeo"
           }
          ],
          "scattergl": [
           {
            "marker": {
             "colorbar": {
              "outlinewidth": 0,
              "ticks": ""
             }
            },
            "type": "scattergl"
           }
          ],
          "scattermapbox": [
           {
            "marker": {
             "colorbar": {
              "outlinewidth": 0,
              "ticks": ""
             }
            },
            "type": "scattermapbox"
           }
          ],
          "scatterpolar": [
           {
            "marker": {
             "colorbar": {
              "outlinewidth": 0,
              "ticks": ""
             }
            },
            "type": "scatterpolar"
           }
          ],
          "scatterpolargl": [
           {
            "marker": {
             "colorbar": {
              "outlinewidth": 0,
              "ticks": ""
             }
            },
            "type": "scatterpolargl"
           }
          ],
          "scatterternary": [
           {
            "marker": {
             "colorbar": {
              "outlinewidth": 0,
              "ticks": ""
             }
            },
            "type": "scatterternary"
           }
          ],
          "surface": [
           {
            "colorbar": {
             "outlinewidth": 0,
             "ticks": ""
            },
            "colorscale": [
             [
              0,
              "#0d0887"
             ],
             [
              0.1111111111111111,
              "#46039f"
             ],
             [
              0.2222222222222222,
              "#7201a8"
             ],
             [
              0.3333333333333333,
              "#9c179e"
             ],
             [
              0.4444444444444444,
              "#bd3786"
             ],
             [
              0.5555555555555556,
              "#d8576b"
             ],
             [
              0.6666666666666666,
              "#ed7953"
             ],
             [
              0.7777777777777778,
              "#fb9f3a"
             ],
             [
              0.8888888888888888,
              "#fdca26"
             ],
             [
              1,
              "#f0f921"
             ]
            ],
            "type": "surface"
           }
          ],
          "table": [
           {
            "cells": {
             "fill": {
              "color": "#EBF0F8"
             },
             "line": {
              "color": "white"
             }
            },
            "header": {
             "fill": {
              "color": "#C8D4E3"
             },
             "line": {
              "color": "white"
             }
            },
            "type": "table"
           }
          ]
         },
         "layout": {
          "annotationdefaults": {
           "arrowcolor": "#2a3f5f",
           "arrowhead": 0,
           "arrowwidth": 1
          },
          "coloraxis": {
           "colorbar": {
            "outlinewidth": 0,
            "ticks": ""
           }
          },
          "colorscale": {
           "diverging": [
            [
             0,
             "#8e0152"
            ],
            [
             0.1,
             "#c51b7d"
            ],
            [
             0.2,
             "#de77ae"
            ],
            [
             0.3,
             "#f1b6da"
            ],
            [
             0.4,
             "#fde0ef"
            ],
            [
             0.5,
             "#f7f7f7"
            ],
            [
             0.6,
             "#e6f5d0"
            ],
            [
             0.7,
             "#b8e186"
            ],
            [
             0.8,
             "#7fbc41"
            ],
            [
             0.9,
             "#4d9221"
            ],
            [
             1,
             "#276419"
            ]
           ],
           "sequential": [
            [
             0,
             "#0d0887"
            ],
            [
             0.1111111111111111,
             "#46039f"
            ],
            [
             0.2222222222222222,
             "#7201a8"
            ],
            [
             0.3333333333333333,
             "#9c179e"
            ],
            [
             0.4444444444444444,
             "#bd3786"
            ],
            [
             0.5555555555555556,
             "#d8576b"
            ],
            [
             0.6666666666666666,
             "#ed7953"
            ],
            [
             0.7777777777777778,
             "#fb9f3a"
            ],
            [
             0.8888888888888888,
             "#fdca26"
            ],
            [
             1,
             "#f0f921"
            ]
           ],
           "sequentialminus": [
            [
             0,
             "#0d0887"
            ],
            [
             0.1111111111111111,
             "#46039f"
            ],
            [
             0.2222222222222222,
             "#7201a8"
            ],
            [
             0.3333333333333333,
             "#9c179e"
            ],
            [
             0.4444444444444444,
             "#bd3786"
            ],
            [
             0.5555555555555556,
             "#d8576b"
            ],
            [
             0.6666666666666666,
             "#ed7953"
            ],
            [
             0.7777777777777778,
             "#fb9f3a"
            ],
            [
             0.8888888888888888,
             "#fdca26"
            ],
            [
             1,
             "#f0f921"
            ]
           ]
          },
          "colorway": [
           "#636efa",
           "#EF553B",
           "#00cc96",
           "#ab63fa",
           "#FFA15A",
           "#19d3f3",
           "#FF6692",
           "#B6E880",
           "#FF97FF",
           "#FECB52"
          ],
          "font": {
           "color": "#2a3f5f"
          },
          "geo": {
           "bgcolor": "white",
           "lakecolor": "white",
           "landcolor": "#E5ECF6",
           "showlakes": true,
           "showland": true,
           "subunitcolor": "white"
          },
          "hoverlabel": {
           "align": "left"
          },
          "hovermode": "closest",
          "mapbox": {
           "style": "light"
          },
          "paper_bgcolor": "white",
          "plot_bgcolor": "#E5ECF6",
          "polar": {
           "angularaxis": {
            "gridcolor": "white",
            "linecolor": "white",
            "ticks": ""
           },
           "bgcolor": "#E5ECF6",
           "radialaxis": {
            "gridcolor": "white",
            "linecolor": "white",
            "ticks": ""
           }
          },
          "scene": {
           "xaxis": {
            "backgroundcolor": "#E5ECF6",
            "gridcolor": "white",
            "gridwidth": 2,
            "linecolor": "white",
            "showbackground": true,
            "ticks": "",
            "zerolinecolor": "white"
           },
           "yaxis": {
            "backgroundcolor": "#E5ECF6",
            "gridcolor": "white",
            "gridwidth": 2,
            "linecolor": "white",
            "showbackground": true,
            "ticks": "",
            "zerolinecolor": "white"
           },
           "zaxis": {
            "backgroundcolor": "#E5ECF6",
            "gridcolor": "white",
            "gridwidth": 2,
            "linecolor": "white",
            "showbackground": true,
            "ticks": "",
            "zerolinecolor": "white"
           }
          },
          "shapedefaults": {
           "line": {
            "color": "#2a3f5f"
           }
          },
          "ternary": {
           "aaxis": {
            "gridcolor": "white",
            "linecolor": "white",
            "ticks": ""
           },
           "baxis": {
            "gridcolor": "white",
            "linecolor": "white",
            "ticks": ""
           },
           "bgcolor": "#E5ECF6",
           "caxis": {
            "gridcolor": "white",
            "linecolor": "white",
            "ticks": ""
           }
          },
          "title": {
           "x": 0.05
          },
          "xaxis": {
           "automargin": true,
           "gridcolor": "white",
           "linecolor": "white",
           "ticks": "",
           "title": {
            "standoff": 15
           },
           "zerolinecolor": "white",
           "zerolinewidth": 2
          },
          "yaxis": {
           "automargin": true,
           "gridcolor": "white",
           "linecolor": "white",
           "ticks": "",
           "title": {
            "standoff": 15
           },
           "zerolinecolor": "white",
           "zerolinewidth": 2
          }
         }
        },
        "title": {
         "font": {
          "color": "#4D5663"
         }
        },
        "xaxis": {
         "gridcolor": "#E1E5ED",
         "showgrid": true,
         "tickfont": {
          "color": "#4D5663"
         },
         "title": {
          "font": {
           "color": "#4D5663"
          },
          "text": ""
         },
         "zerolinecolor": "#E1E5ED"
        },
        "yaxis": {
         "gridcolor": "#E1E5ED",
         "showgrid": true,
         "tickfont": {
          "color": "#4D5663"
         },
         "title": {
          "font": {
           "color": "#4D5663"
          },
          "text": ""
         },
         "zerolinecolor": "#E1E5ED"
        }
       }
      },
      "text/html": [
       "<div>\n",
       "        \n",
       "        \n",
       "            <div id=\"457081da-7491-471a-a445-4535336f77ac\" class=\"plotly-graph-div\" style=\"height:525px; width:100%;\"></div>\n",
       "            <script type=\"text/javascript\">\n",
       "                require([\"plotly\"], function(Plotly) {\n",
       "                    window.PLOTLYENV=window.PLOTLYENV || {};\n",
       "                    window.PLOTLYENV.BASE_URL='https://plot.ly';\n",
       "                    \n",
       "                if (document.getElementById(\"457081da-7491-471a-a445-4535336f77ac\")) {\n",
       "                    Plotly.newPlot(\n",
       "                        '457081da-7491-471a-a445-4535336f77ac',\n",
       "                        [{\"marker\": {\"color\": \"rgba(173, 216, 230, 0.6)\", \"line\": {\"color\": \"rgba(173, 216, 230, 1.0)\", \"width\": 1}}, \"name\": \"Rating\", \"orientation\": \"v\", \"text\": \"\", \"type\": \"bar\", \"x\": [\"Adults only 18+\", \"Teen\", \"Everyone\", \"Everyone 10+\", \"Mature 17+\", \"Unrated\"], \"y\": [4.666666666666667, 4.287062937062937, 4.265707521398652, 4.249525616698293, 4.20096463022508, 4.0]}],\n",
       "                        {\"legend\": {\"bgcolor\": \"#F5F6F9\", \"font\": {\"color\": \"#4D5663\"}}, \"paper_bgcolor\": \"#F5F6F9\", \"plot_bgcolor\": \"#F5F6F9\", \"template\": {\"data\": {\"bar\": [{\"error_x\": {\"color\": \"#2a3f5f\"}, \"error_y\": {\"color\": \"#2a3f5f\"}, \"marker\": {\"line\": {\"color\": \"#E5ECF6\", \"width\": 0.5}}, \"type\": \"bar\"}], \"barpolar\": [{\"marker\": {\"line\": {\"color\": \"#E5ECF6\", \"width\": 0.5}}, \"type\": \"barpolar\"}], \"carpet\": [{\"aaxis\": {\"endlinecolor\": \"#2a3f5f\", \"gridcolor\": \"white\", \"linecolor\": \"white\", \"minorgridcolor\": \"white\", \"startlinecolor\": \"#2a3f5f\"}, \"baxis\": {\"endlinecolor\": \"#2a3f5f\", \"gridcolor\": \"white\", \"linecolor\": \"white\", \"minorgridcolor\": \"white\", \"startlinecolor\": \"#2a3f5f\"}, \"type\": \"carpet\"}], \"choropleth\": [{\"colorbar\": {\"outlinewidth\": 0, \"ticks\": \"\"}, \"type\": \"choropleth\"}], \"contour\": [{\"colorbar\": {\"outlinewidth\": 0, \"ticks\": \"\"}, \"colorscale\": [[0.0, \"#0d0887\"], [0.1111111111111111, \"#46039f\"], [0.2222222222222222, \"#7201a8\"], [0.3333333333333333, \"#9c179e\"], [0.4444444444444444, \"#bd3786\"], [0.5555555555555556, \"#d8576b\"], [0.6666666666666666, \"#ed7953\"], [0.7777777777777778, \"#fb9f3a\"], [0.8888888888888888, \"#fdca26\"], [1.0, \"#f0f921\"]], \"type\": \"contour\"}], \"contourcarpet\": [{\"colorbar\": {\"outlinewidth\": 0, \"ticks\": \"\"}, \"type\": \"contourcarpet\"}], \"heatmap\": [{\"colorbar\": {\"outlinewidth\": 0, \"ticks\": \"\"}, \"colorscale\": [[0.0, \"#0d0887\"], [0.1111111111111111, \"#46039f\"], [0.2222222222222222, \"#7201a8\"], [0.3333333333333333, \"#9c179e\"], [0.4444444444444444, \"#bd3786\"], [0.5555555555555556, \"#d8576b\"], [0.6666666666666666, \"#ed7953\"], [0.7777777777777778, \"#fb9f3a\"], [0.8888888888888888, \"#fdca26\"], [1.0, \"#f0f921\"]], \"type\": \"heatmap\"}], \"heatmapgl\": [{\"colorbar\": {\"outlinewidth\": 0, \"ticks\": \"\"}, \"colorscale\": [[0.0, \"#0d0887\"], [0.1111111111111111, \"#46039f\"], [0.2222222222222222, \"#7201a8\"], [0.3333333333333333, \"#9c179e\"], [0.4444444444444444, \"#bd3786\"], [0.5555555555555556, \"#d8576b\"], [0.6666666666666666, \"#ed7953\"], [0.7777777777777778, \"#fb9f3a\"], [0.8888888888888888, \"#fdca26\"], [1.0, \"#f0f921\"]], \"type\": \"heatmapgl\"}], \"histogram\": [{\"marker\": {\"colorbar\": {\"outlinewidth\": 0, \"ticks\": \"\"}}, \"type\": \"histogram\"}], \"histogram2d\": [{\"colorbar\": {\"outlinewidth\": 0, \"ticks\": \"\"}, \"colorscale\": [[0.0, \"#0d0887\"], [0.1111111111111111, \"#46039f\"], [0.2222222222222222, \"#7201a8\"], [0.3333333333333333, \"#9c179e\"], [0.4444444444444444, \"#bd3786\"], [0.5555555555555556, \"#d8576b\"], [0.6666666666666666, \"#ed7953\"], [0.7777777777777778, \"#fb9f3a\"], [0.8888888888888888, \"#fdca26\"], [1.0, \"#f0f921\"]], \"type\": \"histogram2d\"}], \"histogram2dcontour\": [{\"colorbar\": {\"outlinewidth\": 0, \"ticks\": \"\"}, \"colorscale\": [[0.0, \"#0d0887\"], [0.1111111111111111, \"#46039f\"], [0.2222222222222222, \"#7201a8\"], [0.3333333333333333, \"#9c179e\"], [0.4444444444444444, \"#bd3786\"], [0.5555555555555556, \"#d8576b\"], [0.6666666666666666, \"#ed7953\"], [0.7777777777777778, \"#fb9f3a\"], [0.8888888888888888, \"#fdca26\"], [1.0, \"#f0f921\"]], \"type\": \"histogram2dcontour\"}], \"mesh3d\": [{\"colorbar\": {\"outlinewidth\": 0, \"ticks\": \"\"}, \"type\": \"mesh3d\"}], \"parcoords\": [{\"line\": {\"colorbar\": {\"outlinewidth\": 0, \"ticks\": \"\"}}, \"type\": \"parcoords\"}], \"pie\": [{\"automargin\": true, \"type\": \"pie\"}], \"scatter\": [{\"marker\": {\"colorbar\": {\"outlinewidth\": 0, \"ticks\": \"\"}}, \"type\": \"scatter\"}], \"scatter3d\": [{\"line\": {\"colorbar\": {\"outlinewidth\": 0, \"ticks\": \"\"}}, \"marker\": {\"colorbar\": {\"outlinewidth\": 0, \"ticks\": \"\"}}, \"type\": \"scatter3d\"}], \"scattercarpet\": [{\"marker\": {\"colorbar\": {\"outlinewidth\": 0, \"ticks\": \"\"}}, \"type\": \"scattercarpet\"}], \"scattergeo\": [{\"marker\": {\"colorbar\": {\"outlinewidth\": 0, \"ticks\": \"\"}}, \"type\": \"scattergeo\"}], \"scattergl\": [{\"marker\": {\"colorbar\": {\"outlinewidth\": 0, \"ticks\": \"\"}}, \"type\": \"scattergl\"}], \"scattermapbox\": [{\"marker\": {\"colorbar\": {\"outlinewidth\": 0, \"ticks\": \"\"}}, \"type\": \"scattermapbox\"}], \"scatterpolar\": [{\"marker\": {\"colorbar\": {\"outlinewidth\": 0, \"ticks\": \"\"}}, \"type\": \"scatterpolar\"}], \"scatterpolargl\": [{\"marker\": {\"colorbar\": {\"outlinewidth\": 0, \"ticks\": \"\"}}, \"type\": \"scatterpolargl\"}], \"scatterternary\": [{\"marker\": {\"colorbar\": {\"outlinewidth\": 0, \"ticks\": \"\"}}, \"type\": \"scatterternary\"}], \"surface\": [{\"colorbar\": {\"outlinewidth\": 0, \"ticks\": \"\"}, \"colorscale\": [[0.0, \"#0d0887\"], [0.1111111111111111, \"#46039f\"], [0.2222222222222222, \"#7201a8\"], [0.3333333333333333, \"#9c179e\"], [0.4444444444444444, \"#bd3786\"], [0.5555555555555556, \"#d8576b\"], [0.6666666666666666, \"#ed7953\"], [0.7777777777777778, \"#fb9f3a\"], [0.8888888888888888, \"#fdca26\"], [1.0, \"#f0f921\"]], \"type\": \"surface\"}], \"table\": [{\"cells\": {\"fill\": {\"color\": \"#EBF0F8\"}, \"line\": {\"color\": \"white\"}}, \"header\": {\"fill\": {\"color\": \"#C8D4E3\"}, \"line\": {\"color\": \"white\"}}, \"type\": \"table\"}]}, \"layout\": {\"annotationdefaults\": {\"arrowcolor\": \"#2a3f5f\", \"arrowhead\": 0, \"arrowwidth\": 1}, \"coloraxis\": {\"colorbar\": {\"outlinewidth\": 0, \"ticks\": \"\"}}, \"colorscale\": {\"diverging\": [[0, \"#8e0152\"], [0.1, \"#c51b7d\"], [0.2, \"#de77ae\"], [0.3, \"#f1b6da\"], [0.4, \"#fde0ef\"], [0.5, \"#f7f7f7\"], [0.6, \"#e6f5d0\"], [0.7, \"#b8e186\"], [0.8, \"#7fbc41\"], [0.9, \"#4d9221\"], [1, \"#276419\"]], \"sequential\": [[0.0, \"#0d0887\"], [0.1111111111111111, \"#46039f\"], [0.2222222222222222, \"#7201a8\"], [0.3333333333333333, \"#9c179e\"], [0.4444444444444444, \"#bd3786\"], [0.5555555555555556, \"#d8576b\"], [0.6666666666666666, \"#ed7953\"], [0.7777777777777778, \"#fb9f3a\"], [0.8888888888888888, \"#fdca26\"], [1.0, \"#f0f921\"]], \"sequentialminus\": [[0.0, \"#0d0887\"], [0.1111111111111111, \"#46039f\"], [0.2222222222222222, \"#7201a8\"], [0.3333333333333333, \"#9c179e\"], [0.4444444444444444, \"#bd3786\"], [0.5555555555555556, \"#d8576b\"], [0.6666666666666666, \"#ed7953\"], [0.7777777777777778, \"#fb9f3a\"], [0.8888888888888888, \"#fdca26\"], [1.0, \"#f0f921\"]]}, \"colorway\": [\"#636efa\", \"#EF553B\", \"#00cc96\", \"#ab63fa\", \"#FFA15A\", \"#19d3f3\", \"#FF6692\", \"#B6E880\", \"#FF97FF\", \"#FECB52\"], \"font\": {\"color\": \"#2a3f5f\"}, \"geo\": {\"bgcolor\": \"white\", \"lakecolor\": \"white\", \"landcolor\": \"#E5ECF6\", \"showlakes\": true, \"showland\": true, \"subunitcolor\": \"white\"}, \"hoverlabel\": {\"align\": \"left\"}, \"hovermode\": \"closest\", \"mapbox\": {\"style\": \"light\"}, \"paper_bgcolor\": \"white\", \"plot_bgcolor\": \"#E5ECF6\", \"polar\": {\"angularaxis\": {\"gridcolor\": \"white\", \"linecolor\": \"white\", \"ticks\": \"\"}, \"bgcolor\": \"#E5ECF6\", \"radialaxis\": {\"gridcolor\": \"white\", \"linecolor\": \"white\", \"ticks\": \"\"}}, \"scene\": {\"xaxis\": {\"backgroundcolor\": \"#E5ECF6\", \"gridcolor\": \"white\", \"gridwidth\": 2, \"linecolor\": \"white\", \"showbackground\": true, \"ticks\": \"\", \"zerolinecolor\": \"white\"}, \"yaxis\": {\"backgroundcolor\": \"#E5ECF6\", \"gridcolor\": \"white\", \"gridwidth\": 2, \"linecolor\": \"white\", \"showbackground\": true, \"ticks\": \"\", \"zerolinecolor\": \"white\"}, \"zaxis\": {\"backgroundcolor\": \"#E5ECF6\", \"gridcolor\": \"white\", \"gridwidth\": 2, \"linecolor\": \"white\", \"showbackground\": true, \"ticks\": \"\", \"zerolinecolor\": \"white\"}}, \"shapedefaults\": {\"line\": {\"color\": \"#2a3f5f\"}}, \"ternary\": {\"aaxis\": {\"gridcolor\": \"white\", \"linecolor\": \"white\", \"ticks\": \"\"}, \"baxis\": {\"gridcolor\": \"white\", \"linecolor\": \"white\", \"ticks\": \"\"}, \"bgcolor\": \"#E5ECF6\", \"caxis\": {\"gridcolor\": \"white\", \"linecolor\": \"white\", \"ticks\": \"\"}}, \"title\": {\"x\": 0.05}, \"xaxis\": {\"automargin\": true, \"gridcolor\": \"white\", \"linecolor\": \"white\", \"ticks\": \"\", \"title\": {\"standoff\": 15}, \"zerolinecolor\": \"white\", \"zerolinewidth\": 2}, \"yaxis\": {\"automargin\": true, \"gridcolor\": \"white\", \"linecolor\": \"white\", \"ticks\": \"\", \"title\": {\"standoff\": 15}, \"zerolinecolor\": \"white\", \"zerolinewidth\": 2}}}, \"title\": {\"font\": {\"color\": \"#4D5663\"}}, \"xaxis\": {\"gridcolor\": \"#E1E5ED\", \"showgrid\": true, \"tickfont\": {\"color\": \"#4D5663\"}, \"title\": {\"font\": {\"color\": \"#4D5663\"}, \"text\": \"\"}, \"zerolinecolor\": \"#E1E5ED\"}, \"yaxis\": {\"gridcolor\": \"#E1E5ED\", \"showgrid\": true, \"tickfont\": {\"color\": \"#4D5663\"}, \"title\": {\"font\": {\"color\": \"#4D5663\"}, \"text\": \"\"}, \"zerolinecolor\": \"#E1E5ED\"}},\n",
       "                        {\"showLink\": true, \"linkText\": \"Export to plot.ly\", \"plotlyServerURL\": \"https://plot.ly\", \"responsive\": true}\n",
       "                    ).then(function(){\n",
       "                            \n",
       "var gd = document.getElementById('457081da-7491-471a-a445-4535336f77ac');\n",
       "var x = new MutationObserver(function (mutations, observer) {{\n",
       "        var display = window.getComputedStyle(gd).display;\n",
       "        if (!display || display === 'none') {{\n",
       "            console.log([gd, 'removed!']);\n",
       "            Plotly.purge(gd);\n",
       "            observer.disconnect();\n",
       "        }}\n",
       "}});\n",
       "\n",
       "// Listen for the removal of the full notebook cells\n",
       "var notebookContainer = gd.closest('#notebook-container');\n",
       "if (notebookContainer) {{\n",
       "    x.observe(notebookContainer, {childList: true});\n",
       "}}\n",
       "\n",
       "// Listen for the clearing of the current output cell\n",
       "var outputEl = gd.closest('.output');\n",
       "if (outputEl) {{\n",
       "    x.observe(outputEl, {childList: true});\n",
       "}}\n",
       "\n",
       "                        })\n",
       "                };\n",
       "                });\n",
       "            </script>\n",
       "        </div>"
      ]
     },
     "metadata": {},
     "output_type": "display_data"
    }
   ],
   "source": [
    "## Barplot of Rating and Content Rating\n",
    "\n",
    "grouped = google_df.pivot_table(values = 'Rating', index = 'Content_Rating', aggfunc = np.mean)\n",
    "Rating_Category = grouped.sort_values(by = 'Rating', ascending = False)\n",
    "Rating_Category_head = Rating_Category.head(20)\n",
    "Rating_Category_head\n",
    "xaxis_title = 'Content Rating'\n",
    "Rating_Category_head.iplot(kind = 'bar', color = ['lightblue'])"
   ]
  },
  {
   "cell_type": "code",
   "execution_count": 70,
   "metadata": {},
   "outputs": [
    {
     "data": {
      "image/png": "[encoded data removed]",
      "text/plain": [
       "<Figure size 432x288 with 1 Axes>"
      ]
     },
     "metadata": {},
     "output_type": "display_data"
    }
   ],
   "source": [
    "plt.scatter(google_df.Rating, google_df.Category_Code)\n",
    "plt.xlabel('Rating')\n",
    "plt.ylabel('Category_Code')\n",
    "plt.axhline(y=0)\n",
    "plt.title('Rating vs Category')\n",
    "plt.show()"
   ]
  },
  {
   "cell_type": "code",
   "execution_count": 71,
   "metadata": {},
   "outputs": [
    {
     "data": {
      "text/html": [
       "<div>\n",
       "<style scoped>\n",
       "    .dataframe tbody tr th:only-of-type {\n",
       "        vertical-align: middle;\n",
       "    }\n",
       "\n",
       "    .dataframe tbody tr th {\n",
       "        vertical-align: top;\n",
       "    }\n",
       "\n",
       "    .dataframe thead th {\n",
       "        text-align: right;\n",
       "    }\n",
       "</style>\n",
       "<table border=\"1\" class=\"dataframe\">\n",
       "  <thead>\n",
       "    <tr style=\"text-align: right;\">\n",
       "      <th></th>\n",
       "      <th>Rating</th>\n",
       "      <th>Reviews</th>\n",
       "      <th>Installs</th>\n",
       "      <th>Size</th>\n",
       "      <th>Price</th>\n",
       "      <th>Category_Code</th>\n",
       "      <th>PG_Everyone</th>\n",
       "      <th>PG_Everyone 10+</th>\n",
       "      <th>PG_Mature 17+</th>\n",
       "      <th>PG_Teen</th>\n",
       "      <th>PG_Unrated</th>\n",
       "      <th>pf</th>\n",
       "    </tr>\n",
       "  </thead>\n",
       "  <tbody>\n",
       "    <tr>\n",
       "      <td>Rating</td>\n",
       "      <td>1.000000</td>\n",
       "      <td>0.082724</td>\n",
       "      <td>-0.007408</td>\n",
       "      <td>0.006209</td>\n",
       "      <td>0.057317</td>\n",
       "      <td>-0.024310</td>\n",
       "      <td>-0.000441</td>\n",
       "      <td>-0.004766</td>\n",
       "      <td>-0.014472</td>\n",
       "      <td>0.010547</td>\n",
       "      <td>-0.004079</td>\n",
       "      <td>0.055098</td>\n",
       "    </tr>\n",
       "    <tr>\n",
       "      <td>Reviews</td>\n",
       "      <td>0.082724</td>\n",
       "      <td>1.000000</td>\n",
       "      <td>0.648614</td>\n",
       "      <td>0.259061</td>\n",
       "      <td>-0.094112</td>\n",
       "      <td>0.096049</td>\n",
       "      <td>-0.172287</td>\n",
       "      <td>0.102043</td>\n",
       "      <td>0.029531</td>\n",
       "      <td>0.133112</td>\n",
       "      <td>-0.006437</td>\n",
       "      <td>-0.097465</td>\n",
       "    </tr>\n",
       "    <tr>\n",
       "      <td>Installs</td>\n",
       "      <td>-0.007408</td>\n",
       "      <td>0.648614</td>\n",
       "      <td>1.000000</td>\n",
       "      <td>0.183737</td>\n",
       "      <td>-0.111850</td>\n",
       "      <td>0.066757</td>\n",
       "      <td>-0.121290</td>\n",
       "      <td>0.058840</td>\n",
       "      <td>0.036174</td>\n",
       "      <td>0.094365</td>\n",
       "      <td>-0.003263</td>\n",
       "      <td>-0.112782</td>\n",
       "    </tr>\n",
       "    <tr>\n",
       "      <td>Size</td>\n",
       "      <td>0.006209</td>\n",
       "      <td>0.259061</td>\n",
       "      <td>0.183737</td>\n",
       "      <td>1.000000</td>\n",
       "      <td>0.044991</td>\n",
       "      <td>-0.079546</td>\n",
       "      <td>-0.175812</td>\n",
       "      <td>0.141690</td>\n",
       "      <td>0.008315</td>\n",
       "      <td>0.122466</td>\n",
       "      <td>-0.003255</td>\n",
       "      <td>0.045053</td>\n",
       "    </tr>\n",
       "    <tr>\n",
       "      <td>Price</td>\n",
       "      <td>0.057317</td>\n",
       "      <td>-0.094112</td>\n",
       "      <td>-0.111850</td>\n",
       "      <td>0.044991</td>\n",
       "      <td>1.000000</td>\n",
       "      <td>0.009941</td>\n",
       "      <td>-0.033937</td>\n",
       "      <td>0.053211</td>\n",
       "      <td>0.000903</td>\n",
       "      <td>0.007840</td>\n",
       "      <td>-0.002507</td>\n",
       "      <td>0.989925</td>\n",
       "    </tr>\n",
       "    <tr>\n",
       "      <td>Category_Code</td>\n",
       "      <td>-0.024310</td>\n",
       "      <td>0.096049</td>\n",
       "      <td>0.066757</td>\n",
       "      <td>-0.079546</td>\n",
       "      <td>0.009941</td>\n",
       "      <td>1.000000</td>\n",
       "      <td>0.032414</td>\n",
       "      <td>-0.013537</td>\n",
       "      <td>-0.021618</td>\n",
       "      <td>-0.020913</td>\n",
       "      <td>0.000172</td>\n",
       "      <td>0.012502</td>\n",
       "    </tr>\n",
       "    <tr>\n",
       "      <td>PG_Everyone</td>\n",
       "      <td>-0.000441</td>\n",
       "      <td>-0.172287</td>\n",
       "      <td>-0.121290</td>\n",
       "      <td>-0.175812</td>\n",
       "      <td>-0.033937</td>\n",
       "      <td>0.032414</td>\n",
       "      <td>1.000000</td>\n",
       "      <td>-0.453646</td>\n",
       "      <td>-0.346084</td>\n",
       "      <td>-0.770083</td>\n",
       "      <td>-0.023802</td>\n",
       "      <td>-0.036217</td>\n",
       "    </tr>\n",
       "    <tr>\n",
       "      <td>PG_Everyone 10+</td>\n",
       "      <td>-0.004766</td>\n",
       "      <td>0.102043</td>\n",
       "      <td>0.058840</td>\n",
       "      <td>0.141690</td>\n",
       "      <td>0.053211</td>\n",
       "      <td>-0.013537</td>\n",
       "      <td>-0.453646</td>\n",
       "      <td>1.000000</td>\n",
       "      <td>-0.025985</td>\n",
       "      <td>-0.057819</td>\n",
       "      <td>-0.001787</td>\n",
       "      <td>0.055437</td>\n",
       "    </tr>\n",
       "    <tr>\n",
       "      <td>PG_Mature 17+</td>\n",
       "      <td>-0.014472</td>\n",
       "      <td>0.029531</td>\n",
       "      <td>0.036174</td>\n",
       "      <td>0.008315</td>\n",
       "      <td>0.000903</td>\n",
       "      <td>-0.021618</td>\n",
       "      <td>-0.346084</td>\n",
       "      <td>-0.025985</td>\n",
       "      <td>1.000000</td>\n",
       "      <td>-0.044110</td>\n",
       "      <td>-0.001363</td>\n",
       "      <td>0.000158</td>\n",
       "    </tr>\n",
       "    <tr>\n",
       "      <td>PG_Teen</td>\n",
       "      <td>0.010547</td>\n",
       "      <td>0.133112</td>\n",
       "      <td>0.094365</td>\n",
       "      <td>0.122466</td>\n",
       "      <td>0.007840</td>\n",
       "      <td>-0.020913</td>\n",
       "      <td>-0.770083</td>\n",
       "      <td>-0.057819</td>\n",
       "      <td>-0.044110</td>\n",
       "      <td>1.000000</td>\n",
       "      <td>-0.003034</td>\n",
       "      <td>0.008889</td>\n",
       "    </tr>\n",
       "    <tr>\n",
       "      <td>PG_Unrated</td>\n",
       "      <td>-0.004079</td>\n",
       "      <td>-0.006437</td>\n",
       "      <td>-0.003263</td>\n",
       "      <td>-0.003255</td>\n",
       "      <td>-0.002507</td>\n",
       "      <td>0.000172</td>\n",
       "      <td>-0.023802</td>\n",
       "      <td>-0.001787</td>\n",
       "      <td>-0.001363</td>\n",
       "      <td>-0.003034</td>\n",
       "      <td>1.000000</td>\n",
       "      <td>-0.002533</td>\n",
       "    </tr>\n",
       "    <tr>\n",
       "      <td>pf</td>\n",
       "      <td>0.055098</td>\n",
       "      <td>-0.097465</td>\n",
       "      <td>-0.112782</td>\n",
       "      <td>0.045053</td>\n",
       "      <td>0.989925</td>\n",
       "      <td>0.012502</td>\n",
       "      <td>-0.036217</td>\n",
       "      <td>0.055437</td>\n",
       "      <td>0.000158</td>\n",
       "      <td>0.008889</td>\n",
       "      <td>-0.002533</td>\n",
       "      <td>1.000000</td>\n",
       "    </tr>\n",
       "  </tbody>\n",
       "</table>\n",
       "</div>"
      ],
      "text/plain": [
       "                   Rating   Reviews  Installs      Size     Price  \\\n",
       "Rating           1.000000  0.082724 -0.007408  0.006209  0.057317   \n",
       "Reviews          0.082724  1.000000  0.648614  0.259061 -0.094112   \n",
       "Installs        -0.007408  0.648614  1.000000  0.183737 -0.111850   \n",
       "Size             0.006209  0.259061  0.183737  1.000000  0.044991   \n",
       "Price            0.057317 -0.094112 -0.111850  0.044991  1.000000   \n",
       "Category_Code   -0.024310  0.096049  0.066757 -0.079546  0.009941   \n",
       "PG_Everyone     -0.000441 -0.172287 -0.121290 -0.175812 -0.033937   \n",
       "PG_Everyone 10+ -0.004766  0.102043  0.058840  0.141690  0.053211   \n",
       "PG_Mature 17+   -0.014472  0.029531  0.036174  0.008315  0.000903   \n",
       "PG_Teen          0.010547  0.133112  0.094365  0.122466  0.007840   \n",
       "PG_Unrated      -0.004079 -0.006437 -0.003263 -0.003255 -0.002507   \n",
       "pf               0.055098 -0.097465 -0.112782  0.045053  0.989925   \n",
       "\n",
       "                 Category_Code  PG_Everyone  PG_Everyone 10+  PG_Mature 17+  \\\n",
       "Rating               -0.024310    -0.000441        -0.004766      -0.014472   \n",
       "Reviews               0.096049    -0.172287         0.102043       0.029531   \n",
       "Installs              0.066757    -0.121290         0.058840       0.036174   \n",
       "Size                 -0.079546    -0.175812         0.141690       0.008315   \n",
       "Price                 0.009941    -0.033937         0.053211       0.000903   \n",
       "Category_Code         1.000000     0.032414        -0.013537      -0.021618   \n",
       "PG_Everyone           0.032414     1.000000        -0.453646      -0.346084   \n",
       "PG_Everyone 10+      -0.013537    -0.453646         1.000000      -0.025985   \n",
       "PG_Mature 17+        -0.021618    -0.346084        -0.025985       1.000000   \n",
       "PG_Teen              -0.020913    -0.770083        -0.057819      -0.044110   \n",
       "PG_Unrated            0.000172    -0.023802        -0.001787      -0.001363   \n",
       "pf                    0.012502    -0.036217         0.055437       0.000158   \n",
       "\n",
       "                  PG_Teen  PG_Unrated        pf  \n",
       "Rating           0.010547   -0.004079  0.055098  \n",
       "Reviews          0.133112   -0.006437 -0.097465  \n",
       "Installs         0.094365   -0.003263 -0.112782  \n",
       "Size             0.122466   -0.003255  0.045053  \n",
       "Price            0.007840   -0.002507  0.989925  \n",
       "Category_Code   -0.020913    0.000172  0.012502  \n",
       "PG_Everyone     -0.770083   -0.023802 -0.036217  \n",
       "PG_Everyone 10+ -0.057819   -0.001787  0.055437  \n",
       "PG_Mature 17+   -0.044110   -0.001363  0.000158  \n",
       "PG_Teen          1.000000   -0.003034  0.008889  \n",
       "PG_Unrated      -0.003034    1.000000 -0.002533  \n",
       "pf               0.008889   -0.002533  1.000000  "
      ]
     },
     "execution_count": 71,
     "metadata": {},
     "output_type": "execute_result"
    }
   ],
   "source": [
    "google_df.corr()"
   ]
  },
  {
   "cell_type": "code",
   "execution_count": 72,
   "metadata": {},
   "outputs": [
    {
     "data": {
      "image/png": "[encoded data removed]",
      "text/plain": [
       "<Figure size 720x720 with 2 Axes>"
      ]
     },
     "metadata": {},
     "output_type": "display_data"
    }
   ],
   "source": [
    "plt.figure(figsize=(10, 10))\n",
    "sns.heatmap(google_df.corr(), square=True, annot=True, linewidths=.5)\n",
    "plt.title(\"Correlation of the data\")\n",
    "plt.show()"
   ]
  },
  {
   "cell_type": "markdown",
   "metadata": {},
   "source": [
    "#### Reviews and installs were highly correlated. It is clear that the number of install depends on the number of reviews for the app."
   ]
  },
  {
   "cell_type": "code",
   "execution_count": 73,
   "metadata": {},
   "outputs": [
    {
     "data": {
      "text/html": [
       "<div>\n",
       "<style scoped>\n",
       "    .dataframe tbody tr th:only-of-type {\n",
       "        vertical-align: middle;\n",
       "    }\n",
       "\n",
       "    .dataframe tbody tr th {\n",
       "        vertical-align: top;\n",
       "    }\n",
       "\n",
       "    .dataframe thead th {\n",
       "        text-align: right;\n",
       "    }\n",
       "</style>\n",
       "<table border=\"1\" class=\"dataframe\">\n",
       "  <thead>\n",
       "    <tr style=\"text-align: right;\">\n",
       "      <th></th>\n",
       "      <th>Rating</th>\n",
       "      <th>Reviews</th>\n",
       "      <th>Installs</th>\n",
       "      <th>Size</th>\n",
       "      <th>Price</th>\n",
       "      <th>Content_Rating</th>\n",
       "      <th>Category_Code</th>\n",
       "      <th>PG_Everyone</th>\n",
       "      <th>PG_Everyone 10+</th>\n",
       "      <th>PG_Mature 17+</th>\n",
       "      <th>PG_Teen</th>\n",
       "      <th>PG_Unrated</th>\n",
       "      <th>pf</th>\n",
       "    </tr>\n",
       "  </thead>\n",
       "  <tbody>\n",
       "    <tr>\n",
       "      <td>0</td>\n",
       "      <td>5.0</td>\n",
       "      <td>12.628179</td>\n",
       "      <td>0.001000</td>\n",
       "      <td>0.064713</td>\n",
       "      <td>0.00</td>\n",
       "      <td>Everyone</td>\n",
       "      <td>13</td>\n",
       "      <td>1</td>\n",
       "      <td>0</td>\n",
       "      <td>0</td>\n",
       "      <td>0</td>\n",
       "      <td>0</td>\n",
       "      <td>0</td>\n",
       "    </tr>\n",
       "    <tr>\n",
       "      <td>1</td>\n",
       "      <td>4.0</td>\n",
       "      <td>14.004412</td>\n",
       "      <td>0.002000</td>\n",
       "      <td>0.064713</td>\n",
       "      <td>0.00</td>\n",
       "      <td>Everyone</td>\n",
       "      <td>47</td>\n",
       "      <td>1</td>\n",
       "      <td>0</td>\n",
       "      <td>0</td>\n",
       "      <td>0</td>\n",
       "      <td>0</td>\n",
       "      <td>0</td>\n",
       "    </tr>\n",
       "    <tr>\n",
       "      <td>2</td>\n",
       "      <td>4.0</td>\n",
       "      <td>7.584265</td>\n",
       "      <td>0.000020</td>\n",
       "      <td>0.004034</td>\n",
       "      <td>0.00</td>\n",
       "      <td>Everyone</td>\n",
       "      <td>43</td>\n",
       "      <td>1</td>\n",
       "      <td>0</td>\n",
       "      <td>0</td>\n",
       "      <td>0</td>\n",
       "      <td>0</td>\n",
       "      <td>0</td>\n",
       "    </tr>\n",
       "    <tr>\n",
       "      <td>3</td>\n",
       "      <td>4.0</td>\n",
       "      <td>12.871730</td>\n",
       "      <td>0.002000</td>\n",
       "      <td>0.046109</td>\n",
       "      <td>0.00</td>\n",
       "      <td>Everyone</td>\n",
       "      <td>13</td>\n",
       "      <td>1</td>\n",
       "      <td>0</td>\n",
       "      <td>0</td>\n",
       "      <td>0</td>\n",
       "      <td>0</td>\n",
       "      <td>0</td>\n",
       "    </tr>\n",
       "    <tr>\n",
       "      <td>4</td>\n",
       "      <td>5.0</td>\n",
       "      <td>7.736744</td>\n",
       "      <td>0.000002</td>\n",
       "      <td>0.064713</td>\n",
       "      <td>1.49</td>\n",
       "      <td>Everyone</td>\n",
       "      <td>13</td>\n",
       "      <td>1</td>\n",
       "      <td>0</td>\n",
       "      <td>0</td>\n",
       "      <td>0</td>\n",
       "      <td>0</td>\n",
       "      <td>1</td>\n",
       "    </tr>\n",
       "  </tbody>\n",
       "</table>\n",
       "</div>"
      ],
      "text/plain": [
       "   Rating    Reviews  Installs      Size  Price Content_Rating  Category_Code  \\\n",
       "0     5.0  12.628179  0.001000  0.064713   0.00       Everyone             13   \n",
       "1     4.0  14.004412  0.002000  0.064713   0.00       Everyone             47   \n",
       "2     4.0   7.584265  0.000020  0.004034   0.00       Everyone             43   \n",
       "3     4.0  12.871730  0.002000  0.046109   0.00       Everyone             13   \n",
       "4     5.0   7.736744  0.000002  0.064713   1.49       Everyone             13   \n",
       "\n",
       "   PG_Everyone  PG_Everyone 10+  PG_Mature 17+  PG_Teen  PG_Unrated  pf  \n",
       "0            1                0              0        0           0   0  \n",
       "1            1                0              0        0           0   0  \n",
       "2            1                0              0        0           0   0  \n",
       "3            1                0              0        0           0   0  \n",
       "4            1                0              0        0           0   1  "
      ]
     },
     "execution_count": 73,
     "metadata": {},
     "output_type": "execute_result"
    }
   ],
   "source": [
    "google_df.head()"
   ]
  },
  {
   "cell_type": "markdown",
   "metadata": {},
   "source": [
    "## Model Preparation for Machine Learning."
   ]
  },
  {
   "cell_type": "code",
   "execution_count": null,
   "metadata": {},
   "outputs": [],
   "source": [
    "#Assigning X and Y for the model\n",
    "\n",
    "features = ['Reviews','Installs','Size','Price',\n",
    "            'Category_Code','pf']\n",
    "X = google_df[features]\n",
    "y = google_df[['Rating']]"
   ]
  },
  {
   "cell_type": "code",
   "execution_count": null,
   "metadata": {},
   "outputs": [],
   "source": []
  }
 ],
 "metadata": {
  "colab": {
   "name": "Copy of Supervised Capstone.ipynb",
   "provenance": []
  },
  "kernelspec": {
   "display_name": "Python 3",
   "language": "python",
   "name": "python3"
  },
  "language_info": {
   "codemirror_mode": {
    "name": "ipython",
    "version": 3
   },
   "file_extension": ".py",
   "mimetype": "text/x-python",
   "name": "python",
   "nbconvert_exporter": "python",
   "pygments_lexer": "ipython3",
   "version": "3.7.4"
  }
 },
 "nbformat": 4,
 "nbformat_minor": 1
}
